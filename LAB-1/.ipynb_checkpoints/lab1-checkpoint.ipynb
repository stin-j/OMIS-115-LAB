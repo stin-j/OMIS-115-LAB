{
 "cells": [
  {
   "cell_type": "markdown",
   "id": "ebba4911",
   "metadata": {},
   "source": [
    "# General Preamble Code"
   ]
  },
  {
   "cell_type": "code",
   "execution_count": 1,
   "id": "1e963998",
   "metadata": {},
   "outputs": [],
   "source": [
    "\n",
    "import numpy as np\n",
    "import matplotlib.pyplot as plt\n",
    "import pandas as pd\n",
    "import mglearn\n",
    "from IPython.display import display\n"
   ]
  },
  {
   "cell_type": "markdown",
   "id": "1b159884",
   "metadata": {},
   "source": [
    "# Additional Import Code for dataset W"
   ]
  },
  {
   "cell_type": "code",
   "execution_count": 2,
   "id": "3ceb81b7",
   "metadata": {},
   "outputs": [],
   "source": [
    "from ucimlrepo import fetch_ucirepo \n",
    "# fetch dataset \n",
    "wine_quality = fetch_ucirepo(id=186) \n",
    "# data (as pandas dataframes) \n",
    "X = wine_quality.data.features \n",
    "y = wine_quality.data.targets['quality']\n"
   ]
  },
  {
   "cell_type": "markdown",
   "id": "19b9590f",
   "metadata": {},
   "source": [
    "# Question 1: \n",
    "## How many red and white wines are in the dataset W?"
   ]
  },
  {
   "cell_type": "code",
   "execution_count": 3,
   "id": "e6849afe",
   "metadata": {},
   "outputs": [
    {
     "data": {
      "text/plain": [
       "color\n",
       "white    4898\n",
       "red      1599\n",
       "Name: count, dtype: int64"
      ]
     },
     "metadata": {},
     "output_type": "display_data"
    }
   ],
   "source": [
    "wine_counts = wine_quality.data.original['color'].value_counts()\n",
    "display(wine_counts)"
   ]
  },
  {
   "cell_type": "markdown",
   "id": "2b38285c",
   "metadata": {},
   "source": [
    "# Question 2:\n",
    "## Let’s model quality as a “classification” problem first– where a wine could be classified into 10-point-scale quality integer score. \n",
    "### a. What is the raw KNN score if you did a standard 75%/25% train/test split on the wine quality prediction with 1 neighbor? "
   ]
  },
  {
   "cell_type": "code",
   "execution_count": null,
   "id": "07dd907c",
   "metadata": {},
   "outputs": [],
   "source": []
  },
  {
   "cell_type": "markdown",
   "id": "b4de8ac6",
   "metadata": {},
   "source": [
    "### b. How does it change with 3 neighbors? "
   ]
  },
  {
   "cell_type": "code",
   "execution_count": null,
   "id": "36fa5634",
   "metadata": {},
   "outputs": [],
   "source": []
  },
  {
   "cell_type": "markdown",
   "id": "6632c17d",
   "metadata": {},
   "source": [
    "### c. With 5 neighbors?"
   ]
  },
  {
   "cell_type": "markdown",
   "id": "0d546e68",
   "metadata": {},
   "source": []
  },
  {
   "cell_type": "markdown",
   "id": "3da8b943",
   "metadata": {},
   "source": [
    "# Question 3\n",
    "## Let’s model quality as a “regression” problem now– where a wine could get a floating point quality score (no rounding) on a 10-point-scale quality score. \n",
    "### a. What is the raw KNN score if you did a standard 75%/25% train/test split on the wine quality prediction with 1 neighbor? \n"
   ]
  },
  {
   "cell_type": "code",
   "execution_count": null,
   "id": "7d9b1911",
   "metadata": {},
   "outputs": [],
   "source": []
  },
  {
   "cell_type": "markdown",
   "id": "67186560",
   "metadata": {},
   "source": [
    "### b. With 3 neighbors?"
   ]
  },
  {
   "cell_type": "code",
   "execution_count": null,
   "id": "3e3e7c38",
   "metadata": {},
   "outputs": [],
   "source": []
  },
  {
   "cell_type": "markdown",
   "id": "8ce9eb20",
   "metadata": {},
   "source": [
    "### c. With 5 neighbors?"
   ]
  },
  {
   "cell_type": "code",
   "execution_count": null,
   "id": "b50a9a1a",
   "metadata": {},
   "outputs": [],
   "source": []
  },
  {
   "cell_type": "markdown",
   "id": "3a641650",
   "metadata": {},
   "source": [
    "### d. At how many neighbors does the R-square hit its highest level?"
   ]
  },
  {
   "cell_type": "markdown",
   "id": "da172fb5",
   "metadata": {},
   "source": []
  },
  {
   "cell_type": "markdown",
   "id": "a6839f85",
   "metadata": {},
   "source": [
    "# Question 4: \n",
    "## Now split red and white wines apart in the dataset and run KNNs again (you will have to do new test and train splits with random_state=0). Answer 2 and 3 again with this data split apart. Report your numbers for 2-4 in a table."
   ]
  },
  {
   "cell_type": "code",
   "execution_count": null,
   "id": "42f4b632",
   "metadata": {},
   "outputs": [],
   "source": []
  },
  {
   "cell_type": "markdown",
   "id": "13d43f15",
   "metadata": {},
   "source": [
    "# Question 5:\n",
    "## Does KNN Classifier treat Wine Quality like a nominal or ordinal variable? What about the KNN Regressor? Comment on each approach’s suitability based on this."
   ]
  },
  {
   "cell_type": "code",
   "execution_count": null,
   "id": "9c956db3",
   "metadata": {},
   "outputs": [],
   "source": []
  },
  {
   "cell_type": "markdown",
   "id": "7dbe82fd",
   "metadata": {},
   "source": [
    "# Question 6:\n",
    "## Visualize the “quality” variable in the overall dataset in terms of distribution across scores. Is there a class imbalance in this distribution? Does it imply that classification is likely to work better or regression? Why?"
   ]
  },
  {
   "cell_type": "code",
   "execution_count": null,
   "id": "dc9ff089",
   "metadata": {},
   "outputs": [],
   "source": []
  },
  {
   "cell_type": "markdown",
   "id": "1e7498d4",
   "metadata": {},
   "source": [
    "# Question 7:\n",
    "## Research feature scaling. Does the fact that feature scaling was not allowed impact the results of the KNN classifier? Why or why not?"
   ]
  },
  {
   "cell_type": "code",
   "execution_count": null,
   "id": "4a415134",
   "metadata": {},
   "outputs": [],
   "source": []
  },
  {
   "cell_type": "markdown",
   "id": "31ac97fd",
   "metadata": {},
   "source": [
    "# Question 8:\n",
    "## How do you compare the “accuracy” score in the classifier with the “R-squared” score in the regressor? What might be a rule-of-thumb that will help you compare these evaluation metrics across the two algorithms? "
   ]
  },
  {
   "cell_type": "code",
   "execution_count": null,
   "id": "72f55653",
   "metadata": {},
   "outputs": [],
   "source": []
  },
  {
   "cell_type": "markdown",
   "id": "b09c0eb1",
   "metadata": {},
   "source": [
    "# Question 9:\n",
    "## What do you observe on the difference between modeling this as a classification versus a regression problem across 1-4? \n",
    "### a. Was there a big difference as one color was removed? What does this tell you? "
   ]
  },
  {
   "cell_type": "code",
   "execution_count": null,
   "id": "087bf615",
   "metadata": {},
   "outputs": [],
   "source": []
  },
  {
   "cell_type": "markdown",
   "id": "2dac57c7",
   "metadata": {},
   "source": [
    "### b. As the number of neighbors increases, which approach improves? Why do you think both these things are happening?"
   ]
  },
  {
   "cell_type": "code",
   "execution_count": null,
   "id": "fd37aa1e",
   "metadata": {},
   "outputs": [],
   "source": []
  }
 ],
 "metadata": {
  "kernelspec": {
   "display_name": "base",
   "language": "python",
   "name": "python3"
  },
  "language_info": {
   "codemirror_mode": {
    "name": "ipython",
    "version": 3
   },
   "file_extension": ".py",
   "mimetype": "text/x-python",
   "name": "python",
   "nbconvert_exporter": "python",
   "pygments_lexer": "ipython3",
   "version": "3.10.9"
  }
 },
 "nbformat": 4,
 "nbformat_minor": 5
}
