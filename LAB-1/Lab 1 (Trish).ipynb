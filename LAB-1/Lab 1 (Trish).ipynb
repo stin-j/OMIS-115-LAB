{
 "cells": [
  {
   "cell_type": "code",
   "execution_count": 23,
   "id": "076b55e2-f742-424b-9308-e3a59977d1a1",
   "metadata": {},
   "outputs": [],
   "source": [
    "import numpy as np\n",
    "import matplotlib.pyplot as plt\n",
    "import pandas as pd\n",
    "import mglearn\n",
    "from IPython.display import display"
   ]
  },
  {
   "cell_type": "code",
   "execution_count": 25,
   "id": "5fbf0729-50f7-41ba-8d2f-b5ded2b15458",
   "metadata": {},
   "outputs": [],
   "source": [
    "from ucimlrepo import fetch_ucirepo \n",
    "# fetch dataset \n",
    "wine_quality = fetch_ucirepo(id=186) \n",
    "# data (as pandas dataframes) \n",
    "X = wine_quality.data.features \n",
    "y = wine_quality.data.targets['quality']"
   ]
  },
  {
   "cell_type": "code",
   "execution_count": 26,
   "id": "cd41860d-fac3-46ec-9140-4230f1cce0d3",
   "metadata": {},
   "outputs": [],
   "source": [
    "# number 6 visual"
   ]
  },
  {
   "cell_type": "code",
   "execution_count": 66,
   "id": "b7b1ac5a-86b8-49b1-8d63-22711a78ee36",
   "metadata": {},
   "outputs": [
    {
     "name": "stdout",
     "output_type": "stream",
     "text": [
      "the graph is down and we can see that there is data imbalance (or whatever it's called) but im wondering now if we can spread the data out or maybe use another graph\n"
     ]
    },
    {
     "data": {
      "image/png": "[encoded data removed]",
      "text/plain": [
       "<Figure size 640x480 with 1 Axes>"
      ]
     },
     "metadata": {},
     "output_type": "display_data"
    }
   ],
   "source": [
    "X, y = wine_quality.data.features, wine_quality.data.targets['quality']\n",
    "plt.plot(X, y, 'o')\n",
    "plt.ylim(3, 9)\n",
    "plt.xlabel(\"Wine\")\n",
    "plt.ylabel(\"Quality\")\n",
    "\n",
    "print (\"the graph is down and we can see that there is data imbalance (or whatever it's called) but im wondering now if we can spread the data out or maybe use another graph\")"
   ]
  },
  {
   "cell_type": "code",
   "execution_count": 43,
   "id": "460b9bda-39e4-42e0-a471-3c71b5e164ca",
   "metadata": {},
   "outputs": [],
   "source": [
    "# number 8"
   ]
  },
  {
   "cell_type": "code",
   "execution_count": 46,
   "id": "0c3e6ab4-9e48-41d7-bce3-a1d74c53f8a9",
   "metadata": {},
   "outputs": [
    {
     "name": "stdout",
     "output_type": "stream",
     "text": [
      "with this specific dataset, the \"accuracy\" score with the classifier is less reliable and relevant when comparing the metrics with \"R-squared\" score in the regressor\n"
     ]
    }
   ],
   "source": [
    "print('with this specific dataset, the \"accuracy\" score with the classifier is less reliable and relevant when comparing the metrics with \"R-squared\" score in the regressor')"
   ]
  },
  {
   "cell_type": "code",
   "execution_count": 55,
   "id": "8d7739d2-85e1-44f3-93d2-c3f52aef3b48",
   "metadata": {},
   "outputs": [
    {
     "name": "stdout",
     "output_type": "stream",
     "text": [
      "the accuracy score in the classifier talks about how accurate it will be when classifying values that don't have qualitative value, like color, but we are trying to find out more about how it will treat the quality of the wine, which is a qualitative factor. It pertains to how accurate the sorting of these are.\n"
     ]
    }
   ],
   "source": [
    "print(\"the accuracy score in the classifier talks about how accurate it will be when classifying values that don't have qualitative value, like color, but we are trying to find out more about how it will treat the quality of the wine, which is a qualitative factor. It pertains to how accurate the sorting of these are.\")"
   ]
  },
  {
   "cell_type": "code",
   "execution_count": 56,
   "id": "74314656-d16b-41a7-9c03-4bcc0bed5b11",
   "metadata": {},
   "outputs": [
    {
     "name": "stdout",
     "output_type": "stream",
     "text": [
      "because of this, in this case it would be better to focus on the \"R-squared\" score in the regressor, which reveals how much of the variance in the model regarding something quantitative like quality, can be explained by the regression model. It helps ultimately show the strength of the prediction of the data to the actual data presented\n"
     ]
    }
   ],
   "source": [
    "print('because of this, in this case it would be better to focus on the \"R-squared\" score in the regressor, which reveals how much of the variance in the model regarding something quantitative like quality, can be explained by the regression model. It helps ultimately show the strength of the prediction of the data to the actual data presented')"
   ]
  },
  {
   "cell_type": "code",
   "execution_count": 53,
   "id": "203e2268-2aca-41bb-a344-108476bf6e92",
   "metadata": {},
   "outputs": [
    {
     "name": "stdout",
     "output_type": "stream",
     "text": [
      "a good rule of thumb is to pay more attention to the classifier when looking at problems regarding qualitative data while looking at the \"R-squared\" score to talk about quantitative problems\n"
     ]
    }
   ],
   "source": [
    "print('a good rule of thumb is to pay more attention to the classifier when looking at problems regarding qualitative data while looking at the \"R-squared\" score to talk about quantitative problems')"
   ]
  }
 ],
 "metadata": {
  "kernelspec": {
   "display_name": "Python 3 (ipykernel)",
   "language": "python",
   "name": "python3"
  },
  "language_info": {
   "codemirror_mode": {
    "name": "ipython",
    "version": 3
   },
   "file_extension": ".py",
   "mimetype": "text/x-python",
   "name": "python",
   "nbconvert_exporter": "python",
   "pygments_lexer": "ipython3",
   "version": "3.13.5"
  }
 },
 "nbformat": 4,
 "nbformat_minor": 5
}
