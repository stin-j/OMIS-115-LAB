{
 "cells": [
  {
   "cell_type": "markdown",
   "id": "11ab4ca3",
   "metadata": {},
   "source": [
    "# General Preamble Code"
   ]
  },
  {
   "cell_type": "code",
   "execution_count": 1,
   "id": "e7f46261-35e3-46c7-9599-e92399ebfd1c",
   "metadata": {},
   "outputs": [],
   "source": [
    "import numpy as np\n",
    "import matplotlib.pyplot as plt\n",
    "import pandas as pd\n",
    "import mglearn\n",
    "from IPython.display import display"
   ]
  },
  {
   "cell_type": "markdown",
   "id": "51526598",
   "metadata": {},
   "source": [
    "# Additional Import Code for dataset W"
   ]
  },
  {
   "cell_type": "code",
   "execution_count": 2,
   "id": "926ee4e9-5374-40c7-aef9-2cea33c84cac",
   "metadata": {},
   "outputs": [],
   "source": [
    "from ucimlrepo import fetch_ucirepo \n",
    "# fetch dataset \n",
    "wine_quality = fetch_ucirepo(id=186) \n",
    "# data (as pandas dataframes) \n",
    "X = wine_quality.data.features \n",
    "y = wine_quality.data.targets['quality']"
   ]
  },
  {
   "cell_type": "code",
   "execution_count": null,
   "id": "5a899464-e501-475a-be3e-4a0c75776d97",
   "metadata": {},
   "outputs": [
    {
     "name": "stdout",
     "output_type": "stream",
     "text": [
      "{'ids': None, 'features':       fixed_acidity  volatile_acidity  citric_acid  residual_sugar  chlorides  \\\n",
      "0               7.4              0.70         0.00             1.9      0.076   \n",
      "1               7.8              0.88         0.00             2.6      0.098   \n",
      "2               7.8              0.76         0.04             2.3      0.092   \n",
      "3              11.2              0.28         0.56             1.9      0.075   \n",
      "4               7.4              0.70         0.00             1.9      0.076   \n",
      "...             ...               ...          ...             ...        ...   \n",
      "6492            6.2              0.21         0.29             1.6      0.039   \n",
      "6493            6.6              0.32         0.36             8.0      0.047   \n",
      "6494            6.5              0.24         0.19             1.2      0.041   \n",
      "6495            5.5              0.29         0.30             1.1      0.022   \n",
      "6496            6.0              0.21         0.38             0.8      0.020   \n",
      "\n",
      "      free_sulfur_dioxide  total_sulfur_dioxide  density    pH  sulphates  \\\n",
      "0                    11.0                  34.0  0.99780  3.51       0.56   \n",
      "1                    25.0                  67.0  0.99680  3.20       0.68   \n",
      "2                    15.0                  54.0  0.99700  3.26       0.65   \n",
      "3                    17.0                  60.0  0.99800  3.16       0.58   \n",
      "4                    11.0                  34.0  0.99780  3.51       0.56   \n",
      "...                   ...                   ...      ...   ...        ...   \n",
      "6492                 24.0                  92.0  0.99114  3.27       0.50   \n",
      "6493                 57.0                 168.0  0.99490  3.15       0.46   \n",
      "6494                 30.0                 111.0  0.99254  2.99       0.46   \n",
      "6495                 20.0                 110.0  0.98869  3.34       0.38   \n",
      "6496                 22.0                  98.0  0.98941  3.26       0.32   \n",
      "\n",
      "      alcohol  \n",
      "0         9.4  \n",
      "1         9.8  \n",
      "2         9.8  \n",
      "3         9.8  \n",
      "4         9.4  \n",
      "...       ...  \n",
      "6492     11.2  \n",
      "6493      9.6  \n",
      "6494      9.4  \n",
      "6495     12.8  \n",
      "6496     11.8  \n",
      "\n",
      "[6497 rows x 11 columns], 'targets':       quality\n",
      "0           5\n",
      "1           5\n",
      "2           5\n",
      "3           6\n",
      "4           5\n",
      "...       ...\n",
      "6492        6\n",
      "6493        5\n",
      "6494        6\n",
      "6495        7\n",
      "6496        6\n",
      "\n",
      "[6497 rows x 1 columns], 'original':       fixed_acidity  volatile_acidity  citric_acid  residual_sugar  chlorides  \\\n",
      "0               7.4              0.70         0.00             1.9      0.076   \n",
      "1               7.8              0.88         0.00             2.6      0.098   \n",
      "2               7.8              0.76         0.04             2.3      0.092   \n",
      "3              11.2              0.28         0.56             1.9      0.075   \n",
      "4               7.4              0.70         0.00             1.9      0.076   \n",
      "...             ...               ...          ...             ...        ...   \n",
      "6492            6.2              0.21         0.29             1.6      0.039   \n",
      "6493            6.6              0.32         0.36             8.0      0.047   \n",
      "6494            6.5              0.24         0.19             1.2      0.041   \n",
      "6495            5.5              0.29         0.30             1.1      0.022   \n",
      "6496            6.0              0.21         0.38             0.8      0.020   \n",
      "\n",
      "      free_sulfur_dioxide  total_sulfur_dioxide  density    pH  sulphates  \\\n",
      "0                    11.0                  34.0  0.99780  3.51       0.56   \n",
      "1                    25.0                  67.0  0.99680  3.20       0.68   \n",
      "2                    15.0                  54.0  0.99700  3.26       0.65   \n",
      "3                    17.0                  60.0  0.99800  3.16       0.58   \n",
      "4                    11.0                  34.0  0.99780  3.51       0.56   \n",
      "...                   ...                   ...      ...   ...        ...   \n",
      "6492                 24.0                  92.0  0.99114  3.27       0.50   \n",
      "6493                 57.0                 168.0  0.99490  3.15       0.46   \n",
      "6494                 30.0                 111.0  0.99254  2.99       0.46   \n",
      "6495                 20.0                 110.0  0.98869  3.34       0.38   \n",
      "6496                 22.0                  98.0  0.98941  3.26       0.32   \n",
      "\n",
      "      alcohol  quality  color  \n",
      "0         9.4        5    red  \n",
      "1         9.8        5    red  \n",
      "2         9.8        5    red  \n",
      "3         9.8        6    red  \n",
      "4         9.4        5    red  \n",
      "...       ...      ...    ...  \n",
      "6492     11.2        6  white  \n",
      "6493      9.6        5  white  \n",
      "6494      9.4        6  white  \n",
      "6495     12.8        7  white  \n",
      "6496     11.8        6  white  \n",
      "\n",
      "[6497 rows x 13 columns], 'headers': Index(['fixed_acidity', 'volatile_acidity', 'citric_acid', 'residual_sugar',\n",
      "       'chlorides', 'free_sulfur_dioxide', 'total_sulfur_dioxide', 'density',\n",
      "       'pH', 'sulphates', 'alcohol', 'quality', 'color'],\n",
      "      dtype='object')}\n"
     ]
    }
   ],
   "source": [
    "# test\n",
    "print(wine_quality.data)"
   ]
  },
  {
   "cell_type": "markdown",
   "id": "93db3e2e",
   "metadata": {},
   "source": [
    "# Question 1\n",
    "## How many red and white wines are in the dataset W?"
   ]
  },
  {
   "cell_type": "code",
   "execution_count": 4,
   "id": "c3530613-3d7a-4ad6-9d34-a6b30e80bad5",
   "metadata": {},
   "outputs": [
    {
     "name": "stdout",
     "output_type": "stream",
     "text": [
      "############ Assignment 1 Question 1 BEGIN ############\n",
      "color\n",
      "white    4898\n",
      "red      1599\n",
      "Name: count, dtype: int64\n",
      "############ Assignment 1 Question 1 END ############\n"
     ]
    }
   ],
   "source": [
    "print(\"############ Assignment 1 Question 1 BEGIN ############\")\n",
    "print(wine_quality.data.original['color'].value_counts())\n",
    "print(\"############ Assignment 1 Question 1 END ############\")"
   ]
  },
  {
   "cell_type": "markdown",
   "id": "2beef8c9",
   "metadata": {},
   "source": [
    "# Question 2\n",
    "## Let’s model quality as a “classification” problem first– where a wine could be classified into 10-point-scale quality integer score. "
   ]
  },
  {
   "cell_type": "code",
   "execution_count": 5,
   "id": "003512f5",
   "metadata": {},
   "outputs": [
    {
     "name": "stdout",
     "output_type": "stream",
     "text": [
      "############ Assignment 1 Question 2 BEGIN ############\n"
     ]
    }
   ],
   "source": [
    "print(\"############ Assignment 1 Question 2 BEGIN ############\")\n",
    "from sklearn.model_selection import train_test_split\n",
    "X_train, X_test, y_train, y_test = train_test_split(X, y, test_size=0.25, train_size=0.75, random_state=0)\n",
    "from sklearn.neighbors import KNeighborsClassifier"
   ]
  },
  {
   "cell_type": "markdown",
   "id": "ab928753",
   "metadata": {},
   "source": [
    "## 2a. What is the raw KNN score if you did a standard 75%/25% train/test split on the wine quality prediction with 1 neighbor? "
   ]
  },
  {
   "cell_type": "code",
   "execution_count": 6,
   "id": "903c9935-4930-4246-8bcc-0ea4032b3a72",
   "metadata": {},
   "outputs": [
    {
     "name": "stdout",
     "output_type": "stream",
     "text": [
      "############ Assignment 1 Question 2a BEGIN ############\n",
      "Test set predictions: [6 6 6 ... 5 6 5]\n",
      "Test set accuracy: 0.58\n",
      "############ Assignment 1 Question 2a END ############\n"
     ]
    }
   ],
   "source": [
    "print(\"############ Assignment 1 Question 2a BEGIN ############\")\n",
    "clf = KNeighborsClassifier(n_neighbors=1)\n",
    "clf.fit(X_train, y_train)\n",
    "print(\"Test set predictions:\", clf.predict(X_test))\n",
    "print(\"Test set accuracy: {:.2f}\".format(clf.score(X_test, y_test)))\n",
    "print(\"############ Assignment 1 Question 2a END ############\")"
   ]
  },
  {
   "cell_type": "markdown",
   "id": "f2eb512c",
   "metadata": {},
   "source": [
    "## 2b. How does it change with 3 neighbors? "
   ]
  },
  {
   "cell_type": "code",
   "execution_count": 7,
   "id": "900783a8-1118-4eb4-a3be-cb1a55951d46",
   "metadata": {},
   "outputs": [
    {
     "name": "stdout",
     "output_type": "stream",
     "text": [
      "############ Assignment 1 Question 2b BEGIN ############\n",
      "Test set predictions: [6 6 6 ... 5 6 6]\n",
      "Test set accuracy: 0.48\n",
      "############ Assignment 1 Question 2b END ############\n"
     ]
    }
   ],
   "source": [
    "print(\"############ Assignment 1 Question 2b BEGIN ############\")\n",
    "clf = KNeighborsClassifier(n_neighbors=3)\n",
    "clf.fit(X_train, y_train)\n",
    "print(\"Test set predictions:\", clf.predict(X_test))\n",
    "print(\"Test set accuracy: {:.2f}\".format(clf.score(X_test, y_test)))\n",
    "print(\"############ Assignment 1 Question 2b END ############\")"
   ]
  },
  {
   "cell_type": "markdown",
   "id": "1d891da0",
   "metadata": {},
   "source": [
    "## 2c. With 5 neighbors?"
   ]
  },
  {
   "cell_type": "code",
   "execution_count": 8,
   "id": "bd30784a-4f65-41a7-a529-d72aa46c609a",
   "metadata": {},
   "outputs": [
    {
     "name": "stdout",
     "output_type": "stream",
     "text": [
      "############ Assignment 1 Question 2c BEGIN ############\n",
      "Test set predictions: [6 6 6 ... 6 6 6]\n",
      "Test set accuracy: 0.48\n",
      "############ Assignment 1 Question 2c END ############\n",
      "############ Assignment 1 Question 2 END ############\n"
     ]
    }
   ],
   "source": [
    "print(\"############ Assignment 1 Question 2c BEGIN ############\")\n",
    "clf = KNeighborsClassifier(n_neighbors=5)\n",
    "clf.fit(X_train, y_train)\n",
    "print(\"Test set predictions:\", clf.predict(X_test))\n",
    "print(\"Test set accuracy: {:.2f}\".format(clf.score(X_test, y_test)))\n",
    "\n",
    "print(\"############ Assignment 1 Question 2c END ############\")\n",
    "print(\"############ Assignment 1 Question 2 END ############\")"
   ]
  },
  {
   "cell_type": "markdown",
   "id": "42295b4e",
   "metadata": {},
   "source": [
    "# Question 3\n",
    "## Let’s model quality as a “regression” problem now– where a wine could get a floating point quality score (no rounding) on a 10-point-scale quality score. "
   ]
  },
  {
   "cell_type": "code",
   "execution_count": 9,
   "id": "ab2ea11d-08bc-4847-80cf-1cb8ce1dec3d",
   "metadata": {},
   "outputs": [
    {
     "name": "stdout",
     "output_type": "stream",
     "text": [
      "############ Assignment 1 Question 3 BEGIN ############\n"
     ]
    }
   ],
   "source": [
    "print(\"############ Assignment 1 Question 3 BEGIN ############\")\n",
    "from sklearn.neighbors import KNeighborsRegressor\n",
    "X_train, X_test, y_train, y_test = train_test_split(X, y, test_size=0.25, train_size=0.75, random_state=0)"
   ]
  },
  {
   "cell_type": "markdown",
   "id": "dbdb1c50",
   "metadata": {},
   "source": [
    "## 3a. What is the raw KNN score if you did a standard 75%/25% train/test split on the wine quality prediction with 1 neighbor? "
   ]
  },
  {
   "cell_type": "code",
   "execution_count": 10,
   "id": "e7786815-5b29-4ccf-b884-6e8cf954f810",
   "metadata": {},
   "outputs": [
    {
     "name": "stdout",
     "output_type": "stream",
     "text": [
      "############ Assignment 1 Question 3a BEGIN ############\n",
      "Test set predictions:\n",
      " [6. 6. 6. ... 5. 6. 5.]\n",
      "Test set R^2: -0.02\n",
      "############ Assignment 1 Question 3a END ############\n"
     ]
    }
   ],
   "source": [
    "print(\"############ Assignment 1 Question 3a BEGIN ############\")\n",
    "reg = KNeighborsRegressor(n_neighbors=1)\n",
    "reg.fit(X_train, y_train)\n",
    "print(\"Test set predictions:\\n\", reg.predict(X_test))\n",
    "print(\"Test set R^2: {:.2f}\".format(reg.score(X_test, y_test)))\n",
    "print(\"############ Assignment 1 Question 3a END ############\")"
   ]
  },
  {
   "cell_type": "markdown",
   "id": "6a7c2424",
   "metadata": {},
   "source": [
    "## 3b. With 3 neighbors?"
   ]
  },
  {
   "cell_type": "code",
   "execution_count": 11,
   "id": "24662b52-7a7b-432c-9195-572cf86e9952",
   "metadata": {},
   "outputs": [
    {
     "name": "stdout",
     "output_type": "stream",
     "text": [
      "############ Assignment 1 Question 3b BEGIN ############\n",
      "Test set predictions:\n",
      " [5.66666667 6.         6.         ... 5.33333333 6.         5.66666667]\n",
      "Test set R^2: 0.10\n",
      "############ Assignment 1 Question 3b END ############\n"
     ]
    }
   ],
   "source": [
    "print(\"############ Assignment 1 Question 3b BEGIN ############\")\n",
    "reg = KNeighborsRegressor(n_neighbors=3)\n",
    "reg.fit(X_train, y_train)\n",
    "print(\"Test set predictions:\\n\", reg.predict(X_test))\n",
    "print(\"Test set R^2: {:.2f}\".format(reg.score(X_test, y_test)))\n",
    "print(\"############ Assignment 1 Question 3b END ############\")"
   ]
  },
  {
   "cell_type": "markdown",
   "id": "ee25d80f",
   "metadata": {},
   "source": [
    "## 3c. With 5 neighbors?"
   ]
  },
  {
   "cell_type": "code",
   "execution_count": 12,
   "id": "b3c1c9d9-3c29-4223-9a0e-c3fe0758ba6a",
   "metadata": {},
   "outputs": [
    {
     "name": "stdout",
     "output_type": "stream",
     "text": [
      "############ Assignment 1 Question 3c BEGIN ############\n",
      "Test set predictions:\n",
      " [5.6 6.4 5.6 ... 5.6 6.  5.6]\n",
      "Test set R^2: 0.14\n",
      "############ Assignment 1 Question 3c END ############\n"
     ]
    }
   ],
   "source": [
    "print(\"############ Assignment 1 Question 3c BEGIN ############\")\n",
    "reg = KNeighborsRegressor(n_neighbors=5)\n",
    "reg.fit(X_train, y_train)\n",
    "print(\"Test set predictions:\\n\", reg.predict(X_test))\n",
    "print(\"Test set R^2: {:.2f}\".format(reg.score(X_test, y_test)))\n",
    "print(\"############ Assignment 1 Question 3c END ############\")"
   ]
  },
  {
   "cell_type": "markdown",
   "id": "e18d645d",
   "metadata": {},
   "source": [
    "## 3d. At how many neighbors does the R-square hit its highest level?"
   ]
  },
  {
   "cell_type": "code",
   "execution_count": 13,
   "id": "07411219-86d4-4792-a0bf-c57afd952f18",
   "metadata": {},
   "outputs": [
    {
     "name": "stdout",
     "output_type": "stream",
     "text": [
      "############ Assignment 1 Question 3d BEGIN ############\n",
      "At 5 neighbors, the R-square hit its highest level.\n",
      "############ Assignment 1 Question 3d END ############\n"
     ]
    }
   ],
   "source": [
    "print(\"############ Assignment 1 Question 3d BEGIN ############\")\n",
    "print(\"At 5 neighbors, the R-square hit its highest level.\")\n",
    "print(\"############ Assignment 1 Question 3d END ############\")"
   ]
  },
  {
   "cell_type": "markdown",
   "id": "2e07a287",
   "metadata": {},
   "source": [
    "# Question 4\n",
    "## Now split red and white wines apart in the dataset and run KNNs again (you will have to do new test and train splits with random_state=0). Answer 2 and 3 again with this data split apart. Report your numbers for 2-4 in a table."
   ]
  },
  {
   "cell_type": "code",
   "execution_count": null,
   "id": "ecdcf4d1-7c11-42a9-95ed-c27d930a4b5d",
   "metadata": {},
   "outputs": [
    {
     "name": "stdout",
     "output_type": "stream",
     "text": [
      "############ Assignment 1 Question 4 BEGIN ############\n"
     ]
    },
    {
     "data": {
      "text/html": [
       "<div>\n",
       "<style scoped>\n",
       "    .dataframe tbody tr th:only-of-type {\n",
       "        vertical-align: middle;\n",
       "    }\n",
       "\n",
       "    .dataframe tbody tr th {\n",
       "        vertical-align: top;\n",
       "    }\n",
       "\n",
       "    .dataframe thead th {\n",
       "        text-align: right;\n",
       "    }\n",
       "</style>\n",
       "<table border=\"1\" class=\"dataframe\">\n",
       "  <thead>\n",
       "    <tr style=\"text-align: right;\">\n",
       "      <th></th>\n",
       "      <th>Color</th>\n",
       "      <th>KNN Classifier (k=1)</th>\n",
       "      <th>KNN Classifier (k=3)</th>\n",
       "      <th>KNN Classifier (k=5)</th>\n",
       "      <th>KNN Regressor (k=1)</th>\n",
       "      <th>KNN Regressor (k=3)</th>\n",
       "      <th>KNN Regressor (k=5)</th>\n",
       "    </tr>\n",
       "  </thead>\n",
       "  <tbody>\n",
       "    <tr>\n",
       "      <th>0</th>\n",
       "      <td>Red</td>\n",
       "      <td>0.60000</td>\n",
       "      <td>0.480000</td>\n",
       "      <td>0.470000</td>\n",
       "      <td>-0.251649</td>\n",
       "      <td>0.056946</td>\n",
       "      <td>0.132845</td>\n",
       "    </tr>\n",
       "    <tr>\n",
       "      <th>1</th>\n",
       "      <td>White</td>\n",
       "      <td>0.54449</td>\n",
       "      <td>0.466939</td>\n",
       "      <td>0.459592</td>\n",
       "      <td>-0.142143</td>\n",
       "      <td>0.096386</td>\n",
       "      <td>0.109148</td>\n",
       "    </tr>\n",
       "  </tbody>\n",
       "</table>\n",
       "</div>"
      ],
      "text/plain": [
       "   Color  KNN Classifier (k=1)  KNN Classifier (k=3)  KNN Classifier (k=5)  \\\n",
       "0    Red               0.60000              0.480000              0.470000   \n",
       "1  White               0.54449              0.466939              0.459592   \n",
       "\n",
       "   KNN Regressor (k=1)  KNN Regressor (k=3)  KNN Regressor (k=5)  \n",
       "0            -0.251649             0.056946             0.132845  \n",
       "1            -0.142143             0.096386             0.109148  "
      ]
     },
     "metadata": {},
     "output_type": "display_data"
    },
    {
     "name": "stdout",
     "output_type": "stream",
     "text": [
      "############ Assignment 1 Question 4 END ############\n"
     ]
    }
   ],
   "source": [
    "print(\"############ Assignment 1 Question 4 BEGIN ############\")\n",
    "# split dataset by color\n",
    "red_data = wine_quality.data.original['color'] == 'red'\n",
    "white_data = wine_quality.data.original['color'] == 'white'\n",
    "\n",
    "x_red = X[red_data]\n",
    "y_red = y[red_data]\n",
    "x_white = X[white_data]\n",
    "y_white = y[white_data]\n",
    "\n",
    "# init final results table\n",
    "results = []\n",
    "\n",
    "# function to loop KNN for classification and regression for each n neighbors\n",
    "def run_knn_experiments(x_data, y_data, color):\n",
    "    row = {'Color': color}\n",
    "    # classification\n",
    "    for n in [1, 3, 5]:\n",
    "        x_tr, x_te, y_tr, y_te = train_test_split(x_data, y_data, test_size=0.25, train_size=0.75, random_state=0)\n",
    "        clf = KNeighborsClassifier(n_neighbors=n)\n",
    "        clf.fit(x_tr, y_tr)\n",
    "        acc = clf.score(x_te, y_te)\n",
    "        row[f'KNN Classifier (k={n})'] = acc\n",
    "    # regression\n",
    "    for n in [1, 3, 5]:\n",
    "        x_tr, x_te, y_tr, y_te = train_test_split(x_data, y_data, test_size=0.25, train_size=0.75, random_state=0)\n",
    "        reg = KNeighborsRegressor(n_neighbors=n)\n",
    "        reg.fit(x_tr, y_tr)\n",
    "        r2 = reg.score(x_te, y_te)\n",
    "        row[f'KNN Regressor (k={n})'] = r2\n",
    "    results.append(row)\n",
    "\n",
    "# x_tr: training features, x_te: testing features, y_tr: training labels, y_te: testing labels\n",
    "\n",
    "run_knn_experiments(x_red, y_red, 'Red')\n",
    "run_knn_experiments(x_white, y_white, 'White')\n",
    "\n",
    "results_df = pd.DataFrame(results)\n",
    "display(results_df)\n",
    "print(\"############ Assignment 1 Question 4 END ############\")"
   ]
  },
  {
   "cell_type": "markdown",
   "id": "ca32ff58",
   "metadata": {},
   "source": [
    "# Question 5\n",
    "## Does KNN Classifier treat Wine Quality like a nominal or ordinal variable? What about the KNN Regressor? Comment on each approach’s suitability based on this."
   ]
  },
  {
   "cell_type": "code",
   "execution_count": 15,
   "id": "43df7214-a90b-4591-848f-6bb9b6078f7a",
   "metadata": {},
   "outputs": [
    {
     "name": "stdout",
     "output_type": "stream",
     "text": [
      "############ Assignment 1 Question 5 BEGIN ############\n",
      "KNN Classifier treats Wine Quality like a nominal variable.\n",
      "The KNN Regressor treats Wine Quality like ordinal variable.\n",
      "KNN Regressor is better suited than KNN Classifier, because there is a clear, meaningful ranking. Higher wine qualities are better than lower values.\n",
      "KNN Classifier would treat each level of wine quality the same and as having no intrinsic order.\n",
      "############ Assignment 1 Question 5 END ############\n"
     ]
    }
   ],
   "source": [
    "print(\"############ Assignment 1 Question 5 BEGIN ############\")\n",
    "print(\"KNN Classifier treats Wine Quality like a nominal variable.\")\n",
    "print(\"The KNN Regressor treats Wine Quality like ordinal variable.\") \n",
    "print(\"KNN Regressor is better suited than KNN Classifier, because there is a clear, meaningful ranking. Higher wine qualities are better than lower values.\")\n",
    "print(\"KNN Classifier would treat each level of wine quality the same and as having no intrinsic order.\")\n",
    "print(\"############ Assignment 1 Question 5 END ############\")"
   ]
  },
  {
   "cell_type": "markdown",
   "id": "12a9bcc9",
   "metadata": {},
   "source": [
    "# Question 6\n",
    "## Visualize the “quality” variable in the overall dataset in terms of distribution across scores. Is there a class imbalance in this distribution? Does it imply that classification is likely to work better or regression? Why?"
   ]
  },
  {
   "cell_type": "code",
   "execution_count": 16,
   "id": "d1faf04e-b70a-4c4c-be2d-97a4784481af",
   "metadata": {},
   "outputs": [
    {
     "name": "stdout",
     "output_type": "stream",
     "text": [
      "############ Assignment 1 Question 6 BEGIN ############\n"
     ]
    },
    {
     "data": {
      "image/png": "[encoded data removed]",
      "text/plain": [
       "<Figure size 800x500 with 1 Axes>"
      ]
     },
     "metadata": {},
     "output_type": "display_data"
    },
    {
     "name": "stdout",
     "output_type": "stream",
     "text": [
      "There is a class imbalance in the distribution of wine quality scores, as some quality scores have many more samples than others. This imbalance suggests that regression may be more appropriate than classification, as regression can handle ordinal variables better, while classification may struggle with underrepresented classes.\n",
      "############ Assignment 1 Question 6 END ############\n"
     ]
    }
   ],
   "source": [
    "print(\"############ Assignment 1 Question 6 BEGIN ############\")\n",
    "plt.figure(figsize=(8, 5))\n",
    "wine_quality.data.targets['quality'].value_counts().sort_index().plot(kind='bar')\n",
    "plt.xlabel('Wine Quality Score')\n",
    "plt.ylabel('Count')\n",
    "plt.title('Distribution of Wine Quality Scores')\n",
    "plt.show()\n",
    "\n",
    "print(\"There is a class imbalance in the distribution of wine quality scores, as some quality scores have many more samples than others. This imbalance suggests that regression may be more appropriate than classification, as regression can handle ordinal variables better, while classification may struggle with underrepresented classes.\")\n",
    "print(\"############ Assignment 1 Question 6 END ############\")"
   ]
  },
  {
   "cell_type": "markdown",
   "id": "0a7ab347",
   "metadata": {},
   "source": [
    "# Question 7\n",
    "## Research feature scaling. Does the fact that feature scaling was not allowed impact the results of the KNN classifier? Why or why not?"
   ]
  },
  {
   "cell_type": "code",
   "execution_count": 17,
   "id": "b376bdca-ac43-4581-a5a1-7d5e76a5da7c",
   "metadata": {},
   "outputs": [
    {
     "name": "stdout",
     "output_type": "stream",
     "text": [
      "############ Assignment 1 Question 7 BEGIN ############\n",
      "The fact that feature scaling was not allowed does impact the results of the KNN classifier, because the features of the dataset have vastly different magnitudes (ex: density is between 0-1, total sulfur dioxide can range between 0-200).\n",
      "############ Assignment 1 Question 7 END ############\n"
     ]
    }
   ],
   "source": [
    "print(\"############ Assignment 1 Question 7 BEGIN ############\")\n",
    "print(\"The fact that feature scaling was not allowed does impact the results of the KNN classifier, because the features of the dataset have vastly different magnitudes (ex: density is between 0-1, total sulfur dioxide can range between 0-200).\")\n",
    "print(\"############ Assignment 1 Question 7 END ############\")"
   ]
  },
  {
   "cell_type": "markdown",
   "id": "0acab81d",
   "metadata": {},
   "source": [
    "# Question 8\n",
    "## How do you compare the “accuracy” score in the classifier with the “R-squared” score in the regressor? What might be a rule-of-thumb that will help you compare these evaluation metrics across the two algorithms? "
   ]
  },
  {
   "cell_type": "code",
   "execution_count": 18,
   "id": "6455ed40-6fb2-47dc-aa44-91d594ade801",
   "metadata": {},
   "outputs": [
    {
     "name": "stdout",
     "output_type": "stream",
     "text": [
      "############ Assignment 1 Question 8 BEGIN ############\n",
      "with this specific dataset, the \"accuracy\" score with the classifier is less reliable and relevant when comparing the metrics with \"R-squared\" score in the regressor\n",
      "the accuracy score in the classifier talks about how accurate it will be when classifying values that don't have qualitative value, like color, but we are trying to find out more about how it will treat the quality of the wine, which is a qualitative factor. It pertains to how accurate the sorting of these are.\n",
      "because of this, in this case it would be better to focus on the \"R-squared\" score in the regressor, which reveals how much of the variance in the model regarding something quantitative like quality, can be explained by the regression model. It helps ultimately show the strength of the prediction of the data to the actual data presented\n",
      "a good rule of thumb is to pay more attention to the classifier when looking at problems regarding qualitative data while looking at the \"R-squared\" score to talk about quantitative problems\n",
      "############# Assignment 1 Question 8 END #############\n"
     ]
    }
   ],
   "source": [
    "print(\"############ Assignment 1 Question 8 BEGIN ############\")\n",
    "print('with this specific dataset, the \"accuracy\" score with the classifier is less reliable and relevant when comparing the metrics with \"R-squared\" score in the regressor')\n",
    "print(\"the accuracy score in the classifier talks about how accurate it will be when classifying values that don't have qualitative value, like color, but we are trying to find out more about how it will treat the quality of the wine, which is a qualitative factor. It pertains to how accurate the sorting of these are.\")\n",
    "print('because of this, in this case it would be better to focus on the \"R-squared\" score in the regressor, which reveals how much of the variance in the model regarding something quantitative like quality, can be explained by the regression model. It helps ultimately show the strength of the prediction of the data to the actual data presented')\n",
    "print('a good rule of thumb is to pay more attention to the classifier when looking at problems regarding qualitative data while looking at the \"R-squared\" score to talk about quantitative problems')\n",
    "print(\"############# Assignment 1 Question 8 END #############\")"
   ]
  },
  {
   "cell_type": "markdown",
   "id": "dccf406c",
   "metadata": {},
   "source": [
    "# Question 9\n",
    "## What do you observe on the difference between modeling this as a classification versus a regression problem across 1-4? Was there a big difference as one color was removed? What does this tell you? As the number of neighbors increases, which approach improves? Why do you think both these things are happening?"
   ]
  },
  {
   "cell_type": "code",
   "execution_count": 19,
   "id": "795edc35",
   "metadata": {},
   "outputs": [
    {
     "name": "stdout",
     "output_type": "stream",
     "text": [
      "############ Assignment 1 Question 9 BEGIN ############\n",
      "When modeling wine quality as a classification problem, the model treats each quality level as a separate, unordered class. In regression, the model recognizes the ordinal nature of quality, allowing it to predict intermediate values and better capture the ranking between qualities.\n",
      "If one color (e.g., red or white) is removed, the model may perform differently due to changes in the distribution of features and target values. This suggests that color is an important feature and that the dataset's balance affects model performance.\n",
      "As the number of neighbors increases, the regression approach tends to improve more consistently, as it benefits from averaging over more samples, reducing variance. In classification, increasing neighbors can sometimes hurt performance if the classes are imbalanced or not well separated. These effects occur because regression leverages the ordinal relationship in the target, while classification does not.\n",
      "############ Assignment 1 Question 9 END ############\n"
     ]
    }
   ],
   "source": [
    "print(\"############ Assignment 1 Question 9 BEGIN ############\")\n",
    "print(\"When modeling wine quality as a classification problem, the model treats each quality level as a separate, unordered class. In regression, the model recognizes the ordinal nature of quality, allowing it to predict intermediate values and better capture the ranking between qualities.\")\n",
    "print(\"If one color (e.g., red or white) is removed, the model may perform differently due to changes in the distribution of features and target values. This suggests that color is an important feature and that the dataset's balance affects model performance.\")\n",
    "print(\"As the number of neighbors increases, the regression approach tends to improve more consistently, as it benefits from averaging over more samples, reducing variance. In classification, increasing neighbors can sometimes hurt performance if the classes are imbalanced or not well separated. These effects occur because regression leverages the ordinal relationship in the target, while classification does not.\")\n",
    "print(\"############ Assignment 1 Question 9 END ############\")"
   ]
  },
  {
   "cell_type": "code",
   "execution_count": null,
   "id": "6bd3122f",
   "metadata": {},
   "outputs": [],
   "source": []
  }
 ],
 "metadata": {
  "kernelspec": {
   "display_name": "base",
   "language": "python",
   "name": "python3"
  },
  "language_info": {
   "codemirror_mode": {
    "name": "ipython",
    "version": 3
   },
   "file_extension": ".py",
   "mimetype": "text/x-python",
   "name": "python",
   "nbconvert_exporter": "python",
   "pygments_lexer": "ipython3",
   "version": "3.10.9"
  }
 },
 "nbformat": 4,
 "nbformat_minor": 5
}
