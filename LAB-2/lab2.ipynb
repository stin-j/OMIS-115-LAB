{
 "cells": [
  {
   "cell_type": "markdown",
   "id": "b9b3b1e0",
   "metadata": {},
   "source": [
    "# General Preamble Code"
   ]
  },
  {
   "cell_type": "code",
   "execution_count": 1,
   "id": "0f5608e2",
   "metadata": {},
   "outputs": [],
   "source": [
    "import numpy as np\n",
    "import matplotlib.pyplot as plt\n",
    "import pandas as pd\n",
    "import mglearn\n",
    "from IPython.display import display\n"
   ]
  },
  {
   "cell_type": "markdown",
   "id": "879f7ebe",
   "metadata": {},
   "source": [
    "# Additional Import Code for dataset W"
   ]
  },
  {
   "cell_type": "code",
   "execution_count": 2,
   "id": "4155f646",
   "metadata": {},
   "outputs": [],
   "source": [
    "from ucimlrepo import fetch_ucirepo \n",
    "# fetch dataset \n",
    "wine_quality = fetch_ucirepo(id=186) \n",
    "# data (as pandas dataframes) \n",
    "X = wine_quality.data.features \n",
    "y = wine_quality.data.targets['quality']\n"
   ]
  },
  {
   "cell_type": "markdown",
   "id": "45640d0b",
   "metadata": {},
   "source": [
    "# Question 1\n",
    "## Run a linear regression on the entire wine dataset. Measure R-squared on both the training and test data sets. Also evaluate the resulting MSE and RMSE. "
   ]
  },
  {
   "cell_type": "code",
   "execution_count": null,
   "id": "bc89ee36",
   "metadata": {},
   "outputs": [
    {
     "name": "stdout",
     "output_type": "stream",
     "text": [
      "############ Assignment 2 Question 1 BEGIN ############\n",
      "R^2 (train): 0.3017\n",
      "R^2 (test): 0.2589\n",
      "MSE (train): 0.5369\n",
      "MSE (test): 0.5507\n",
      "RMSE (train): 0.7328\n",
      "RMSE (test): 0.7421\n",
      "############# Assignment 2 Question 1 END #############\n"
     ]
    }
   ],
   "source": [
    "from sklearn.model_selection import train_test_split\n",
    "from sklearn.linear_model import LinearRegression\n",
    "from sklearn.metrics import r2_score, mean_squared_error\n",
    "import numpy as np\n",
    "\n",
    "print(\"############ Assignment 2 Question 1 BEGIN ############\")\n",
    "# split data into test and train\n",
    "x_train, x_test, y_train, y_test = train_test_split(X, y, random_state=42)\n",
    "\n",
    "# fit and predict\n",
    "lr = LinearRegression()\n",
    "lr.fit(x_train, y_train)\n",
    "y_train_pred = lr.predict(x_train)\n",
    "y_test_pred = lr.predict(x_test)\n",
    "r2_train = r2_score(y_train, y_train_pred)\n",
    "r2_test = r2_score(y_test, y_test_pred)\n",
    "mse_train = mean_squared_error(y_train, y_train_pred)\n",
    "mse_test = mean_squared_error(y_test, y_test_pred)\n",
    "rmse_train = np.sqrt(mse_train)\n",
    "rmse_test = np.sqrt(mse_test)\n",
    "\n",
    "print(f\"R^2 (train): {r2_train:.4f}\")\n",
    "print(f\"R^2 (test): {r2_test:.4f}\")\n",
    "print(f\"MSE (train): {mse_train:.4f}\")\n",
    "print(f\"MSE (test): {mse_test:.4f}\")\n",
    "print(f\"RMSE (train): {rmse_train:.4f}\")\n",
    "print(f\"RMSE (test): {rmse_test:.4f}\")\n",
    "print(\"############# Assignment 2 Question 1 END #############\")"
   ]
  },
  {
   "cell_type": "markdown",
   "id": "984f88cc",
   "metadata": {},
   "source": [
    "# Question 2\n",
    "## Now categorize “good wines” as those securing a score of 7 or higher. All other wines are “bad wines”. Run a logistic regression to see whether you can predict good wines. Evaluate this model with a visualized confusion matrix, and an accuracy score."
   ]
  },
  {
   "cell_type": "code",
   "execution_count": null,
   "id": "3242e087",
   "metadata": {},
   "outputs": [],
   "source": [
    "print(\"############ Assignment 2 Question 2 BEGIN ############\")\n",
    "\n",
    "print(\"############# Assignment 2 Question 2 END #############\")"
   ]
  },
  {
   "cell_type": "markdown",
   "id": "3a300d75",
   "metadata": {},
   "source": [
    "# Question 3\n",
    "## Why doesn’t the number of wines in the confusion matrix add up to the total number of wines in the original dataset?"
   ]
  },
  {
   "cell_type": "code",
   "execution_count": null,
   "id": "7aad5246",
   "metadata": {},
   "outputs": [],
   "source": [
    "print(\"############ Assignment 2 Question 3 BEGIN ############\")\n",
    "\n",
    "print(\"############# Assignment 2 Question 3 END #############\")"
   ]
  },
  {
   "cell_type": "markdown",
   "id": "dd29b9ca",
   "metadata": {},
   "source": [
    "# Question 4\n",
    "## Repeat 1 and 2 for just the red wine and white wine datasets. Report your findings and remark on why this did or didn’t improve the evaluation results."
   ]
  },
  {
   "cell_type": "code",
   "execution_count": null,
   "id": "1ab47a61",
   "metadata": {},
   "outputs": [],
   "source": [
    "print(\"############ Assignment 2 Question 4 BEGIN ############\")\n",
    "\n",
    "print(\"############# Assignment 2 Question 4 END #############\")"
   ]
  },
  {
   "cell_type": "markdown",
   "id": "61f9b044",
   "metadata": {},
   "source": [
    "# Question 5\n",
    "## Now add “color” as an independent variable (a feature) into the linear regression and rerun the model. What encoding choice did you use for this feature? Evaluate the new model and compare it to the baseline you have in (1). Did it show an improvement? If so, was it as big as the improvement in (4) where you split the data set by colors? If not, why not?"
   ]
  },
  {
   "cell_type": "code",
   "execution_count": null,
   "id": "40647eeb",
   "metadata": {},
   "outputs": [],
   "source": [
    "print(\"############ Assignment 2 Question 5 BEGIN ############\")\n",
    "\n",
    "print(\"############# Assignment 2 Question 5 END #############\")"
   ]
  },
  {
   "cell_type": "markdown",
   "id": "476d83f9",
   "metadata": {},
   "source": [
    "# Question 6\n",
    "## When you transformed “quality score” for the logistic regression in (2), what kind of variable-type transformation did you perform?"
   ]
  },
  {
   "cell_type": "code",
   "execution_count": null,
   "id": "3a7dd28f",
   "metadata": {},
   "outputs": [],
   "source": [
    "print(\"############ Assignment 2 Question 6 BEGIN ############\")\n",
    "\n",
    "print(\"############# Assignment 2 Question 6 END #############\")"
   ]
  }
 ],
 "metadata": {
  "kernelspec": {
   "display_name": "base",
   "language": "python",
   "name": "python3"
  },
  "language_info": {
   "codemirror_mode": {
    "name": "ipython",
    "version": 3
   },
   "file_extension": ".py",
   "mimetype": "text/x-python",
   "name": "python",
   "nbconvert_exporter": "python",
   "pygments_lexer": "ipython3",
   "version": "3.10.9"
  }
 },
 "nbformat": 4,
 "nbformat_minor": 5
}
