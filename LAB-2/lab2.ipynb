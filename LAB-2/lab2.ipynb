{
 "cells": [
  {
   "cell_type": "markdown",
   "id": "b9b3b1e0",
   "metadata": {},
   "source": [
    "# General Preamble Code"
   ]
  },
  {
   "cell_type": "code",
   "execution_count": 11,
   "id": "0f5608e2",
   "metadata": {},
   "outputs": [],
   "source": [
    "import numpy as np\n",
    "import matplotlib.pyplot as plt\n",
    "import pandas as pd\n",
    "import mglearn\n",
    "from IPython.display import display"
   ]
  },
  {
   "cell_type": "markdown",
   "id": "879f7ebe",
   "metadata": {},
   "source": [
    "# Additional Import Code for dataset W"
   ]
  },
  {
   "cell_type": "code",
   "execution_count": 12,
   "id": "4155f646",
   "metadata": {},
   "outputs": [],
   "source": [
    "from ucimlrepo import fetch_ucirepo \n",
    "# fetch dataset \n",
    "wine_quality = fetch_ucirepo(id=186) \n",
    "# data (as pandas dataframes) \n",
    "x = wine_quality.data.features \n",
    "y = wine_quality.data.targets['quality']\n"
   ]
  },
  {
   "cell_type": "code",
   "execution_count": 13,
   "id": "2535654f",
   "metadata": {},
   "outputs": [
    {
     "name": "stdout",
     "output_type": "stream",
     "text": [
      "Features (x):\n"
     ]
    },
    {
     "data": {
      "text/html": [
       "<div>\n",
       "<style scoped>\n",
       "    .dataframe tbody tr th:only-of-type {\n",
       "        vertical-align: middle;\n",
       "    }\n",
       "\n",
       "    .dataframe tbody tr th {\n",
       "        vertical-align: top;\n",
       "    }\n",
       "\n",
       "    .dataframe thead th {\n",
       "        text-align: right;\n",
       "    }\n",
       "</style>\n",
       "<table border=\"1\" class=\"dataframe\">\n",
       "  <thead>\n",
       "    <tr style=\"text-align: right;\">\n",
       "      <th></th>\n",
       "      <th>fixed_acidity</th>\n",
       "      <th>volatile_acidity</th>\n",
       "      <th>citric_acid</th>\n",
       "      <th>residual_sugar</th>\n",
       "      <th>chlorides</th>\n",
       "      <th>free_sulfur_dioxide</th>\n",
       "      <th>total_sulfur_dioxide</th>\n",
       "      <th>density</th>\n",
       "      <th>pH</th>\n",
       "      <th>sulphates</th>\n",
       "      <th>alcohol</th>\n",
       "    </tr>\n",
       "  </thead>\n",
       "  <tbody>\n",
       "    <tr>\n",
       "      <th>0</th>\n",
       "      <td>7.4</td>\n",
       "      <td>0.70</td>\n",
       "      <td>0.00</td>\n",
       "      <td>1.9</td>\n",
       "      <td>0.076</td>\n",
       "      <td>11.0</td>\n",
       "      <td>34.0</td>\n",
       "      <td>0.99780</td>\n",
       "      <td>3.51</td>\n",
       "      <td>0.56</td>\n",
       "      <td>9.4</td>\n",
       "    </tr>\n",
       "    <tr>\n",
       "      <th>1</th>\n",
       "      <td>7.8</td>\n",
       "      <td>0.88</td>\n",
       "      <td>0.00</td>\n",
       "      <td>2.6</td>\n",
       "      <td>0.098</td>\n",
       "      <td>25.0</td>\n",
       "      <td>67.0</td>\n",
       "      <td>0.99680</td>\n",
       "      <td>3.20</td>\n",
       "      <td>0.68</td>\n",
       "      <td>9.8</td>\n",
       "    </tr>\n",
       "    <tr>\n",
       "      <th>2</th>\n",
       "      <td>7.8</td>\n",
       "      <td>0.76</td>\n",
       "      <td>0.04</td>\n",
       "      <td>2.3</td>\n",
       "      <td>0.092</td>\n",
       "      <td>15.0</td>\n",
       "      <td>54.0</td>\n",
       "      <td>0.99700</td>\n",
       "      <td>3.26</td>\n",
       "      <td>0.65</td>\n",
       "      <td>9.8</td>\n",
       "    </tr>\n",
       "    <tr>\n",
       "      <th>3</th>\n",
       "      <td>11.2</td>\n",
       "      <td>0.28</td>\n",
       "      <td>0.56</td>\n",
       "      <td>1.9</td>\n",
       "      <td>0.075</td>\n",
       "      <td>17.0</td>\n",
       "      <td>60.0</td>\n",
       "      <td>0.99800</td>\n",
       "      <td>3.16</td>\n",
       "      <td>0.58</td>\n",
       "      <td>9.8</td>\n",
       "    </tr>\n",
       "    <tr>\n",
       "      <th>4</th>\n",
       "      <td>7.4</td>\n",
       "      <td>0.70</td>\n",
       "      <td>0.00</td>\n",
       "      <td>1.9</td>\n",
       "      <td>0.076</td>\n",
       "      <td>11.0</td>\n",
       "      <td>34.0</td>\n",
       "      <td>0.99780</td>\n",
       "      <td>3.51</td>\n",
       "      <td>0.56</td>\n",
       "      <td>9.4</td>\n",
       "    </tr>\n",
       "    <tr>\n",
       "      <th>...</th>\n",
       "      <td>...</td>\n",
       "      <td>...</td>\n",
       "      <td>...</td>\n",
       "      <td>...</td>\n",
       "      <td>...</td>\n",
       "      <td>...</td>\n",
       "      <td>...</td>\n",
       "      <td>...</td>\n",
       "      <td>...</td>\n",
       "      <td>...</td>\n",
       "      <td>...</td>\n",
       "    </tr>\n",
       "    <tr>\n",
       "      <th>6492</th>\n",
       "      <td>6.2</td>\n",
       "      <td>0.21</td>\n",
       "      <td>0.29</td>\n",
       "      <td>1.6</td>\n",
       "      <td>0.039</td>\n",
       "      <td>24.0</td>\n",
       "      <td>92.0</td>\n",
       "      <td>0.99114</td>\n",
       "      <td>3.27</td>\n",
       "      <td>0.50</td>\n",
       "      <td>11.2</td>\n",
       "    </tr>\n",
       "    <tr>\n",
       "      <th>6493</th>\n",
       "      <td>6.6</td>\n",
       "      <td>0.32</td>\n",
       "      <td>0.36</td>\n",
       "      <td>8.0</td>\n",
       "      <td>0.047</td>\n",
       "      <td>57.0</td>\n",
       "      <td>168.0</td>\n",
       "      <td>0.99490</td>\n",
       "      <td>3.15</td>\n",
       "      <td>0.46</td>\n",
       "      <td>9.6</td>\n",
       "    </tr>\n",
       "    <tr>\n",
       "      <th>6494</th>\n",
       "      <td>6.5</td>\n",
       "      <td>0.24</td>\n",
       "      <td>0.19</td>\n",
       "      <td>1.2</td>\n",
       "      <td>0.041</td>\n",
       "      <td>30.0</td>\n",
       "      <td>111.0</td>\n",
       "      <td>0.99254</td>\n",
       "      <td>2.99</td>\n",
       "      <td>0.46</td>\n",
       "      <td>9.4</td>\n",
       "    </tr>\n",
       "    <tr>\n",
       "      <th>6495</th>\n",
       "      <td>5.5</td>\n",
       "      <td>0.29</td>\n",
       "      <td>0.30</td>\n",
       "      <td>1.1</td>\n",
       "      <td>0.022</td>\n",
       "      <td>20.0</td>\n",
       "      <td>110.0</td>\n",
       "      <td>0.98869</td>\n",
       "      <td>3.34</td>\n",
       "      <td>0.38</td>\n",
       "      <td>12.8</td>\n",
       "    </tr>\n",
       "    <tr>\n",
       "      <th>6496</th>\n",
       "      <td>6.0</td>\n",
       "      <td>0.21</td>\n",
       "      <td>0.38</td>\n",
       "      <td>0.8</td>\n",
       "      <td>0.020</td>\n",
       "      <td>22.0</td>\n",
       "      <td>98.0</td>\n",
       "      <td>0.98941</td>\n",
       "      <td>3.26</td>\n",
       "      <td>0.32</td>\n",
       "      <td>11.8</td>\n",
       "    </tr>\n",
       "  </tbody>\n",
       "</table>\n",
       "<p>6497 rows × 11 columns</p>\n",
       "</div>"
      ],
      "text/plain": [
       "      fixed_acidity  volatile_acidity  citric_acid  residual_sugar  chlorides  \\\n",
       "0               7.4              0.70         0.00             1.9      0.076   \n",
       "1               7.8              0.88         0.00             2.6      0.098   \n",
       "2               7.8              0.76         0.04             2.3      0.092   \n",
       "3              11.2              0.28         0.56             1.9      0.075   \n",
       "4               7.4              0.70         0.00             1.9      0.076   \n",
       "...             ...               ...          ...             ...        ...   \n",
       "6492            6.2              0.21         0.29             1.6      0.039   \n",
       "6493            6.6              0.32         0.36             8.0      0.047   \n",
       "6494            6.5              0.24         0.19             1.2      0.041   \n",
       "6495            5.5              0.29         0.30             1.1      0.022   \n",
       "6496            6.0              0.21         0.38             0.8      0.020   \n",
       "\n",
       "      free_sulfur_dioxide  total_sulfur_dioxide  density    pH  sulphates  \\\n",
       "0                    11.0                  34.0  0.99780  3.51       0.56   \n",
       "1                    25.0                  67.0  0.99680  3.20       0.68   \n",
       "2                    15.0                  54.0  0.99700  3.26       0.65   \n",
       "3                    17.0                  60.0  0.99800  3.16       0.58   \n",
       "4                    11.0                  34.0  0.99780  3.51       0.56   \n",
       "...                   ...                   ...      ...   ...        ...   \n",
       "6492                 24.0                  92.0  0.99114  3.27       0.50   \n",
       "6493                 57.0                 168.0  0.99490  3.15       0.46   \n",
       "6494                 30.0                 111.0  0.99254  2.99       0.46   \n",
       "6495                 20.0                 110.0  0.98869  3.34       0.38   \n",
       "6496                 22.0                  98.0  0.98941  3.26       0.32   \n",
       "\n",
       "      alcohol  \n",
       "0         9.4  \n",
       "1         9.8  \n",
       "2         9.8  \n",
       "3         9.8  \n",
       "4         9.4  \n",
       "...       ...  \n",
       "6492     11.2  \n",
       "6493      9.6  \n",
       "6494      9.4  \n",
       "6495     12.8  \n",
       "6496     11.8  \n",
       "\n",
       "[6497 rows x 11 columns]"
      ]
     },
     "metadata": {},
     "output_type": "display_data"
    },
    {
     "name": "stdout",
     "output_type": "stream",
     "text": [
      "\n",
      "Target (y):\n"
     ]
    },
    {
     "data": {
      "text/plain": [
       "0       5\n",
       "1       5\n",
       "2       5\n",
       "3       6\n",
       "4       5\n",
       "       ..\n",
       "6492    6\n",
       "6493    5\n",
       "6494    6\n",
       "6495    7\n",
       "6496    6\n",
       "Name: quality, Length: 6497, dtype: int64"
      ]
     },
     "metadata": {},
     "output_type": "display_data"
    }
   ],
   "source": [
    "print(\"Features (x):\")\n",
    "display(x)\n",
    "print(\"\\nTarget (y):\")\n",
    "display(y)"
   ]
  },
  {
   "cell_type": "markdown",
   "id": "45640d0b",
   "metadata": {},
   "source": [
    "# Question 1\n",
    "## Run a linear regression on the entire wine dataset. Measure R-squared on both the training and test data sets. Also evaluate the resulting MSE and RMSE. "
   ]
  },
  {
   "cell_type": "code",
   "execution_count": 14,
   "id": "bc89ee36",
   "metadata": {},
   "outputs": [
    {
     "name": "stdout",
     "output_type": "stream",
     "text": [
      "############ Assignment 2 Question 1 BEGIN ############\n",
      "R^2 (train): 0.3017\n",
      "R^2 (test): 0.2589\n",
      "MSE (train): 0.5369\n",
      "MSE (test): 0.5507\n",
      "RMSE (train): 0.7328\n",
      "RMSE (test): 0.7421\n",
      "############# Assignment 2 Question 1 END #############\n"
     ]
    }
   ],
   "source": [
    "from sklearn.model_selection import train_test_split\n",
    "from sklearn.linear_model import LinearRegression\n",
    "from sklearn.metrics import r2_score, mean_squared_error\n",
    "import numpy as np\n",
    "\n",
    "print(\"############ Assignment 2 Question 1 BEGIN ############\")\n",
    "# split data into test and train\n",
    "x_train, x_test, y_train, y_test = train_test_split(x, y, random_state=42)\n",
    "\n",
    "# fit and predict\n",
    "lr = LinearRegression()\n",
    "lr.fit(x_train, y_train)\n",
    "y_train_pred = lr.predict(x_train)\n",
    "y_test_pred = lr.predict(x_test)\n",
    "r2_train = r2_score(y_train, y_train_pred)\n",
    "r2_test = r2_score(y_test, y_test_pred)\n",
    "mse_train = mean_squared_error(y_train, y_train_pred)\n",
    "mse_test = mean_squared_error(y_test, y_test_pred)\n",
    "rmse_train = np.sqrt(mse_train)\n",
    "rmse_test = np.sqrt(mse_test)\n",
    "\n",
    "print(f\"R^2 (train): {r2_train:.4f}\")\n",
    "print(f\"R^2 (test): {r2_test:.4f}\")\n",
    "print(f\"MSE (train): {mse_train:.4f}\")\n",
    "print(f\"MSE (test): {mse_test:.4f}\")\n",
    "print(f\"RMSE (train): {rmse_train:.4f}\")\n",
    "print(f\"RMSE (test): {rmse_test:.4f}\")\n",
    "print(\"############# Assignment 2 Question 1 END #############\")"
   ]
  },
  {
   "cell_type": "markdown",
   "id": "984f88cc",
   "metadata": {},
   "source": [
    "# Question 2\n",
    "## Now categorize “good wines” as those securing a score of 7 or higher. All other wines are “bad wines”. Run a logistic regression to see whether you can predict good wines. Evaluate this model with a visualized confusion matrix, and an accuracy score."
   ]
  },
  {
   "cell_type": "code",
   "execution_count": 15,
   "id": "3242e087",
   "metadata": {},
   "outputs": [
    {
     "name": "stdout",
     "output_type": "stream",
     "text": [
      "############ Assignment 2 Question 2 BEGIN ############\n"
     ]
    },
    {
     "name": "stderr",
     "output_type": "stream",
     "text": [
      "C:\\Users\\trish\\anaconda3\\Lib\\site-packages\\sklearn\\linear_model\\_logistic.py:465: ConvergenceWarning: lbfgs failed to converge (status=1):\n",
      "STOP: TOTAL NO. OF ITERATIONS REACHED LIMIT.\n",
      "\n",
      "Increase the number of iterations (max_iter) or scale the data as shown in:\n",
      "    https://scikit-learn.org/stable/modules/preprocessing.html\n",
      "Please also refer to the documentation for alternative solver options:\n",
      "    https://scikit-learn.org/stable/modules/linear_model.html#logistic-regression\n",
      "  n_iter_i = _check_optimize_result(\n"
     ]
    },
    {
     "data": {
      "image/png": "[encoded data removed]",
      "text/plain": [
       "<Figure size 640x480 with 2 Axes>"
      ]
     },
     "metadata": {},
     "output_type": "display_data"
    },
    {
     "name": "stdout",
     "output_type": "stream",
     "text": [
      "Accuracy: 0.8326\n",
      "############# Assignment 2 Question 2 END #############\n"
     ]
    }
   ],
   "source": [
    "print(\"############ Assignment 2 Question 2 BEGIN ############\")\n",
    "from sklearn.linear_model import LogisticRegression\n",
    "from sklearn.metrics import confusion_matrix, ConfusionMatrixDisplay, accuracy_score\n",
    "\n",
    "# labeling 1 for good wine (quality >= 7) and 0 otherwise\n",
    "y_bin = (y >= 7).astype(int)\n",
    "y_train_bin = y_bin[y_train.index]\n",
    "y_test_bin = y_bin[y_test.index]\n",
    "\n",
    "# fit logistic regression\n",
    "logreg = LogisticRegression(max_iter=1000)\n",
    "logreg.fit(x_train, y_train_bin)\n",
    "y_pred = logreg.predict(x_test)\n",
    "\n",
    "# confusion matrix and accuracy\n",
    "cm = confusion_matrix(y_test_bin, y_pred)\n",
    "disp = ConfusionMatrixDisplay(confusion_matrix=cm)\n",
    "disp.plot(cmap='Blues')\n",
    "plt.show()\n",
    "\n",
    "acc = accuracy_score(y_test_bin, y_pred)\n",
    "print(f\"Accuracy: {acc:.4f}\")\n",
    "print(\"############# Assignment 2 Question 2 END #############\")"
   ]
  },
  {
   "cell_type": "markdown",
   "id": "3a300d75",
   "metadata": {},
   "source": [
    "# Question 3\n",
    "## Why doesn’t the number of wines in the confusion matrix add up to the total number of wines in the original dataset?"
   ]
  },
  {
   "cell_type": "code",
   "execution_count": 16,
   "id": "7aad5246",
   "metadata": {},
   "outputs": [
    {
     "name": "stdout",
     "output_type": "stream",
     "text": [
      "############ Assignment 2 Question 3 BEGIN ############\n",
      "Total wines in original dataset: 6497\n",
      "Total wines in confusion matrix (test set): 1625\n",
      "The confusion matrix only counts wines in the test set, not the whole dataset. This is because the data was split into training and test sets, so only the test set predictions are shown in the confusion matrix.\n",
      "############# Assignment 2 Question 3 END #############\n"
     ]
    }
   ],
   "source": [
    "print(\"############ Assignment 2 Question 3 BEGIN ############\")\n",
    "print(f\"Total wines in original dataset: {len(y)}\")\n",
    "print(f\"Total wines in confusion matrix (test set): {cm.sum()}\")\n",
    "\n",
    "print(\n",
    "    \"The confusion matrix only counts wines in the test set, not the whole dataset. \"\n",
    "    \"This is because the data was split into training and test sets, so only the test set predictions are shown in the confusion matrix.\"\n",
    ")\n",
    "print(\"############# Assignment 2 Question 3 END #############\")"
   ]
  },
  {
   "cell_type": "markdown",
   "id": "dd29b9ca",
   "metadata": {},
   "source": [
    "# Question 4\n",
    "## Repeat 1 and 2 for just the red wine and white wine datasets. Report your findings and remark on why this did or didn’t improve the evaluation results."
   ]
  },
  {
   "cell_type": "code",
   "execution_count": 20,
   "id": "1ab47a61",
   "metadata": {},
   "outputs": [
    {
     "name": "stdout",
     "output_type": "stream",
     "text": [
      "############ Assignment 2 Question 4 BEGIN ############\n",
      "#1\n",
      "red\n",
      "R^2 (train): 0.3286\n",
      "R^2 (test): 0.3491\n",
      "MSE (train): 0.4448\n",
      "MSE (test): 0.4027\n",
      "RMSE (train): 0.6670\n",
      "RMSE (test): 0.6346\n",
      "\n",
      "R^2 (train): 0.2680\n",
      "R^2 (test): 0.2621\n",
      "MSE (train): 0.5757\n",
      "MSE (test): 0.5729\n",
      "RMSE (train): 0.7588\n",
      "RMSE (test): 0.7569\n",
      "\n",
      "#2\n",
      "red\n"
     ]
    },
    {
     "data": {
      "image/png": "[encoded data removed]",
      "text/plain": [
       "<Figure size 640x480 with 2 Axes>"
      ]
     },
     "metadata": {},
     "output_type": "display_data"
    },
    {
     "name": "stdout",
     "output_type": "stream",
     "text": [
      "Accuracy: 0.8750\n",
      "white\n"
     ]
    },
    {
     "name": "stderr",
     "output_type": "stream",
     "text": [
      "C:\\Users\\trish\\anaconda3\\Lib\\site-packages\\sklearn\\linear_model\\_logistic.py:465: ConvergenceWarning: lbfgs failed to converge (status=1):\n",
      "STOP: TOTAL NO. OF ITERATIONS REACHED LIMIT.\n",
      "\n",
      "Increase the number of iterations (max_iter) or scale the data as shown in:\n",
      "    https://scikit-learn.org/stable/modules/preprocessing.html\n",
      "Please also refer to the documentation for alternative solver options:\n",
      "    https://scikit-learn.org/stable/modules/linear_model.html#logistic-regression\n",
      "  n_iter_i = _check_optimize_result(\n"
     ]
    },
    {
     "data": {
      "image/png": "[encoded data removed]",
      "text/plain": [
       "<Figure size 640x480 with 2 Axes>"
      ]
     },
     "metadata": {},
     "output_type": "display_data"
    },
    {
     "name": "stdout",
     "output_type": "stream",
     "text": [
      "Accuracy: 0.7731\n",
      "\n",
      "It can be observed that splitting the data between red and white wine leads to different results for both questions one and two.\n",
      "This improves evaluation results because the splitting of data prevents underfitting of the data.\n",
      "The differences in the data of the red and white wine may lead to the algorithm not being able to find a trend, which is solved when splitting the data\n",
      "The algorithm is more reliable if the data it's based off of is related or more relevant to each other.\n",
      "\n",
      "############# Assignment 2 Question 4 END #############\n"
     ]
    }
   ],
   "source": [
    "print(\"############ Assignment 2 Question 4 BEGIN ############\")\n",
    "# split dataset by color\n",
    "red_data = wine_quality.data.original['color'] == 'red'\n",
    "white_data = wine_quality.data.original['color'] == 'white'\n",
    "\n",
    "x_red = x[red_data]\n",
    "y_red = y[red_data]\n",
    "x_white = x[white_data]\n",
    "y_white = y[white_data]\n",
    "\n",
    "print (\"#1\")\n",
    "print (\"red\")\n",
    "xr_tr, xr_te, yr_tr, yr_te = train_test_split(x_red, y_red, random_state=42)\n",
    "\n",
    "# fit and predict\n",
    "lrr = LinearRegression()\n",
    "lrr.fit(xr_tr, yr_tr)\n",
    "yr_tr_pred = lr.predict(xr_tr)\n",
    "yr_te_pred = lr.predict(xr_te)\n",
    "r2r_tr = r2_score(yr_tr, yr_tr_pred)\n",
    "r2r_te = r2_score(yr_te, yr_te_pred)\n",
    "mser_tr = mean_squared_error(yr_tr, yr_tr_pred)\n",
    "mser_te = mean_squared_error(yr_te, yr_te_pred)\n",
    "rmser_tr = np.sqrt(mser_tr)\n",
    "rmser_te = np.sqrt(mser_te)\n",
    "\n",
    "print(f\"R^2 (train): {r2r_tr:.4f}\")\n",
    "print(f\"R^2 (test): {r2r_te:.4f}\")\n",
    "print(f\"MSE (train): {mser_tr:.4f}\")\n",
    "print(f\"MSE (test): {mser_te:.4f}\")\n",
    "print(f\"RMSE (train): {rmser_tr:.4f}\")\n",
    "print(f\"RMSE (test): {rmser_te:.4f}\")\n",
    "\n",
    "print()\n",
    "\n",
    "xw_tr, xw_te, yw_tr, yw_te = train_test_split(x_white, y_white, random_state=42)\n",
    "\n",
    "# fit and predict\n",
    "lrw = LinearRegression()\n",
    "lrw.fit(xw_tr, yw_tr)\n",
    "yw_tr_pred = lr.predict(xw_tr)\n",
    "yw_te_pred = lr.predict(xw_te)\n",
    "r2w_tr = r2_score(yw_tr, yw_tr_pred)\n",
    "r2w_te = r2_score(yw_te, yw_te_pred)\n",
    "msew_tr = mean_squared_error(yw_tr, yw_tr_pred)\n",
    "msew_te = mean_squared_error(yw_te, yw_te_pred)\n",
    "rmsew_tr = np.sqrt(msew_tr)\n",
    "rmsew_te = np.sqrt(msew_te)\n",
    "\n",
    "print(f\"R^2 (train): {r2w_tr:.4f}\")\n",
    "print(f\"R^2 (test): {r2w_te:.4f}\")\n",
    "print(f\"MSE (train): {msew_tr:.4f}\")\n",
    "print(f\"MSE (test): {msew_te:.4f}\")\n",
    "print(f\"RMSE (train): {rmsew_tr:.4f}\")\n",
    "print(f\"RMSE (test): {rmsew_te:.4f}\")\n",
    "\n",
    "print()\n",
    "print (\"#2\")\n",
    "print (\"red\")\n",
    "# labeling 1 for good wine (quality >= 7) and 0 otherwise\n",
    "yr_bin = (y >= 7).astype(int)\n",
    "yr_train_bin = yr_bin[yr_tr.index]\n",
    "yr_test_bin = yr_bin[yr_te.index]\n",
    "# fit logistic regression\n",
    "logregr = LogisticRegression(max_iter=1000)\n",
    "logregr.fit(xr_tr, yr_train_bin)\n",
    "yr_pred = logregr.predict(xr_te)\n",
    "\n",
    "# confusion matrix and accuracy\n",
    "cm = confusion_matrix(yr_test_bin, yr_pred)\n",
    "dispr = ConfusionMatrixDisplay(confusion_matrix=cm)\n",
    "dispr.plot(cmap='Blues')\n",
    "plt.show()\n",
    "\n",
    "acc = accuracy_score(yr_test_bin, yr_pred)\n",
    "print(f\"Accuracy: {acc:.4f}\")\n",
    "\n",
    "print (\"white\")\n",
    "# labeling 1 for good wine (quality >= 7) and 0 otherwise\n",
    "yw_bin = (y >= 7).astype(int)\n",
    "yw_train_bin = yw_bin[yw_tr.index]\n",
    "yw_test_bin = yw_bin[yw_te.index]\n",
    "# fit logistic regression\n",
    "logregw = LogisticRegression(max_iter=1000)\n",
    "logregw.fit(xw_tr, yw_train_bin)\n",
    "yw_pred = logregr.predict(xw_te)\n",
    "\n",
    "# confusion matrix and accuracy\n",
    "cm = confusion_matrix(yw_test_bin, yw_pred)\n",
    "dispr = ConfusionMatrixDisplay(confusion_matrix=cm)\n",
    "dispr.plot(cmap='Blues')\n",
    "plt.show()\n",
    "\n",
    "acc = accuracy_score(yw_test_bin, yw_pred)\n",
    "print(f\"Accuracy: {acc:.4f}\")\n",
    "\n",
    "print()\n",
    "print(\"It can be observed that splitting the data between red and white wine leads to different results for both questions one and two.\")\n",
    "print(\"This improves evaluation results because the splitting of data prevents underfitting of the data.\")\n",
    "print(\"The differences in the data of the red and white wine may lead to the algorithm not being able to find a trend, which is solved when splitting the data\")\n",
    "print(\"The algorithm is more reliable if the data it's based off of is related or more relevant to each other.\")\n",
    "print()\n",
    "\n",
    "print(\"############# Assignment 2 Question 4 END #############\")"
   ]
  },
  {
   "cell_type": "markdown",
   "id": "61f9b044",
   "metadata": {},
   "source": [
    "# Question 5\n",
    "## Now add “color” as an independent variable (a feature) into the linear regression and rerun the model. What encoding choice did you use for this feature? Evaluate the new model and compare it to the baseline you have in (1). Did it show an improvement? If so, was it as big as the improvement in (4) where you split the data set by colors? If not, why not?"
   ]
  },
  {
   "cell_type": "code",
   "execution_count": null,
   "id": "40647eeb",
   "metadata": {},
   "outputs": [],
   "source": [
    "print(\"############ Assignment 2 Question 5 BEGIN ############\")\n",
    "\n",
    "print(\"############# Assignment 2 Question 5 END #############\")"
   ]
  },
  {
   "cell_type": "markdown",
   "id": "476d83f9",
   "metadata": {},
   "source": [
    "# Question 6\n",
    "## When you transformed “quality score” for the logistic regression in (2), what kind of variable-type transformation did you perform?"
   ]
  },
  {
   "cell_type": "code",
   "execution_count": null,
   "id": "3a7dd28f",
   "metadata": {},
   "outputs": [],
   "source": [
    "print(\"############ Assignment 2 Question 6 BEGIN ############\")\n",
    "\n",
    "print(\"############# Assignment 2 Question 6 END #############\")"
   ]
  },
  {
   "cell_type": "code",
   "execution_count": null,
   "id": "3225f772-ca0c-4750-8db0-74b3c87a4a7c",
   "metadata": {},
   "outputs": [],
   "source": []
  }
 ],
 "metadata": {
  "kernelspec": {
   "display_name": "Python 3 (ipykernel)",
   "language": "python",
   "name": "python3"
  },
  "language_info": {
   "codemirror_mode": {
    "name": "ipython",
    "version": 3
   },
   "file_extension": ".py",
   "mimetype": "text/x-python",
   "name": "python",
   "nbconvert_exporter": "python",
   "pygments_lexer": "ipython3",
   "version": "3.13.5"
  }
 },
 "nbformat": 4,
 "nbformat_minor": 5
}
