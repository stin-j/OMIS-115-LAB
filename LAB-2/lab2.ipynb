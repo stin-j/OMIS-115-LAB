{
 "cells": [
  {
   "cell_type": "markdown",
   "id": "b9b3b1e0",
   "metadata": {},
   "source": [
    "# General Preamble Code"
   ]
  },
  {
   "cell_type": "code",
   "execution_count": 204,
   "id": "0f5608e2",
   "metadata": {},
   "outputs": [],
   "source": [
    "import numpy as np\n",
    "import matplotlib.pyplot as plt\n",
    "import pandas as pd\n",
    "import mglearn\n",
    "from IPython.display import display"
   ]
  },
  {
   "cell_type": "markdown",
   "id": "879f7ebe",
   "metadata": {},
   "source": [
    "# Additional Import Code for dataset W"
   ]
  },
  {
   "cell_type": "code",
   "execution_count": 206,
   "id": "4155f646",
   "metadata": {},
   "outputs": [],
   "source": [
    "from ucimlrepo import fetch_ucirepo \n",
    "# fetch dataset \n",
    "wine_quality = fetch_ucirepo(id=186) \n",
    "# data (as pandas dataframes) \n",
    "x = wine_quality.data.features \n",
    "y = wine_quality.data.targets['quality']"
   ]
  },
  {
   "cell_type": "markdown",
   "id": "45640d0b",
   "metadata": {},
   "source": [
    "# Question 1\n",
    "## Run a linear regression on the entire wine dataset. Measure R-squared on both the training and test data sets. Also evaluate the resulting MSE and RMSE. "
   ]
  },
  {
   "cell_type": "code",
   "execution_count": 208,
   "id": "bc89ee36",
   "metadata": {},
   "outputs": [
    {
     "name": "stdout",
     "output_type": "stream",
     "text": [
      "############ Assignment 2 Question 1 BEGIN ############\n",
      "R^2 (train): 0.2925\n",
      "R^2 (test): 0.2900\n",
      "MSE (train): 0.5338\n",
      "MSE (test): 0.5582\n",
      "RMSE (train): 0.7306\n",
      "RMSE (test): 0.7471\n",
      "\n",
      "Evaluating MSE and RMSE, a smaller number means the model is more accurate. MSE is the avg of squared residuals (how far we are from actual value) and then RMSE sqare roots it to bring the unit scale back.\n",
      "Looking at RMSE, we can see that our predicted wine quality score is about 0.73 off from the actual quality for training and 0.74 off from test.\n",
      "############# Assignment 2 Question 1 END #############\n"
     ]
    }
   ],
   "source": [
    "from sklearn.model_selection import train_test_split\n",
    "from sklearn.linear_model import LinearRegression\n",
    "from sklearn.metrics import r2_score, mean_squared_error\n",
    "import numpy as np\n",
    "\n",
    "print(\"############ Assignment 2 Question 1 BEGIN ############\")\n",
    "# split data into test and train\n",
    "x_train, x_test, y_train, y_test = train_test_split(x, y, test_size=0.25, train_size=0.75, random_state=0)\n",
    "\n",
    "# fit and predict\n",
    "lr = LinearRegression()\n",
    "lr.fit(x_train, y_train)\n",
    "y_train_pred = lr.predict(x_train)\n",
    "y_test_pred = lr.predict(x_test)\n",
    "r2_train = r2_score(y_train, y_train_pred)\n",
    "r2_test = r2_score(y_test, y_test_pred)\n",
    "mse_train = mean_squared_error(y_train, y_train_pred)\n",
    "mse_test = mean_squared_error(y_test, y_test_pred)\n",
    "rmse_train = np.sqrt(mse_train)\n",
    "rmse_test = np.sqrt(mse_test)\n",
    "\n",
    "print(f\"R^2 (train): {r2_train:.4f}\")\n",
    "print(f\"R^2 (test): {r2_test:.4f}\")\n",
    "print(f\"MSE (train): {mse_train:.4f}\")\n",
    "print(f\"MSE (test): {mse_test:.4f}\")\n",
    "print(f\"RMSE (train): {rmse_train:.4f}\")\n",
    "print(f\"RMSE (test): {rmse_test:.4f}\")\n",
    "\n",
    "print(\"\\nEvaluating MSE and RMSE, a smaller number means the model is more accurate. MSE is the avg of squared residuals (how far we are from actual value) and then RMSE sqare roots it to bring the unit scale back.\")\n",
    "print(\"Looking at RMSE, we can see that our predicted wine quality score is about 0.73 off from the actual quality for training and 0.74 off from test.\")\n",
    "print(\"############# Assignment 2 Question 1 END #############\")"
   ]
  },
  {
   "cell_type": "markdown",
   "id": "984f88cc",
   "metadata": {},
   "source": [
    "# Question 2\n",
    "## Now categorize “good wines” as those securing a score of 7 or higher. All other wines are “bad wines”. Run a logistic regression to see whether you can predict good wines. Evaluate this model with a visualized confusion matrix, and an accuracy score."
   ]
  },
  {
   "cell_type": "code",
   "execution_count": 210,
   "id": "3242e087",
   "metadata": {},
   "outputs": [
    {
     "name": "stdout",
     "output_type": "stream",
     "text": [
      "############ Assignment 2 Question 2 BEGIN ############\n"
     ]
    },
    {
     "name": "stderr",
     "output_type": "stream",
     "text": [
      "D:\\Users\\16697\\Anaconda\\Lib\\site-packages\\sklearn\\linear_model\\_logistic.py:469: ConvergenceWarning: lbfgs failed to converge (status=1):\n",
      "STOP: TOTAL NO. of ITERATIONS REACHED LIMIT.\n",
      "\n",
      "Increase the number of iterations (max_iter) or scale the data as shown in:\n",
      "    https://scikit-learn.org/stable/modules/preprocessing.html\n",
      "Please also refer to the documentation for alternative solver options:\n",
      "    https://scikit-learn.org/stable/modules/linear_model.html#logistic-regression\n",
      "  n_iter_i = _check_optimize_result(\n"
     ]
    },
    {
     "data": {
      "image/png": "[encoded data removed]",
      "text/plain": [
       "<Figure size 640x480 with 2 Axes>"
      ]
     },
     "metadata": {},
     "output_type": "display_data"
    },
    {
     "name": "stdout",
     "output_type": "stream",
     "text": [
      "Accuracy: 0.8129\n",
      "############# Assignment 2 Question 2 END #############\n"
     ]
    }
   ],
   "source": [
    "print(\"############ Assignment 2 Question 2 BEGIN ############\")\n",
    "from sklearn.linear_model import LogisticRegression\n",
    "from sklearn.metrics import confusion_matrix, ConfusionMatrixDisplay, accuracy_score\n",
    "\n",
    "# labeling 1 for good wine (quality >= 7) and 0 otherwise\n",
    "y_bin = (y >= 7).astype(int)\n",
    "y_train_bin = y_bin[y_train.index]\n",
    "y_test_bin = y_bin[y_test.index]\n",
    "\n",
    "# fit logistic regression\n",
    "logreg = LogisticRegression(random_state=0)\n",
    "logreg.fit(x_train, y_train_bin)\n",
    "y_pred = logreg.predict(x_test)\n",
    "\n",
    "# confusion matrix and accuracy\n",
    "cm = confusion_matrix(y_test_bin, y_pred)\n",
    "disp = ConfusionMatrixDisplay(confusion_matrix=cm)\n",
    "disp.plot(cmap='Blues')\n",
    "plt.show()\n",
    "\n",
    "print(f\"Accuracy: {accuracy_score(y_test_bin, y_pred):.4f}\")\n",
    "print(\"############# Assignment 2 Question 2 END #############\")"
   ]
  },
  {
   "cell_type": "markdown",
   "id": "3a300d75",
   "metadata": {},
   "source": [
    "# Question 3\n",
    "## Why doesn’t the number of wines in the confusion matrix add up to the total number of wines in the original dataset?"
   ]
  },
  {
   "cell_type": "code",
   "execution_count": 212,
   "id": "7aad5246",
   "metadata": {},
   "outputs": [
    {
     "name": "stdout",
     "output_type": "stream",
     "text": [
      "############ Assignment 2 Question 3 BEGIN ############\n",
      "Total wines in original dataset: 6497\n",
      "Total wines in confusion matrix (test set): 1625\n",
      "The confusion matrix evaluates our model's predictions which are only performed on the test data. Since we use a 75/25 split for train and test data, we only see approx. 25% of the wines in the matrix.\n",
      "############# Assignment 2 Question 3 END #############\n"
     ]
    }
   ],
   "source": [
    "print(\"############ Assignment 2 Question 3 BEGIN ############\")\n",
    "print(f\"Total wines in original dataset: {len(y)}\")\n",
    "print(f\"Total wines in confusion matrix (test set): {cm.sum()}\")\n",
    "\n",
    "print(\"The confusion matrix evaluates our model's predictions which are only performed on the test data. Since we use a 75/25 split for train and test data, we only see approx. 25% of the wines in the matrix.\")\n",
    "print(\"############# Assignment 2 Question 3 END #############\")"
   ]
  },
  {
   "cell_type": "markdown",
   "id": "dd29b9ca",
   "metadata": {},
   "source": [
    "# Question 4\n",
    "## Repeat 1 and 2 for just the red wine and white wine datasets. Report your findings and remark on why this did or didn’t improve the evaluation results."
   ]
  },
  {
   "cell_type": "code",
   "execution_count": 214,
   "id": "1ab47a61",
   "metadata": {},
   "outputs": [
    {
     "name": "stdout",
     "output_type": "stream",
     "text": [
      "############ Assignment 2 Question 4 BEGIN ############\n",
      "\n",
      "Linear Regression w/ Red Wines\n",
      "R^2 (train): 0.3433\n",
      "R^2 (test): 0.3331\n",
      "MSE (train): 0.4368\n",
      "MSE (test): 0.4076\n",
      "RMSE (train): 0.6609\n",
      "RMSE (test): 0.6384\n",
      "\n",
      "Linear Regression w/ White Wines\n",
      "R^2 (train): 0.2741\n",
      "R^2 (test): 0.2388\n",
      "MSE (train): 0.5556\n",
      "MSE (test): 0.6371\n",
      "RMSE (train): 0.7454\n",
      "RMSE (test): 0.7982\n",
      "\n",
      "Logistic Regression w/ Red Wines\n"
     ]
    },
    {
     "name": "stderr",
     "output_type": "stream",
     "text": [
      "D:\\Users\\16697\\Anaconda\\Lib\\site-packages\\sklearn\\linear_model\\_logistic.py:469: ConvergenceWarning: lbfgs failed to converge (status=1):\n",
      "STOP: TOTAL NO. of ITERATIONS REACHED LIMIT.\n",
      "\n",
      "Increase the number of iterations (max_iter) or scale the data as shown in:\n",
      "    https://scikit-learn.org/stable/modules/preprocessing.html\n",
      "Please also refer to the documentation for alternative solver options:\n",
      "    https://scikit-learn.org/stable/modules/linear_model.html#logistic-regression\n",
      "  n_iter_i = _check_optimize_result(\n"
     ]
    },
    {
     "data": {
      "image/png": "[encoded data removed]",
      "text/plain": [
       "<Figure size 640x480 with 2 Axes>"
      ]
     },
     "metadata": {},
     "output_type": "display_data"
    },
    {
     "name": "stdout",
     "output_type": "stream",
     "text": [
      "Accuracy: 0.9050\n",
      "\n",
      "Logistic Regression w/ White Wines\n"
     ]
    },
    {
     "name": "stderr",
     "output_type": "stream",
     "text": [
      "D:\\Users\\16697\\Anaconda\\Lib\\site-packages\\sklearn\\linear_model\\_logistic.py:469: ConvergenceWarning: lbfgs failed to converge (status=1):\n",
      "STOP: TOTAL NO. of ITERATIONS REACHED LIMIT.\n",
      "\n",
      "Increase the number of iterations (max_iter) or scale the data as shown in:\n",
      "    https://scikit-learn.org/stable/modules/preprocessing.html\n",
      "Please also refer to the documentation for alternative solver options:\n",
      "    https://scikit-learn.org/stable/modules/linear_model.html#logistic-regression\n",
      "  n_iter_i = _check_optimize_result(\n"
     ]
    },
    {
     "data": {
      "image/png": "[encoded data removed]",
      "text/plain": [
       "<Figure size 640x480 with 2 Axes>"
      ]
     },
     "metadata": {},
     "output_type": "display_data"
    },
    {
     "name": "stdout",
     "output_type": "stream",
     "text": [
      "Accuracy: 0.7935\n",
      "\n",
      "It can be observed that splitting the data between red and white wine leads to different results for both questions one and two.\n",
      "This improves evaluation results because there may be different patterns in the data for red and white wine. Splitting the data better allows the model to capture the underlying trends.\n",
      "The evaluation results improved for red wines but not for white wines because the linear regression was better fitted for the red wines compared to the white wines. \n",
      "\n",
      "############# Assignment 2 Question 4 END #############\n"
     ]
    }
   ],
   "source": [
    "print(\"############ Assignment 2 Question 4 BEGIN ############\")\n",
    "# split dataset by color\n",
    "red_data = wine_quality.data.original['color'] == 'red'\n",
    "white_data = wine_quality.data.original['color'] == 'white'\n",
    "\n",
    "x_red = x[red_data]\n",
    "y_red = y[red_data]\n",
    "x_white = x[white_data]\n",
    "y_white = y[white_data]\n",
    "\n",
    "print(\"\\nLinear Regression w/ Red Wines\")\n",
    "xr_tr, xr_te, yr_tr, yr_te = train_test_split(x_red, y_red, test_size=0.25, train_size=0.75, random_state=0)\n",
    "\n",
    "# fit and predict\n",
    "lrr = LinearRegression()\n",
    "lrr.fit(xr_tr, yr_tr)\n",
    "yr_tr_pred = lr.predict(xr_tr)\n",
    "yr_te_pred = lr.predict(xr_te)\n",
    "r2r_tr = r2_score(yr_tr, yr_tr_pred)\n",
    "r2r_te = r2_score(yr_te, yr_te_pred)\n",
    "mser_tr = mean_squared_error(yr_tr, yr_tr_pred)\n",
    "mser_te = mean_squared_error(yr_te, yr_te_pred)\n",
    "rmser_tr = np.sqrt(mser_tr)\n",
    "rmser_te = np.sqrt(mser_te)\n",
    "\n",
    "print(f\"R^2 (train): {r2r_tr:.4f}\")\n",
    "print(f\"R^2 (test): {r2r_te:.4f}\")\n",
    "print(f\"MSE (train): {mser_tr:.4f}\")\n",
    "print(f\"MSE (test): {mser_te:.4f}\")\n",
    "print(f\"RMSE (train): {rmser_tr:.4f}\")\n",
    "print(f\"RMSE (test): {rmser_te:.4f}\")\n",
    "\n",
    "print(\"\\nLinear Regression w/ White Wines\")\n",
    "xw_tr, xw_te, yw_tr, yw_te = train_test_split(x_white, y_white, test_size=0.25, train_size=0.75, random_state=0)\n",
    "\n",
    "# fit and predict\n",
    "lrw = LinearRegression()\n",
    "lrw.fit(xw_tr, yw_tr)\n",
    "yw_tr_pred = lr.predict(xw_tr)\n",
    "yw_te_pred = lr.predict(xw_te)\n",
    "r2w_tr = r2_score(yw_tr, yw_tr_pred)\n",
    "r2w_te = r2_score(yw_te, yw_te_pred)\n",
    "msew_tr = mean_squared_error(yw_tr, yw_tr_pred)\n",
    "msew_te = mean_squared_error(yw_te, yw_te_pred)\n",
    "rmsew_tr = np.sqrt(msew_tr)\n",
    "rmsew_te = np.sqrt(msew_te)\n",
    "\n",
    "print(f\"R^2 (train): {r2w_tr:.4f}\")\n",
    "print(f\"R^2 (test): {r2w_te:.4f}\")\n",
    "print(f\"MSE (train): {msew_tr:.4f}\")\n",
    "print(f\"MSE (test): {msew_te:.4f}\")\n",
    "print(f\"RMSE (train): {rmsew_tr:.4f}\")\n",
    "print(f\"RMSE (test): {rmsew_te:.4f}\")\n",
    "\n",
    "print (\"\\nLogistic Regression w/ Red Wines\")\n",
    "# labeling 1 for good wine (quality >= 7) and 0 otherwise\n",
    "yr_bin = (y >= 7).astype(int)\n",
    "yr_train_bin = yr_bin[yr_tr.index]\n",
    "yr_test_bin = yr_bin[yr_te.index]\n",
    "# fit logistic regression\n",
    "logregr = LogisticRegression(random_state=0)\n",
    "logregr.fit(xr_tr, yr_train_bin)\n",
    "yr_pred = logregr.predict(xr_te)\n",
    "\n",
    "# confusion matrix and accuracy\n",
    "cm = confusion_matrix(yr_test_bin, yr_pred)\n",
    "dispr = ConfusionMatrixDisplay(confusion_matrix=cm)\n",
    "dispr.plot(cmap='Blues')\n",
    "plt.show()\n",
    "\n",
    "acc = accuracy_score(yr_test_bin, yr_pred)\n",
    "print(f\"Accuracy: {acc:.4f}\")\n",
    "\n",
    "print (\"\\nLogistic Regression w/ White Wines\")\n",
    "# labeling 1 for good wine (quality >= 7) and 0 otherwise\n",
    "yw_bin = (y >= 7).astype(int)\n",
    "yw_train_bin = yw_bin[yw_tr.index]\n",
    "yw_test_bin = yw_bin[yw_te.index]\n",
    "# fit logistic regression\n",
    "logregw = LogisticRegression(random_state=0)\n",
    "logregw.fit(xw_tr, yw_train_bin)\n",
    "yw_pred = logregr.predict(xw_te)\n",
    "\n",
    "# confusion matrix and accuracy\n",
    "cm = confusion_matrix(yw_test_bin, yw_pred)\n",
    "dispr = ConfusionMatrixDisplay(confusion_matrix=cm)\n",
    "dispr.plot(cmap='Blues')\n",
    "plt.show()\n",
    "\n",
    "acc = accuracy_score(yw_test_bin, yw_pred)\n",
    "print(f\"Accuracy: {acc:.4f}\")\n",
    "\n",
    "print(\"\\nIt can be observed that splitting the data between red and white wine leads to different results for both questions one and two.\")\n",
    "print(\"This improves evaluation results because there may be different patterns in the data for red and white wine. Splitting the data better allows the model to capture the underlying trends.\")\n",
    "print(\"The evaluation results improved for red wines but not for white wines because the linear regression was better fitted for the red wines compared to the white wines. \\n\")\n",
    "print(\"############# Assignment 2 Question 4 END #############\")"
   ]
  },
  {
   "cell_type": "markdown",
   "id": "61f9b044",
   "metadata": {},
   "source": [
    "# Question 5\n",
    "## Now add “color” as an independent variable (a feature) into the linear regression and rerun the model. What encoding choice did you use for this feature? Evaluate the new model and compare it to the baseline you have in (1). Did it show an improvement? If so, was it as big as the improvement in (4) where you split the data set by colors? If not, why not?"
   ]
  },
  {
   "cell_type": "code",
   "execution_count": 216,
   "id": "40647eeb",
   "metadata": {},
   "outputs": [
    {
     "name": "stdout",
     "output_type": "stream",
     "text": [
      "############ Assignment 2 Question 5 BEGIN ############\n",
      "R^2 (train): 0.2965\n",
      "R^2 (test): 0.2955\n",
      "MSE (train): 0.5309\n",
      "MSE (test): 0.5538\n",
      "RMSE (train): 0.7286\n",
      "RMSE (test): 0.7442\n",
      "\n",
      "The new model did improve over the baseline results from Q1, but it was not as big of an improvement as Q4 where data was split by color.\n",
      "The colors were added on by concatting color as an independent variable, then assigning each color a integer.\n",
      "Adding color to the independent variable allows for it to be considered when running the model, but it's not as specific as a tailored model\n",
      "for each colored wine. The more tailored model in Q4 would be better at finding any underlying trends.\n",
      "############# Assignment 2 Question 5 END #############\n"
     ]
    }
   ],
   "source": [
    "print(\"############ Assignment 2 Question 5 BEGIN ############\")\n",
    "color_dummies = pd.get_dummies(wine_quality.data.original['color'], prefix='color')\n",
    "color_dummies.drop(columns='color_white', inplace=True)\n",
    "encode_x = pd.concat([x, color_dummies.astype(int)], axis=1)\n",
    "\n",
    "# split data into test and train\n",
    "ex_train, ex_test, ey_train, ey_test = train_test_split(encode_x, y, test_size=0.25, train_size=0.75, random_state=0)\n",
    "\n",
    "# fit and predict\n",
    "lr = LinearRegression()\n",
    "lr.fit(ex_train, ey_train)\n",
    "ey_train_pred = lr.predict(ex_train)\n",
    "ey_test_pred = lr.predict(ex_test)\n",
    "er2_train = r2_score(ey_train, ey_train_pred)\n",
    "er2_test = r2_score(ey_test, ey_test_pred)\n",
    "emse_train = mean_squared_error(ey_train, ey_train_pred)\n",
    "emse_test = mean_squared_error(ey_test, ey_test_pred)\n",
    "ermse_train = np.sqrt(emse_train)\n",
    "ermse_test = np.sqrt(emse_test)\n",
    "\n",
    "print(f\"R^2 (train): {er2_train:.4f}\")\n",
    "print(f\"R^2 (test): {er2_test:.4f}\")\n",
    "print(f\"MSE (train): {emse_train:.4f}\")\n",
    "print(f\"MSE (test): {emse_test:.4f}\")\n",
    "print(f\"RMSE (train): {ermse_train:.4f}\")\n",
    "print(f\"RMSE (test): {ermse_test:.4f}\")\n",
    "\n",
    "print(\"\\nThe new model did improve over the baseline results from Q1, but it was not as big of an improvement as Q4 where data was split by color.\")\n",
    "print(\"The colors were added on by concatting color as an independent variable, then assigning each color a integer.\")\n",
    "print(\"Adding color to the independent variable allows for it to be considered when running the model, but it's not as specific as a tailored model\")\n",
    "print(\"for each colored wine. The more tailored model in Q4 would be better at finding any underlying trends.\")\n",
    "print(\"############# Assignment 2 Question 5 END #############\")"
   ]
  },
  {
   "cell_type": "markdown",
   "id": "476d83f9",
   "metadata": {},
   "source": [
    "# Question 6\n",
    "## When you transformed “quality score” for the logistic regression in (2), what kind of variable-type transformation did you perform?"
   ]
  },
  {
   "cell_type": "code",
   "execution_count": 218,
   "id": "3a7dd28f",
   "metadata": {},
   "outputs": [
    {
     "name": "stdout",
     "output_type": "stream",
     "text": [
      "############ Assignment 2 Question 6 BEGIN ############\n",
      "We transform the quality score from a discrete quantitative variable (1-10) to a nominal categorical variable (good vs. bad wines).\n",
      "############# Assignment 2 Question 6 END #############\n"
     ]
    }
   ],
   "source": [
    "print(\"############ Assignment 2 Question 6 BEGIN ############\")\n",
    "print('We transform the quality score from a discrete quantitative variable (1-10) to a nominal categorical variable (good vs. bad wines).')\n",
    "print(\"############# Assignment 2 Question 6 END #############\")"
   ]
  },
  {
   "cell_type": "markdown",
   "id": "95e51f92",
   "metadata": {},
   "source": [
    "# Question 7\n",
    "## We will now rerun the KNN-Classifier from Lab 1 (Question 1) and the Logistic Regression from Lab 2 (Question 2) with feature scaling. Use the MinMaxScaler to scale all 11 features. Now compare the results with feature scaling and without from Lab 1 Q1, and Lab 2 Q2. What differences in accuracy do you see? What explains this?"
   ]
  },
  {
   "cell_type": "code",
   "execution_count": 220,
   "id": "3225f772-ca0c-4750-8db0-74b3c87a4a7c",
   "metadata": {},
   "outputs": [
    {
     "name": "stdout",
     "output_type": "stream",
     "text": [
      "############ Assignment 2 Question 7 BEGIN ############\n",
      "KNN classifier w/ 1 neighbor w/ feature scaling accuracy: 0.6228\n",
      "W/o feature scaling: 0.5754 \n",
      "\n",
      "KNN classifier w/ 3 neighbors w/ feature scaling accuracy: 0.5434\n",
      "W/o feature scaling: 0.4806 \n",
      "\n",
      "KNN classifier w/ 5 neighbors w/ feature scaling accuracy: 0.5409\n",
      "W/o feature scaling: 0.4788 \n",
      "\n",
      "Logistic regression w/ feature scaling accuracy: 0.8129\n",
      "W/o feature scaling: 0.8129 \n",
      "\n",
      "KNN's accuracy score improved with feature scaling no matter the number of neighbors. However, there wasn't a noticeable improvement in accuracy for our Logistic Regression model.\n",
      "KNN is distance-based so features with larger scales will have larger distances and be weighed more heavily by KNN. Feature scaling corrects that so no feature is over prioritized.\n",
      "However, for Logistic Regression, it's not distance-based and instead is trying to find a linear relationship between features and log-odds. Each feature has a different coefficient, so their relative ranges don't interfere with the model.\n",
      "############# Assignment 2 Question 7 END #############\n"
     ]
    }
   ],
   "source": [
    "print(\"############ Assignment 2 Question 7 BEGIN ############\")\n",
    "from sklearn.preprocessing import MinMaxScaler\n",
    "from sklearn.neighbors import KNeighborsClassifier\n",
    "\n",
    "#step 1: split the data\n",
    "x_train, x_test, y_train, y_test = train_test_split(x, y, test_size=0.25, train_size=0.75, random_state=0)\n",
    "\n",
    "#step 2: fit scaler using training data only\n",
    "scaler = MinMaxScaler()\n",
    "scaler.fit(x_train)\n",
    "\n",
    "#step 3: transform both datasets\n",
    "scaled_x_train = scaler.transform(x_train)\n",
    "scaled_x_test = scaler.transform(x_test)\n",
    "\n",
    "#step 4: train model and predict\n",
    "#KNN with 1 neighbor and feature scaling\n",
    "clf = KNeighborsClassifier(n_neighbors=1)\n",
    "clf.fit(scaled_x_train, y_train)\n",
    "print(\"KNN classifier w/ 1 neighbor w/ feature scaling accuracy: {:.4f}\".format(clf.score(scaled_x_test, y_test)))\n",
    "print(\"W/o feature scaling: 0.5754 \\n\")\n",
    "\n",
    "#KNN with 3 neighbors and feature scaling\n",
    "clf = KNeighborsClassifier(n_neighbors=3)\n",
    "clf.fit(scaled_x_train, y_train)\n",
    "print(\"KNN classifier w/ 3 neighbors w/ feature scaling accuracy: {:.4f}\".format(clf.score(scaled_x_test, y_test)))\n",
    "print(\"W/o feature scaling: 0.4806 \\n\")\n",
    "\n",
    "#KNN with 5 neighbors and feature scaling\n",
    "clf = KNeighborsClassifier(n_neighbors=5)\n",
    "clf.fit(scaled_x_train, y_train)\n",
    "print(\"KNN classifier w/ 5 neighbors w/ feature scaling accuracy: {:.4f}\".format(clf.score(scaled_x_test, y_test)))\n",
    "print(\"W/o feature scaling: 0.4788 \\n\")\n",
    "\n",
    "#Logistic regression with feature scaling\n",
    "logreg = LogisticRegression(random_state=0)\n",
    "logreg.fit(scaled_x_train, y_train_bin)\n",
    "print(\"Logistic regression w/ feature scaling accuracy: {:.4f}\".format(accuracy_score(y_test_bin, y_pred)))\n",
    "print(\"W/o feature scaling: 0.8129 \\n\")\n",
    "\n",
    "print(\"KNN's accuracy score improved with feature scaling no matter the number of neighbors. However, there wasn't a noticeable improvement in accuracy for our Logistic Regression model.\")\n",
    "print(\"KNN is distance-based so features with larger scales will have larger distances and be weighed more heavily by KNN. Feature scaling corrects that so no feature is over prioritized.\")\n",
    "print(\"However, for Logistic Regression, it's not distance-based and instead is trying to find a linear relationship between features and log-odds. Each feature has a different coefficient, so their relative ranges don't interfere with the model.\")\n",
    "print(\"############# Assignment 2 Question 7 END #############\")"
   ]
  },
  {
   "cell_type": "code",
   "execution_count": null,
   "id": "b06f6880-10a0-406a-ad79-b0427f673b6e",
   "metadata": {},
   "outputs": [],
   "source": []
  }
 ],
 "metadata": {
  "kernelspec": {
   "display_name": "Python [conda env:base] *",
   "language": "python",
   "name": "conda-base-py"
  },
  "language_info": {
   "codemirror_mode": {
    "name": "ipython",
    "version": 3
   },
   "file_extension": ".py",
   "mimetype": "text/x-python",
   "name": "python",
   "nbconvert_exporter": "python",
   "pygments_lexer": "ipython3",
   "version": "3.12.7"
  }
 },
 "nbformat": 4,
 "nbformat_minor": 5
}
