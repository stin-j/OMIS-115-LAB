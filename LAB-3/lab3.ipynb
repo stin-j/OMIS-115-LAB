{
 "cells": [
  {
   "cell_type": "markdown",
   "id": "b9b3b1e0",
   "metadata": {},
   "source": [
    "# General Preamble Code"
   ]
  },
  {
   "cell_type": "code",
   "execution_count": 1,
   "id": "0f5608e2",
   "metadata": {},
   "outputs": [],
   "source": [
    "import numpy as np\n",
    "import matplotlib.pyplot as plt\n",
    "import pandas as pd\n",
    "import mglearn\n",
    "from IPython.display import display"
   ]
  },
  {
   "cell_type": "markdown",
   "id": "879f7ebe",
   "metadata": {},
   "source": [
    "# Additional Import Code for dataset BC"
   ]
  },
  {
   "cell_type": "code",
   "execution_count": 2,
   "id": "4155f646",
   "metadata": {},
   "outputs": [
    {
     "name": "stdout",
     "output_type": "stream",
     "text": [
      "[[1.799e+01 1.038e+01 1.228e+02 ... 2.654e-01 4.601e-01 1.189e-01]\n",
      " [2.057e+01 1.777e+01 1.329e+02 ... 1.860e-01 2.750e-01 8.902e-02]\n",
      " [1.969e+01 2.125e+01 1.300e+02 ... 2.430e-01 3.613e-01 8.758e-02]\n",
      " ...\n",
      " [1.660e+01 2.808e+01 1.083e+02 ... 1.418e-01 2.218e-01 7.820e-02]\n",
      " [2.060e+01 2.933e+01 1.401e+02 ... 2.650e-01 4.087e-01 1.240e-01]\n",
      " [7.760e+00 2.454e+01 4.792e+01 ... 0.000e+00 2.871e-01 7.039e-02]] <class 'numpy.ndarray'> \n",
      "\n",
      "[0 0 0 0 0 0 0 0 0 0 0 0 0 0 0 0 0 0 0 1 1 1 0 0 0 0 0 0 0 0 0 0 0 0 0 0 0\n",
      " 1 0 0 0 0 0 0 0 0 1 0 1 1 1 1 1 0 0 1 0 0 1 1 1 1 0 1 0 0 1 1 1 1 0 1 0 0\n",
      " 1 0 1 0 0 1 1 1 0 0 1 0 0 0 1 1 1 0 1 1 0 0 1 1 1 0 0 1 1 1 1 0 1 1 0 1 1\n",
      " 1 1 1 1 1 1 0 0 0 1 0 0 1 1 1 0 0 1 0 1 0 0 1 0 0 1 1 0 1 1 0 1 1 1 1 0 1\n",
      " 1 1 1 1 1 1 1 1 0 1 1 1 1 0 0 1 0 1 1 0 0 1 1 0 0 1 1 1 1 0 1 1 0 0 0 1 0\n",
      " 1 0 1 1 1 0 1 1 0 0 1 0 0 0 0 1 0 0 0 1 0 1 0 1 1 0 1 0 0 0 0 1 1 0 0 1 1\n",
      " 1 0 1 1 1 1 1 0 0 1 1 0 1 1 0 0 1 0 1 1 1 1 0 1 1 1 1 1 0 1 0 0 0 0 0 0 0\n",
      " 0 0 0 0 0 0 0 1 1 1 1 1 1 0 1 0 1 1 0 1 1 0 1 0 0 1 1 1 1 1 1 1 1 1 1 1 1\n",
      " 1 0 1 1 0 1 0 1 1 1 1 1 1 1 1 1 1 1 1 1 1 0 1 1 1 0 1 0 1 1 1 1 0 0 0 1 1\n",
      " 1 1 0 1 0 1 0 1 1 1 0 1 1 1 1 1 1 1 0 0 0 1 1 1 1 1 1 1 1 1 1 1 0 0 1 0 0\n",
      " 0 1 0 0 1 1 1 1 1 0 1 1 1 1 1 0 1 1 1 0 1 1 0 0 1 1 1 1 1 1 0 1 1 1 1 1 1\n",
      " 1 0 1 1 1 1 1 0 1 1 0 1 1 1 1 1 1 1 1 1 1 1 1 0 1 0 0 1 0 1 1 1 1 1 0 1 1\n",
      " 0 1 0 1 1 0 1 0 1 1 1 1 1 1 1 1 0 0 1 1 1 1 1 1 0 1 1 1 1 1 1 1 1 1 1 0 1\n",
      " 1 1 1 1 1 1 0 1 0 1 1 0 1 1 1 1 1 0 0 1 0 1 0 1 1 1 1 1 0 1 1 0 1 0 1 0 0\n",
      " 1 1 1 0 1 1 1 1 1 1 1 1 1 1 1 0 1 0 0 1 1 1 1 1 1 1 1 1 1 1 1 1 1 1 1 1 1\n",
      " 1 1 1 1 1 1 1 0 0 0 0 0 0 1] <class 'numpy.ndarray'>\n"
     ]
    }
   ],
   "source": [
    "from sklearn.datasets import load_breast_cancer\n",
    "x, y = load_breast_cancer(return_X_y=True)\n",
    "print(x, type(x),\"\\n\")\n",
    "print(y, type(y))"
   ]
  },
  {
   "cell_type": "markdown",
   "id": "45640d0b",
   "metadata": {},
   "source": [
    "# Question 1\n",
    "## For the'mean radius' and 'mean perimeter' features, plot histograms separated by the target class (i.e., create one histogram of 'mean radius' for benign tumors and another for malignant tumors). The GaussianNB classifier assumes that continuous features follow a Gaussian (normal) distribution. Based on your plots, does the assumption of a normal distribution appear reasonable for these features within each class?"
   ]
  },
  {
   "cell_type": "code",
   "execution_count": null,
   "id": "bc89ee36",
   "metadata": {},
   "outputs": [
    {
     "name": "stdout",
     "output_type": "stream",
     "text": [
      "############ Assignment 3 Question 1 BEGIN ############\n"
     ]
    },
    {
     "data": {
      "image/png": "[encoded data removed]",
      "text/plain": [
       "<Figure size 1200x500 with 2 Axes>"
      ]
     },
     "metadata": {},
     "output_type": "display_data"
    },
    {
     "name": "stdout",
     "output_type": "stream",
     "text": [
      "Based on the histograms, both features show some degree of normality within each class, but there may be skewness or deviations from a perfect Gaussian shape, especially for 'mean perimeter'. The GaussianNB assumption is a reasonable approximation, but not perfect.\n",
      "############# Assignment 3 Question 1 END #############\n"
     ]
    }
   ],
   "source": [
    "print(\"############ Assignment 3 Question 1 BEGIN ############\")\n",
    "data = load_breast_cancer()\n",
    "df_bc = pd.DataFrame(x, columns=data.feature_names)\n",
    "df_bc['target'] = y\n",
    "\n",
    "# plot histograms for mean radius and mean perimeter (target class)\n",
    "features = ['mean radius', 'mean perimeter']\n",
    "target_names = ['malignant', 'benign']\n",
    "fig, axes = plt.subplots(1, 2, figsize=(12, 5))\n",
    "\n",
    "# mean radius\n",
    "df_bc[df_bc['target'] == 0][features[0]].plot(\n",
    "    kind='hist', alpha=0.6, ax=axes[0], label=target_names[0], bins=30\n",
    ")\n",
    "df_bc[df_bc['target'] == 1][features[0]].plot(\n",
    "    kind='hist', alpha=0.6, ax=axes[0], label=target_names[1], bins=30\n",
    ")\n",
    "axes[0].set_title(f\"histogram of mean radius by class\")\n",
    "axes[0].set_xlabel(features[0])\n",
    "axes[0].set_ylabel(\"Frequency\")\n",
    "axes[0].legend()\n",
    "\n",
    "# mean perimeter\n",
    "df_bc[df_bc['target'] == 0][features[1]].plot(\n",
    "    kind='hist', alpha=0.6, ax=axes[1], label=target_names[0], bins=30\n",
    ")\n",
    "df_bc[df_bc['target'] == 1][features[1]].plot(\n",
    "    kind='hist', alpha=0.6, ax=axes[1], label=target_names[1], bins=30\n",
    ")\n",
    "axes[1].set_title(f\"histogram of mean perimeter by class\")\n",
    "axes[1].set_xlabel(features[1])\n",
    "axes[1].set_ylabel(\"Frequency\")\n",
    "axes[1].legend()\n",
    "\n",
    "plt.show()\n",
    "\n",
    "print(\"Based on the histograms, both features show some degree of normality within each class but it is not a perfect Gaussian shape. The GaussianNB assumption is reasonable approximation, but not perfect.\")\n",
    "print(\"############# Assignment 3 Question 1 END #############\")"
   ]
  },
  {
   "cell_type": "markdown",
   "id": "984f88cc",
   "metadata": {},
   "source": [
    "# Question 2\n",
    "## The naive assumption assumes that features are independent of each other. Generate a correlation matrix for the numerical features in the dataset. Do you see any highly correlated features? Explain how the model can still perform reasonably well even if this core assumption is violated."
   ]
  },
  {
   "cell_type": "code",
   "execution_count": null,
   "id": "3242e087",
   "metadata": {},
   "outputs": [],
   "source": [
    "print(\"############ Assignment 3 Question 2 BEGIN ############\")\n",
    "\n",
    "# generate a correlation matrix (WIP)\n",
    "\n",
    "# identify highly correlated features (WIP)\n",
    "\n",
    "# explain how model performs well even if features aren't independent (WIP)\n",
    "\n",
    "print(\"############# Assignment 3 Question 2 END #############\")"
   ]
  },
  {
   "cell_type": "markdown",
   "id": "3a300d75",
   "metadata": {},
   "source": [
    "# Question 3\n",
    "## Train GaussianNB classifier and report its accuracy on the training and test set. Remember general test/train split and random_state instructions from before."
   ]
  },
  {
   "cell_type": "code",
   "execution_count": null,
   "id": "7aad5246",
   "metadata": {},
   "outputs": [],
   "source": [
    "print(\"############ Assignment 3 Question 3 BEGIN ############\")\n",
    "\n",
    "# creating train and test data\n",
    "from sklearn.model_selection import train_test_split\n",
    "x_train, x_test, y_train, y_test = train_test_split(x, y, test_size=0.25, train_size=0.75, random_state=0)\n",
    "\n",
    "# creating naive bayes model\n",
    "from sklearn.naive_bayes import GaussianNB\n",
    "gnb = GaussianNB()\n",
    "gnb.fit(x_train, y_train)\n",
    "\n",
    "# evaluating the model\n",
    "y_pred = gnb.predict(x_test)\n",
    "print(f\"Accuracy (train set): {gnb.score(x_train, y_train):.4f}\")\n",
    "print(f\"Accuracy (test set): {gnb.score(x_test, y_test):.4f}\")\n",
    "print(\"Number of mislabeled test data points out of a total %d points : %d\"\n",
    "      % (x_test.shape[0], (y_test != y_pred).sum()))\n",
    "\n",
    "print(\"############# Assignment 3 Question 3 END #############\")"
   ]
  },
  {
   "cell_type": "markdown",
   "id": "dd29b9ca",
   "metadata": {},
   "source": [
    "# Question 4\n",
    "## Plot the confusion matrix for this classifier, and also compute “recall” for the malignant class. In the context of cancer diagnosis, why is this metric (also known as sensitivity) often considered more critical than precision?"
   ]
  },
  {
   "cell_type": "code",
   "execution_count": null,
   "id": "1ab47a61",
   "metadata": {},
   "outputs": [],
   "source": [
    "print(\"############ Assignment 3 Question 4 BEGIN ############\")\n",
    "\n",
    "# plot the confusion matrix\n",
    "from sklearn.metrics import confusion_matrix, ConfusionMatrixDisplay, recall_score\n",
    "cm = confusion_matrix(y_test, y_pred)\n",
    "disp = ConfusionMatrixDisplay(confusion_matrix=cm)\n",
    "disp.plot(cmap='Blues')\n",
    "plt.show()\n",
    "\n",
    "# compute recall for the malignant class (class 0)\n",
    "recall_malignant = recall_score(y_test, y_pred, pos_label=0)\n",
    "print(f\"Recall of malignant class: {recall_malignant}\")\n",
    "\n",
    "# explain why sensitivity > precision for cancer diagnosis\n",
    "print(\"Sensitivity/recall is more critical than precision in cancer diagnosis because missing a malignant case(false negative) can have severe consequences for the patient. It is more important to correctly identify all malignant cases, even if it means some benign cases are incorrectly flagged which are false positives.\")\n",
    "\n",
    "print(\"############# Assignment 3 Question 4 END #############\")"
   ]
  },
  {
   "cell_type": "markdown",
   "id": "61f9b044",
   "metadata": {},
   "source": [
    "# Question 5\n",
    "## The CategoricalNB model cannot handle continuous data. To use it, we must first discretize (or \"bin\") our features. Using KBinsDiscretizer with n_bins=4 and encode='ordinal', transform the entire feature set X into a discretized version. Create a new training and test split using this fully discretized dataset and train a CategoricalNB model. "
   ]
  },
  {
   "cell_type": "code",
   "execution_count": null,
   "id": "40647eeb",
   "metadata": {},
   "outputs": [],
   "source": [
    "print(\"############ Assignment 3 Question 5 BEGIN ############\")\n",
    "\n",
    "# transform continuous data into discrete categories\n",
    "from sklearn.preprocessing import KBinsDiscretizer\n",
    "encoder = KBinsDiscretizer(n_bins=4, encode='ordinal')\n",
    "x_discrete = encoder.fit(x).transform(x)\n",
    "x_train_discrete, x_test_discrete, y_train_discrete, y_test_discrete = train_test_split(x_discrete, y, test_size=0.25, train_size=0.75, random_state=0)\n",
    "\n",
    "# train categoricalnb model with transformed data\n",
    "from sklearn.naive_bayes import CategoricalNB\n",
    "cnb = CategoricalNB()\n",
    "cnb.fit(x_train_discrete, y_train_discrete)\n",
    "y_pred_discrete = cnb.predict(x_test_discrete)\n",
    "\n",
    "print(\"############# Assignment 3 Question 5 END #############\")"
   ]
  },
  {
   "cell_type": "markdown",
   "id": "476d83f9",
   "metadata": {},
   "source": [
    "# Question 6\n",
    "## Report its accuracy on the discretized test set. How does its performance compare to the GaussianNB model? Briefly explain why their performances might differ."
   ]
  },
  {
   "cell_type": "code",
   "execution_count": null,
   "id": "3a7dd28f",
   "metadata": {},
   "outputs": [],
   "source": [
    "print(\"############ Assignment 3 Question 6 BEGIN ############\")\n",
    "\n",
    "# evaluating the model\n",
    "print(f\"Accuracy (train set): {cnb.score(x_train_discrete, y_train_discrete):.4f}\")\n",
    "print(f\"Accuracy (test set): {cnb.score(x_test_discrete, y_test_discrete):.4f}\")\n",
    "print(\"Number of mislabeled points out of a total %d points : %d\"\n",
    "      % (x_test_discrete.shape[0], (y_test_discrete != y_pred_discrete).sum()))\n",
    "\n",
    "# compare and explain different in performance (WIP)\n",
    "\n",
    "print(\"############# Assignment 3 Question 6 END #############\")"
   ]
  },
  {
   "cell_type": "markdown",
   "id": "95e51f92",
   "metadata": {},
   "source": [
    "# Question 7\n",
    "## The CategoricalNB classifier has a hyperparameter called alpha which controls Laplace smoothing. What problem does this smoothing solve in the context of our discretized data? What could happen if a specific bin for a feature (e.g., the highest bin for 'mean radius') was present in the test set but never appeared in the training set for malignant cases, and we were not using any smoothing (alpha=0)?"
   ]
  },
  {
   "cell_type": "code",
   "execution_count": null,
   "id": "3225f772-ca0c-4750-8db0-74b3c87a4a7c",
   "metadata": {},
   "outputs": [],
   "source": [
    "print(\"############ Assignment 3 Question 7 BEGIN ############\")\n",
    "\n",
    "# what does smoothing mean in this context (WIP)\n",
    "\n",
    "# what happens if a bin was present for test set but not training sets but we didn't use smoothing\n",
    "print(\"If there was a feature where a bin appeared in our test set but not in the training set for malignant cases, then the probability of YES (i.e. malignant diagnosis) given that feature (e.g. mean radius) will be 0 (false) no matter what\")\n",
    "print(\"Without smoothing, that feature would zero-out the other features' probabilities of malignant tumor, leading to a false negative (we diagnose as benign when really it is malignant).\")\n",
    "\n",
    "print(\"############# Assignment 3 Question 7 END #############\")"
   ]
  },
  {
   "cell_type": "code",
   "execution_count": null,
   "id": "b06f6880-10a0-406a-ad79-b0427f673b6e",
   "metadata": {},
   "outputs": [],
   "source": []
  }
 ],
 "metadata": {
  "kernelspec": {
   "display_name": "base",
   "language": "python",
   "name": "python3"
  },
  "language_info": {
   "codemirror_mode": {
    "name": "ipython",
    "version": 3
   },
   "file_extension": ".py",
   "mimetype": "text/x-python",
   "name": "python",
   "nbconvert_exporter": "python",
   "pygments_lexer": "ipython3",
   "version": "3.10.9"
  }
 },
 "nbformat": 4,
 "nbformat_minor": 5
}
