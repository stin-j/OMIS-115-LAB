{
 "cells": [
  {
   "cell_type": "markdown",
   "id": "b9b3b1e0",
   "metadata": {},
   "source": [
    "# General Preamble Code"
   ]
  },
  {
   "cell_type": "code",
   "execution_count": 1,
   "id": "0f5608e2",
   "metadata": {},
   "outputs": [],
   "source": [
    "import numpy as np\n",
    "import matplotlib.pyplot as plt\n",
    "import pandas as pd\n",
    "import mglearn\n",
    "from IPython.display import display"
   ]
  },
  {
   "cell_type": "markdown",
   "id": "879f7ebe",
   "metadata": {},
   "source": [
    "# Additional Import Code for dataset BC"
   ]
  },
  {
   "cell_type": "code",
   "execution_count": 2,
   "id": "4155f646",
   "metadata": {},
   "outputs": [
    {
     "name": "stdout",
     "output_type": "stream",
     "text": [
      "[[1.799e+01 1.038e+01 1.228e+02 ... 2.654e-01 4.601e-01 1.189e-01]\n",
      " [2.057e+01 1.777e+01 1.329e+02 ... 1.860e-01 2.750e-01 8.902e-02]\n",
      " [1.969e+01 2.125e+01 1.300e+02 ... 2.430e-01 3.613e-01 8.758e-02]\n",
      " ...\n",
      " [1.660e+01 2.808e+01 1.083e+02 ... 1.418e-01 2.218e-01 7.820e-02]\n",
      " [2.060e+01 2.933e+01 1.401e+02 ... 2.650e-01 4.087e-01 1.240e-01]\n",
      " [7.760e+00 2.454e+01 4.792e+01 ... 0.000e+00 2.871e-01 7.039e-02]] <class 'numpy.ndarray'> \n",
      "\n",
      "[0 0 0 0 0 0 0 0 0 0 0 0 0 0 0 0 0 0 0 1 1 1 0 0 0 0 0 0 0 0 0 0 0 0 0 0 0\n",
      " 1 0 0 0 0 0 0 0 0 1 0 1 1 1 1 1 0 0 1 0 0 1 1 1 1 0 1 0 0 1 1 1 1 0 1 0 0\n",
      " 1 0 1 0 0 1 1 1 0 0 1 0 0 0 1 1 1 0 1 1 0 0 1 1 1 0 0 1 1 1 1 0 1 1 0 1 1\n",
      " 1 1 1 1 1 1 0 0 0 1 0 0 1 1 1 0 0 1 0 1 0 0 1 0 0 1 1 0 1 1 0 1 1 1 1 0 1\n",
      " 1 1 1 1 1 1 1 1 0 1 1 1 1 0 0 1 0 1 1 0 0 1 1 0 0 1 1 1 1 0 1 1 0 0 0 1 0\n",
      " 1 0 1 1 1 0 1 1 0 0 1 0 0 0 0 1 0 0 0 1 0 1 0 1 1 0 1 0 0 0 0 1 1 0 0 1 1\n",
      " 1 0 1 1 1 1 1 0 0 1 1 0 1 1 0 0 1 0 1 1 1 1 0 1 1 1 1 1 0 1 0 0 0 0 0 0 0\n",
      " 0 0 0 0 0 0 0 1 1 1 1 1 1 0 1 0 1 1 0 1 1 0 1 0 0 1 1 1 1 1 1 1 1 1 1 1 1\n",
      " 1 0 1 1 0 1 0 1 1 1 1 1 1 1 1 1 1 1 1 1 1 0 1 1 1 0 1 0 1 1 1 1 0 0 0 1 1\n",
      " 1 1 0 1 0 1 0 1 1 1 0 1 1 1 1 1 1 1 0 0 0 1 1 1 1 1 1 1 1 1 1 1 0 0 1 0 0\n",
      " 0 1 0 0 1 1 1 1 1 0 1 1 1 1 1 0 1 1 1 0 1 1 0 0 1 1 1 1 1 1 0 1 1 1 1 1 1\n",
      " 1 0 1 1 1 1 1 0 1 1 0 1 1 1 1 1 1 1 1 1 1 1 1 0 1 0 0 1 0 1 1 1 1 1 0 1 1\n",
      " 0 1 0 1 1 0 1 0 1 1 1 1 1 1 1 1 0 0 1 1 1 1 1 1 0 1 1 1 1 1 1 1 1 1 1 0 1\n",
      " 1 1 1 1 1 1 0 1 0 1 1 0 1 1 1 1 1 0 0 1 0 1 0 1 1 1 1 1 0 1 1 0 1 0 1 0 0\n",
      " 1 1 1 0 1 1 1 1 1 1 1 1 1 1 1 0 1 0 0 1 1 1 1 1 1 1 1 1 1 1 1 1 1 1 1 1 1\n",
      " 1 1 1 1 1 1 1 0 0 0 0 0 0 1] <class 'numpy.ndarray'>\n"
     ]
    }
   ],
   "source": [
    "from sklearn.datasets import load_breast_cancer\n",
    "x, y = load_breast_cancer(return_X_y=True)\n",
    "print(x, type(x),\"\\n\")\n",
    "print(y, type(y))"
   ]
  },
  {
   "cell_type": "markdown",
   "id": "45640d0b",
   "metadata": {},
   "source": [
    "# Question 1\n",
    "## For the'mean radius' and 'mean perimeter' features, plot histograms separated by the target class (i.e., create one histogram of 'mean radius' for benign tumors and another for malignant tumors). The GaussianNB classifier assumes that continuous features follow a Gaussian (normal) distribution. Based on your plots, does the assumption of a normal distribution appear reasonable for these features within each class?"
   ]
  },
  {
   "cell_type": "code",
   "execution_count": 3,
   "id": "bc89ee36",
   "metadata": {},
   "outputs": [],
   "source": [
    "# print(\"############ Assignment 3 Question 1 BEGIN ############\")\n",
    "\n",
    "# fig, axes = plt.subplots(1, 1, figsize=(10, 20))\n",
    "# malignant = cancer.data[cancer.target == 0]\n",
    "# benign = cancer.data[cancer.target == 1]\n",
    "\n",
    "# # plot histograms for mean radius, one benign and one malignant (WIP)\n",
    "# plt.hist(benign['mean radius'], bins=20, alpha=0.5, label='Benign', color='green')\n",
    "# plt.hist(malignant['mean radius'], bins=20, alpha=0.5, label='Malignant', color='red')"
   ]
  },
  {
   "cell_type": "code",
   "execution_count": 4,
   "id": "38118b83-2268-4885-9553-6ccd486d921a",
   "metadata": {},
   "outputs": [],
   "source": [
    "# # plot histograms for mean perimeter, one benign and one malignant (WIP)\n",
    "# plt.hist(benign['mean perimeter'], bins=20, alpha=0.5, label='Benign', color='green')\n",
    "# plt.hist(malignant['mean perimeter'], bins=20, alpha=0.5, label='Malignant', color='red')"
   ]
  },
  {
   "cell_type": "code",
   "execution_count": 5,
   "id": "13787bc7-38ae-493e-a899-a86b40a38c23",
   "metadata": {},
   "outputs": [],
   "source": [
    "# # evaluate if normal distribution assumption is reasonable (WIP)\n",
    "# print(\"The normal distribution assumption is not reasonable because both histograms are skewed a bit to the right.\")\n",
    "# print(\"############# Assignment 3 Question 1 END #############\")"
   ]
  },
  {
   "cell_type": "markdown",
   "id": "984f88cc",
   "metadata": {},
   "source": [
    "# Question 2\n",
    "## The naive assumption assumes that features are independent of each other. Generate a correlation matrix for the numerical features in the dataset. Do you see any highly correlated features? Explain how the model can still perform reasonably well even if this core assumption is violated."
   ]
  },
  {
   "cell_type": "code",
   "execution_count": 6,
   "id": "3242e087",
   "metadata": {},
   "outputs": [
    {
     "name": "stdout",
     "output_type": "stream",
     "text": [
      "############ Assignment 3 Question 2 BEGIN ############\n",
      "############# Assignment 3 Question 2 END #############\n"
     ]
    }
   ],
   "source": [
    "print(\"############ Assignment 3 Question 2 BEGIN ############\")\n",
    "\n",
    "# generate a correlation matrix (WIP)\n",
    "\n",
    "# identify highly correlated features (WIP)\n",
    "\n",
    "# explain how model performs well even if features aren't independent (WIP)\n",
    "\n",
    "print(\"############# Assignment 3 Question 2 END #############\")"
   ]
  },
  {
   "cell_type": "markdown",
   "id": "3a300d75",
   "metadata": {},
   "source": [
    "# Question 3\n",
    "## Train GaussianNB classifier and report its accuracy on the training and test set. Remember general test/train split and random_state instructions from before."
   ]
  },
  {
   "cell_type": "code",
   "execution_count": 7,
   "id": "7aad5246",
   "metadata": {},
   "outputs": [
    {
     "name": "stdout",
     "output_type": "stream",
     "text": [
      "############ Assignment 3 Question 3 BEGIN ############\n",
      "Accuracy (train set): 0.9507\n",
      "Accuracy (test set): 0.9371\n",
      "Number of mislabeled test data points out of a total 143 points : 9\n",
      "############# Assignment 3 Question 3 END #############\n"
     ]
    }
   ],
   "source": [
    "print(\"############ Assignment 3 Question 3 BEGIN ############\")\n",
    "\n",
    "# creating train and test data\n",
    "from sklearn.model_selection import train_test_split\n",
    "x_train, x_test, y_train, y_test = train_test_split(x, y, test_size=0.25, train_size=0.75, random_state=0)\n",
    "\n",
    "# creating naive bayes model\n",
    "from sklearn.naive_bayes import GaussianNB\n",
    "gnb = GaussianNB()\n",
    "gnb.fit(x_train, y_train)\n",
    "\n",
    "# evaluating the model\n",
    "y_pred = gnb.predict(x_test)\n",
    "print(f\"Accuracy (train set): {gnb.score(x_train, y_train):.4f}\")\n",
    "print(f\"Accuracy (test set): {gnb.score(x_test, y_test):.4f}\")\n",
    "print(\"Number of mislabeled test data points out of a total %d points : %d\"\n",
    "      % (x_test.shape[0], (y_test != y_pred).sum()))\n",
    "\n",
    "print(\"############# Assignment 3 Question 3 END #############\")"
   ]
  },
  {
   "cell_type": "markdown",
   "id": "dd29b9ca",
   "metadata": {},
   "source": [
    "# Question 4\n",
    "## Plot the confusion matrix for this classifier, and also compute “recall” for the malignant class. In the context of cancer diagnosis, why is this metric (also known as sensitivity) often considered more critical than precision?"
   ]
  },
  {
   "cell_type": "code",
   "execution_count": null,
   "id": "1ab47a61",
   "metadata": {},
   "outputs": [
    {
     "name": "stdout",
     "output_type": "stream",
     "text": [
      "############ Assignment 3 Question 4 BEGIN ############\n"
     ]
    },
    {
     "data": {
      "image/png": "[encoded data removed]",
      "text/plain": [
       "<Figure size 640x480 with 2 Axes>"
      ]
     },
     "metadata": {},
     "output_type": "display_data"
    },
    {
     "name": "stdout",
     "output_type": "stream",
     "text": [
      "Recall (malignant class): 0.9056603773584906\n",
      "Sensitivity/recall is more critical than precision in cancer diagnosis because missing a malignant case(false negative) can have severe consequences for the patient. It is more important to correctly identify all malignant cases, even if it means some benign cases are incorrectly flagged which are false positives.\n",
      "############# Assignment 3 Question 4 END #############\n"
     ]
    }
   ],
   "source": [
    "print(\"############ Assignment 3 Question 4 BEGIN ############\")\n",
    "\n",
    "# plot the confusion matrix\n",
    "from sklearn.metrics import confusion_matrix, ConfusionMatrixDisplay, recall_score\n",
    "cm = confusion_matrix(y_test, y_pred)\n",
    "disp = ConfusionMatrixDisplay(confusion_matrix=cm)\n",
    "disp.plot(cmap='Blues')\n",
    "plt.show()\n",
    "\n",
    "# compute recall for the malignant class (class 0)\n",
    "recall_malignant = recall_score(y_test, y_pred, pos_label=0)\n",
    "print(f\"Recall of malignant class: {recall_malignant}\")\n",
    "\n",
    "# explain why sensitivity > precision for cancer diagnosis\n",
    "print(\"Sensitivity/recall is more critical than precision in cancer diagnosis because missing a malignant case(false negative) can have severe consequences for the patient. It is more important to correctly identify all malignant cases, even if it means some benign cases are incorrectly flagged which are false positives.\")\n",
    "\n",
    "print(\"############# Assignment 3 Question 4 END #############\")"
   ]
  },
  {
   "cell_type": "markdown",
   "id": "61f9b044",
   "metadata": {},
   "source": [
    "# Question 5\n",
    "## The CategoricalNB model cannot handle continuous data. To use it, we must first discretize (or \"bin\") our features. Using KBinsDiscretizer with n_bins=4 and encode='ordinal', transform the entire feature set X into a discretized version. Create a new training and test split using this fully discretized dataset and train a CategoricalNB model. "
   ]
  },
  {
   "cell_type": "code",
   "execution_count": 9,
   "id": "40647eeb",
   "metadata": {},
   "outputs": [
    {
     "name": "stdout",
     "output_type": "stream",
     "text": [
      "############ Assignment 3 Question 5 BEGIN ############\n",
      "############# Assignment 3 Question 5 END #############\n"
     ]
    },
    {
     "name": "stderr",
     "output_type": "stream",
     "text": [
      "/Users/fustin/miniconda/lib/python3.10/site-packages/sklearn/preprocessing/_discretization.py:296: FutureWarning: The current default behavior, quantile_method='linear', will be changed to quantile_method='averaged_inverted_cdf' in scikit-learn version 1.9 to naturally support sample weight equivalence properties by default. Pass quantile_method='averaged_inverted_cdf' explicitly to silence this warning.\n",
      "  warnings.warn(\n"
     ]
    }
   ],
   "source": [
    "print(\"############ Assignment 3 Question 5 BEGIN ############\")\n",
    "\n",
    "# transform continuous data into discrete categories\n",
    "from sklearn.preprocessing import KBinsDiscretizer\n",
    "encoder = KBinsDiscretizer(n_bins=4, encode='ordinal')\n",
    "x_discrete = encoder.fit(x).transform(x)\n",
    "x_train_discrete, x_test_discrete, y_train_discrete, y_test_discrete = train_test_split(x_discrete, y, test_size=0.25, train_size=0.75, random_state=0)\n",
    "\n",
    "# train categoricalnb model with transformed data\n",
    "from sklearn.naive_bayes import CategoricalNB\n",
    "cnb = CategoricalNB()\n",
    "cnb.fit(x_train_discrete, y_train_discrete)\n",
    "y_pred_discrete = cnb.predict(x_test_discrete)\n",
    "\n",
    "print(\"############# Assignment 3 Question 5 END #############\")"
   ]
  },
  {
   "cell_type": "markdown",
   "id": "476d83f9",
   "metadata": {},
   "source": [
    "# Question 6\n",
    "## Report its accuracy on the discretized test set. How does its performance compare to the GaussianNB model? Briefly explain why their performances might differ."
   ]
  },
  {
   "cell_type": "code",
   "execution_count": 10,
   "id": "3a7dd28f",
   "metadata": {},
   "outputs": [
    {
     "name": "stdout",
     "output_type": "stream",
     "text": [
      "############ Assignment 3 Question 6 BEGIN ############\n",
      "Accuracy (train set): 0.9484\n",
      "Accuracy (test set): 0.9301\n",
      "Number of mislabeled points out of a total 143 points : 10\n",
      "############# Assignment 3 Question 6 END #############\n"
     ]
    }
   ],
   "source": [
    "print(\"############ Assignment 3 Question 6 BEGIN ############\")\n",
    "\n",
    "# evaluating the model\n",
    "print(f\"Accuracy (train set): {cnb.score(x_train_discrete, y_train_discrete):.4f}\")\n",
    "print(f\"Accuracy (test set): {cnb.score(x_test_discrete, y_test_discrete):.4f}\")\n",
    "print(\"Number of mislabeled points out of a total %d points : %d\"\n",
    "      % (x_test_discrete.shape[0], (y_test_discrete != y_pred_discrete).sum()))\n",
    "\n",
    "# compare and explain different in performance (WIP)\n",
    "\n",
    "print(\"############# Assignment 3 Question 6 END #############\")"
   ]
  },
  {
   "cell_type": "markdown",
   "id": "95e51f92",
   "metadata": {},
   "source": [
    "# Question 7\n",
    "## The CategoricalNB classifier has a hyperparameter called alpha which controls Laplace smoothing. What problem does this smoothing solve in the context of our discretized data? What could happen if a specific bin for a feature (e.g., the highest bin for 'mean radius') was present in the test set but never appeared in the training set for malignant cases, and we were not using any smoothing (alpha=0)?"
   ]
  },
  {
   "cell_type": "code",
   "execution_count": 11,
   "id": "3225f772-ca0c-4750-8db0-74b3c87a4a7c",
   "metadata": {},
   "outputs": [
    {
     "name": "stdout",
     "output_type": "stream",
     "text": [
      "############ Assignment 3 Question 7 BEGIN ############\n",
      "If there was a feature where a bin appeared in our test set but not in the training set for malignant cases, then the probability of YES (i.e. malignant diagnosis) given that feature (e.g. mean radius) will be 0 (false) no matter what\n",
      "Without smoothing, that feature would zero-out the other features' probabilities of malignant tumor, leading to a false negative (we diagnose as benign when really it is malignant).\n",
      "############# Assignment 3 Question 7 END #############\n"
     ]
    }
   ],
   "source": [
    "print(\"############ Assignment 3 Question 7 BEGIN ############\")\n",
    "\n",
    "# what does smoothing mean in this context (WIP)\n",
    "\n",
    "# what happens if a bin was present for test set but not training sets but we didn't use smoothing\n",
    "print(\"If there was a feature where a bin appeared in our test set but not in the training set for malignant cases, then the probability of YES (i.e. malignant diagnosis) given that feature (e.g. mean radius) will be 0 (false) no matter what\")\n",
    "print(\"Without smoothing, that feature would zero-out the other features' probabilities of malignant tumor, leading to a false negative (we diagnose as benign when really it is malignant).\")\n",
    "\n",
    "print(\"############# Assignment 3 Question 7 END #############\")"
   ]
  },
  {
   "cell_type": "code",
   "execution_count": null,
   "id": "b06f6880-10a0-406a-ad79-b0427f673b6e",
   "metadata": {},
   "outputs": [],
   "source": []
  }
 ],
 "metadata": {
  "kernelspec": {
   "display_name": "base",
   "language": "python",
   "name": "python3"
  },
  "language_info": {
   "codemirror_mode": {
    "name": "ipython",
    "version": 3
   },
   "file_extension": ".py",
   "mimetype": "text/x-python",
   "name": "python",
   "nbconvert_exporter": "python",
   "pygments_lexer": "ipython3",
   "version": "3.10.9"
  }
 },
 "nbformat": 4,
 "nbformat_minor": 5
}
