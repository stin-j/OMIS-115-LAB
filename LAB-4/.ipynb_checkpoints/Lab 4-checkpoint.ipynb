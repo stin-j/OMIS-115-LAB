{
 "cells": [
  {
   "cell_type": "markdown",
   "id": "9a2a797c-3883-485b-8731-f740ab0eac48",
   "metadata": {},
   "source": [
    "# General Preamble Code"
   ]
  },
  {
   "cell_type": "code",
   "execution_count": 9,
   "id": "d95800f9-5f8a-4aa7-ab9f-366484d92fa3",
   "metadata": {},
   "outputs": [],
   "source": [
    "import numpy as np\n",
    "import matplotlib.pyplot as plt\n",
    "import pandas as pd\n",
    "import mglearn\n",
    "from IPython.display import display"
   ]
  },
  {
   "cell_type": "markdown",
   "id": "4abe4c93-2dc4-425e-be1e-8e2fbb0c9557",
   "metadata": {},
   "source": [
    "# Additional Import Code for Dataset C"
   ]
  },
  {
   "cell_type": "code",
   "execution_count": 10,
   "id": "8bd9a880-6ab7-4460-99b8-25a828874995",
   "metadata": {},
   "outputs": [],
   "source": [
    "from sklearn.datasets import fetch_california_housing\n",
    "california_housing = fetch_california_housing(as_frame=True)\n",
    "california_housing.frame.head()\n",
    "X = california_housing.data \n",
    "y = california_housing.target"
   ]
  },
  {
   "cell_type": "markdown",
   "id": "49b84030-7a87-44b1-ba64-e6169e23b54b",
   "metadata": {},
   "source": [
    "# Section A"
   ]
  },
  {
   "cell_type": "markdown",
   "id": "cd649cad-8a38-4081-8b5d-2a5366bdaf43",
   "metadata": {},
   "source": [
    "# Question 1\n",
    "## Train a DecisionTreeRegressor model using its default parameters (and random_state=0). Evaluate its R-squared score on both the training and test sets. Explain this phenomenon. What is the model doing with the training data, and how well does this behavior generalize to the test data? Why such a generalization outcome?"
   ]
  },
  {
   "cell_type": "code",
   "execution_count": 11,
   "id": "15ec3e62-ffad-4b28-a37c-5a1a06c845da",
   "metadata": {},
   "outputs": [
    {
     "name": "stdout",
     "output_type": "stream",
     "text": [
      "############ Assignment 4 Section A Question 1 BEGIN ############\n",
      "############ Assignment 4 Section A Question 1 END ############\n"
     ]
    }
   ],
   "source": [
    "print(\"############ Assignment 4 Section A Question 1 BEGIN ############\")\n",
    "\n",
    "print(\"############ Assignment 4 Section A Question 1 END ############\")"
   ]
  },
  {
   "cell_type": "markdown",
   "id": "37fb2296-dbf0-432a-9eb5-e63ac27f662a",
   "metadata": {},
   "source": [
    "# Question 2\n",
    "## Train a new DecisionTreeRegressor, but this time constrain its growth by setting the hyperparameter max_depth=5 (and random_state=0). Report the training and test R2 scores. Compare these scores to the ones from the unconstrained model in A.1. How did limiting the tree's depth affect the training score and the test score? Explain the trade-off that max_depth controls."
   ]
  },
  {
   "cell_type": "code",
   "execution_count": 12,
   "id": "099b7882-fb09-4fc0-a81c-c722d15013c7",
   "metadata": {},
   "outputs": [
    {
     "name": "stdout",
     "output_type": "stream",
     "text": [
      "############ Assignment 4 Section A Question 2 BEGIN ############\n",
      "############ Assignment 4 Section A Question 2 END ############\n"
     ]
    }
   ],
   "source": [
    "print(\"############ Assignment 4 Section A Question 2 BEGIN ############\")\n",
    "\n",
    "print(\"############ Assignment 4 Section A Question 2 END ############\")"
   ]
  },
  {
   "cell_type": "markdown",
   "id": "5a68a930-fe8b-43ce-90ea-eff30700065f",
   "metadata": {},
   "source": [
    "# Question 3\n",
    "##  Using matplotlib.pyplot and sklearn.tree.plot_tree, generate a visualization of the pruned tree from A.2. Then, select the first instance from your test set and manually trace its path from the root node to a leaf node. Print the feature values of this instance and the final predicted value from the model. Based on your visualization, describe the series of decisions (the 'if-then' rules) the model used to arrive at the prediction for this specific house. Does this visual interpretability make the model more trustworthy than, for example, a KNN model from Lab 1?"
   ]
  },
  {
   "cell_type": "code",
   "execution_count": 13,
   "id": "00be87da-8919-4e64-9e92-283ba4118842",
   "metadata": {},
   "outputs": [
    {
     "name": "stdout",
     "output_type": "stream",
     "text": [
      "############ Assignment 4 Section A Question 3 BEGIN ############\n",
      "############ Assignment 4 Section A Question 3 END ############\n"
     ]
    }
   ],
   "source": [
    "print(\"############ Assignment 4 Section A Question 3 BEGIN ############\")\n",
    "\n",
    "print(\"############ Assignment 4 Section A Question 3 END ############\")"
   ]
  },
  {
   "cell_type": "markdown",
   "id": "53b5d736-2a4f-4067-a17d-cb04a433d6d3",
   "metadata": {},
   "source": [
    "# Question 4\n",
    "## Extract the feature_importances_ from the max_depth=5 regressor. Create a horizontal bar chart that plots the importance of each feature, sorted by importance. Identify the top three most important features according to your model. Provide a real-world, intuitive explanation for why each of these features would be highly influential in determining a house's value in California."
   ]
  },
  {
   "cell_type": "code",
   "execution_count": 14,
   "id": "097dc15b-ff76-4fdf-be04-5d48469f6baf",
   "metadata": {},
   "outputs": [
    {
     "name": "stdout",
     "output_type": "stream",
     "text": [
      "############ Assignment 4 Section A Question 4 BEGIN ############\n",
      "############ Assignment 4 Section A Question 4 END ############\n"
     ]
    }
   ],
   "source": [
    "print(\"############ Assignment 4 Section A Question 4 BEGIN ############\")\n",
    "\n",
    "print(\"############ Assignment 4 Section A Question 4 END ############\")"
   ]
  },
  {
   "cell_type": "markdown",
   "id": "94ea99fd-8105-4d9d-9f47-67132357dc7b",
   "metadata": {},
   "source": [
    "# Question 5\n",
    "## Train another DecisionTreeRegressor (random_state=0). This time, leave max_depth at its default (None) but set min_samples_leaf=20. Report the training and test R2 scores. Compare the performance of this model (using min_samples_leaf) with the one from A.2 (using max_depth). Which pruning strategy yielded a better test score? Briefly describe a situation where one hyperparameter might be more intuitive to set than the other."
   ]
  },
  {
   "cell_type": "code",
   "execution_count": 15,
   "id": "180ce808-c97a-44a6-8662-777a7a7aefb7",
   "metadata": {},
   "outputs": [
    {
     "name": "stdout",
     "output_type": "stream",
     "text": [
      "############ Assignment 4 Section A Question 5 BEGIN ############\n",
      "############ Assignment 4 Section A Question 5 END ############\n"
     ]
    }
   ],
   "source": [
    "print(\"############ Assignment 4 Section A Question 5 BEGIN ############\")\n",
    "\n",
    "print(\"############ Assignment 4 Section A Question 5 END ############\")"
   ]
  },
  {
   "cell_type": "markdown",
   "id": "27706965-87c6-4e1a-a4a4-a194372cc38b",
   "metadata": {},
   "source": [
    "# Question 6\n",
    "## Train a LinearRegression model (from sklearn.linear_model) on the same training data. Report its test R2 score. How does the linear model's performance compare to your best decision tree model? Decision trees can capture non-linear relationships, while linear regression cannot. Despite this, describe a scenario or a business reason why you might still choose the linear model for this problem."
   ]
  },
  {
   "cell_type": "code",
   "execution_count": 16,
   "id": "09722838-5fbc-4283-a29f-d729ca68322e",
   "metadata": {},
   "outputs": [
    {
     "name": "stdout",
     "output_type": "stream",
     "text": [
      "############ Assignment 4 Section A Question 6 BEGIN ############\n",
      "############ Assignment 4 Section A Question 6 END ############\n"
     ]
    }
   ],
   "source": [
    "print(\"############ Assignment 4 Section A Question 6 BEGIN ############\")\n",
    "\n",
    "print(\"############ Assignment 4 Section A Question 6 END ############\")"
   ]
  },
  {
   "cell_type": "markdown",
   "id": "b3db6f8c-0afa-4adb-8d0e-f3f0f8efc8d6",
   "metadata": {},
   "source": [
    "# Question 7\n",
    "## Create a MinMaxScaler (from sklearn.preprocessing) and use it to scale your training and test features. Train your best-performing decision tree regressor (from A.2 or A.5) on this scaled data. Report the test R2. Is the R2 score is identical to the score you got on the unscaled data? In Lab 2, you saw that scaling dramatically impacted other models' performance. Explain, with reference to the fundamental splitting mechanism of a decision tree, why it is immune to this type of feature scaling."
   ]
  },
  {
   "cell_type": "code",
   "execution_count": 17,
   "id": "b466b6bf-d0ed-4f6b-ab4a-3c106eda1d20",
   "metadata": {},
   "outputs": [
    {
     "name": "stdout",
     "output_type": "stream",
     "text": [
      "############ Assignment 4 Section A Question 7 BEGIN ############\n",
      "############ Assignment 4 Section A Question 7 END ############\n"
     ]
    }
   ],
   "source": [
    "print(\"############ Assignment 4 Section A Question 7 BEGIN ############\")\n",
    "\n",
    "print(\"############ Assignment 4 Section A Question 7 END ############\")"
   ]
  },
  {
   "cell_type": "markdown",
   "id": "7bb52cf5-36ec-4811-8978-311a9337ed67",
   "metadata": {},
   "source": [
    "# Section 2"
   ]
  },
  {
   "cell_type": "markdown",
   "id": "911f905a-2b5d-44a1-a477-5918acd63969",
   "metadata": {},
   "source": [
    "# Question 1\n",
    "## The goal is now to predict a price category. Using pandas.qcut, discretize the target variable y into four categories based on its quantiles. Use the labels ['Low', 'Medium', 'High', 'Very High']. Create a new train/test split for X and this new categorical target, y_cat. Remember to use random_state=0 and include stratify=y_cat in your train_test_split function to maintain class proportions. Report the value counts of your new categorical target variable. What is the advantage of using qcut (quantile-based cutting) versus cut (equal-width cutting) for this task?"
   ]
  },
  {
   "cell_type": "code",
   "execution_count": 18,
   "id": "1c9171bc-ce0d-4a3a-9a85-bcfc33d4cd0f",
   "metadata": {},
   "outputs": [
    {
     "name": "stdout",
     "output_type": "stream",
     "text": [
      "############ Assignment 4 Section B Question 1 BEGIN ############\n",
      "############ Assignment 4 Section B Question 1 END ############\n"
     ]
    }
   ],
   "source": [
    "print(\"############ Assignment 4 Section B Question 1 BEGIN ############\")\n",
    "\n",
    "print(\"############ Assignment 4 Section B Question 1 END ############\")"
   ]
  },
  {
   "cell_type": "markdown",
   "id": "3a0a81c4-9cfe-4b40-9f09-6dc1771dd910",
   "metadata": {},
   "source": [
    "# Question 2\n",
    "## Train a default DecisionTreeClassifier (random_state=0) on the new training data. Report its accuracy on the test set. What is a key indicator from the model's attributes (e.g., by calling get_depth() or get_n_leaves()) that would suggest it has grown to be overly complex? Do you think this model is overfitting?"
   ]
  },
  {
   "cell_type": "code",
   "execution_count": 19,
   "id": "d5b46218-3927-4253-8e96-0152cde24e8f",
   "metadata": {},
   "outputs": [
    {
     "name": "stdout",
     "output_type": "stream",
     "text": [
      "############ Assignment 4 Section B Question 2 BEGIN ############\n",
      "############ Assignment 4 Section B Question 2 END ############\n"
     ]
    }
   ],
   "source": [
    "print(\"############ Assignment 4 Section B Question 2 BEGIN ############\")\n",
    "\n",
    "print(\"############ Assignment 4 Section B Question 2 END ############\")"
   ]
  },
  {
   "cell_type": "markdown",
   "id": "50ab1c90-9926-4a81-9bf7-12a8d44a001f",
   "metadata": {},
   "source": [
    "# Question 3\n",
    "## Train a new DecisionTreeClassifier with max_depth=5 and random_state=0. Report its test accuracy and generate a visualized confusion matrix for its predictions on the test set using ConfusionMatrixDisplay. Interpret the confusion matrix. Which price category does the model struggle with the most (i.e., which true label has the most misclassifications into other categories)? Provide a hypothesis for why this might be the case."
   ]
  },
  {
   "cell_type": "code",
   "execution_count": 20,
   "id": "449e14be-f421-4d72-9c47-e0c38f190a0e",
   "metadata": {},
   "outputs": [
    {
     "name": "stdout",
     "output_type": "stream",
     "text": [
      "############ Assignment 4 Section B Question 3 BEGIN ############\n",
      "############ Assignment 4 Section B Question 3 END ############\n"
     ]
    }
   ],
   "source": [
    "print(\"############ Assignment 4 Section B Question 3 BEGIN ############\")\n",
    "\n",
    "print(\"############ Assignment 4 Section B Question 3 END ############\")"
   ]
  },
  {
   "cell_type": "markdown",
   "id": "d848d471-9a36-48e8-8057-d86556015c96",
   "metadata": {},
   "source": [
    "# Question 4\n",
    "## Train one more DecisionTreeClassifier with max_depth=5 and random_state=0, but this time set the hyperparameter criterion='entropy'. Report its test accuracy. Compare the accuracy of the 'entropy' model to the 'gini' model from B.3. In practice, the performance difference is often negligible. Briefly explain the conceptual goal of both Gini Impurity and Information Gain (derived from entropy) in the context of finding the best split in a tree."
   ]
  },
  {
   "cell_type": "code",
   "execution_count": 21,
   "id": "7e0b6786-d0d6-4338-baa5-abc8d6a33cce",
   "metadata": {},
   "outputs": [
    {
     "name": "stdout",
     "output_type": "stream",
     "text": [
      "############ Assignment 4 Section B Question 4 BEGIN ############\n",
      "############ Assignment 4 Section B Question 4 END ############\n"
     ]
    }
   ],
   "source": [
    "print(\"############ Assignment 4 Section B Question 4 BEGIN ############\")\n",
    "\n",
    "print(\"############ Assignment 4 Section B Question 4 END ############\")"
   ]
  },
  {
   "cell_type": "markdown",
   "id": "113f1736-2666-4d51-8367-cefe55732357",
   "metadata": {},
   "source": [
    "# Question 5\n",
    "## Extract and plot the feature_importances_ from your best-performing classification tree (max_depth=5, Gini). Create a sorted horizontal bar chart. Visually compare this feature importance plot to the one you generated for the regression tree in A.4. Are the top three most important features the same? If not, propose a reason why a feature's importance might change when the problem is reframed from predicting an exact value to predicting a category."
   ]
  },
  {
   "cell_type": "code",
   "execution_count": 22,
   "id": "a6bbcf4e-13ec-4512-8096-ac40facfa466",
   "metadata": {},
   "outputs": [
    {
     "name": "stdout",
     "output_type": "stream",
     "text": [
      "############ Assignment 4 Section B Question 5 BEGIN ############\n",
      "############ Assignment 4 Section B Question 5 END ############\n"
     ]
    }
   ],
   "source": [
    "print(\"############ Assignment 4 Section B Question 5 BEGIN ############\")\n",
    "\n",
    "print(\"############ Assignment 4 Section B Question 5 END ############\")"
   ]
  },
  {
   "cell_type": "markdown",
   "id": "0d338703-f3ee-42b6-859a-bb51768a1201",
   "metadata": {},
   "source": [
    "# Question 6\n",
    "## You have now modeled California housing prices as both a regression and a classification problem using the same underlying algorithm. Discuss the trade-offs of these two approaches. Describe a specific business problem for a real estate company that would be better served by the classification model. Then, describe a different problem for a government agency that would absolutely require the regression model."
   ]
  },
  {
   "cell_type": "code",
   "execution_count": 23,
   "id": "a487edf6-efc1-4888-a67d-56c029b8e4a5",
   "metadata": {},
   "outputs": [
    {
     "name": "stdout",
     "output_type": "stream",
     "text": [
      "############ Assignment 4 Section B Question 6 BEGIN ############\n",
      "############ Assignment 4 Section B Question 6 END ############\n"
     ]
    }
   ],
   "source": [
    "print(\"############ Assignment 4 Section B Question 6 BEGIN ############\")\n",
    "\n",
    "print(\"############ Assignment 4 Section B Question 6 END ############\")"
   ]
  }
 ],
 "metadata": {
  "kernelspec": {
   "display_name": "Python 3 (ipykernel)",
   "language": "python",
   "name": "python3"
  },
  "language_info": {
   "codemirror_mode": {
    "name": "ipython",
    "version": 3
   },
   "file_extension": ".py",
   "mimetype": "text/x-python",
   "name": "python",
   "nbconvert_exporter": "python",
   "pygments_lexer": "ipython3",
   "version": "3.13.5"
  }
 },
 "nbformat": 4,
 "nbformat_minor": 5
}
