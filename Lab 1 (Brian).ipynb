{
 "cells": [
  {
   "cell_type": "code",
   "execution_count": 15,
   "id": "e7f46261-35e3-46c7-9599-e92399ebfd1c",
   "metadata": {},
   "outputs": [],
   "source": [
    "import numpy as np\n",
    "import matplotlib.pyplot as plt\n",
    "import pandas as pd\n",
    "import mglearn\n",
    "from IPython.display import display"
   ]
  },
  {
   "cell_type": "code",
   "execution_count": 52,
   "id": "926ee4e9-5374-40c7-aef9-2cea33c84cac",
   "metadata": {},
   "outputs": [],
   "source": [
    "from ucimlrepo import fetch_ucirepo \n",
    "# fetch dataset \n",
    "wine_quality = fetch_ucirepo(id=186) \n",
    "# data (as pandas dataframes) \n",
    "X = wine_quality.data.features \n",
    "y = wine_quality.data.targets['quality']"
   ]
  },
  {
   "cell_type": "code",
   "execution_count": 94,
   "id": "6c70fd95-a15c-4e51-b3ba-d43876602368",
   "metadata": {},
   "outputs": [
    {
     "ename": "AttributeError",
     "evalue": "'Series' object has no attribute 'range'",
     "output_type": "error",
     "traceback": [
      "\u001b[1;31m---------------------------------------------------------------------------\u001b[0m",
      "\u001b[1;31mAttributeError\u001b[0m                            Traceback (most recent call last)",
      "\u001b[1;32m~\\AppData\\Local\\Temp\\ipykernel_17536\\990441810.py\u001b[0m in \u001b[0;36m?\u001b[1;34m()\u001b[0m\n\u001b[1;32m----> 1\u001b[1;33m \u001b[0mprint\u001b[0m\u001b[1;33m(\u001b[0m\u001b[0mwine_quality\u001b[0m\u001b[1;33m.\u001b[0m\u001b[0mdata\u001b[0m\u001b[1;33m.\u001b[0m\u001b[0mtargets\u001b[0m\u001b[1;33m[\u001b[0m\u001b[1;34m'quality'\u001b[0m\u001b[1;33m]\u001b[0m\u001b[1;33m.\u001b[0m\u001b[0mrange\u001b[0m\u001b[1;33m(\u001b[0m\u001b[1;33m)\u001b[0m\u001b[1;33m)\u001b[0m\u001b[1;33m\u001b[0m\u001b[1;33m\u001b[0m\u001b[0m\n\u001b[0m",
      "\u001b[1;32mD:\\Users\\16697\\Anaconda\\Lib\\site-packages\\pandas\\core\\generic.py\u001b[0m in \u001b[0;36m?\u001b[1;34m(self, name)\u001b[0m\n\u001b[0;32m   6295\u001b[0m             \u001b[1;32mand\u001b[0m \u001b[0mname\u001b[0m \u001b[1;32mnot\u001b[0m \u001b[1;32min\u001b[0m \u001b[0mself\u001b[0m\u001b[1;33m.\u001b[0m\u001b[0m_accessors\u001b[0m\u001b[1;33m\u001b[0m\u001b[1;33m\u001b[0m\u001b[0m\n\u001b[0;32m   6296\u001b[0m             \u001b[1;32mand\u001b[0m \u001b[0mself\u001b[0m\u001b[1;33m.\u001b[0m\u001b[0m_info_axis\u001b[0m\u001b[1;33m.\u001b[0m\u001b[0m_can_hold_identifiers_and_holds_name\u001b[0m\u001b[1;33m(\u001b[0m\u001b[0mname\u001b[0m\u001b[1;33m)\u001b[0m\u001b[1;33m\u001b[0m\u001b[1;33m\u001b[0m\u001b[0m\n\u001b[0;32m   6297\u001b[0m         \u001b[1;33m)\u001b[0m\u001b[1;33m:\u001b[0m\u001b[1;33m\u001b[0m\u001b[1;33m\u001b[0m\u001b[0m\n\u001b[0;32m   6298\u001b[0m             \u001b[1;32mreturn\u001b[0m \u001b[0mself\u001b[0m\u001b[1;33m[\u001b[0m\u001b[0mname\u001b[0m\u001b[1;33m]\u001b[0m\u001b[1;33m\u001b[0m\u001b[1;33m\u001b[0m\u001b[0m\n\u001b[1;32m-> 6299\u001b[1;33m         \u001b[1;32mreturn\u001b[0m \u001b[0mobject\u001b[0m\u001b[1;33m.\u001b[0m\u001b[0m__getattribute__\u001b[0m\u001b[1;33m(\u001b[0m\u001b[0mself\u001b[0m\u001b[1;33m,\u001b[0m \u001b[0mname\u001b[0m\u001b[1;33m)\u001b[0m\u001b[1;33m\u001b[0m\u001b[1;33m\u001b[0m\u001b[0m\n\u001b[0m",
      "\u001b[1;31mAttributeError\u001b[0m: 'Series' object has no attribute 'range'"
     ]
    }
   ],
   "source": [
    "print(wine_quality.data.targets['quality'])"
   ]
  },
  {
   "cell_type": "code",
   "execution_count": 53,
   "id": "c3530613-3d7a-4ad6-9d34-a6b30e80bad5",
   "metadata": {},
   "outputs": [
    {
     "name": "stdout",
     "output_type": "stream",
     "text": [
      "############ Assignment 1 Question 1 BEGIN ############\n",
      "color\n",
      "white    4898\n",
      "red      1599\n",
      "Name: count, dtype: int64\n",
      "############ Assignment 1 Question 1 END ############\n"
     ]
    }
   ],
   "source": [
    "print(\"############ Assignment 1 Question 1 BEGIN ############\")\n",
    "print(wine_quality.data.original['color'].value_counts())\n",
    "print(\"############ Assignment 1 Question 1 END ############\")"
   ]
  },
  {
   "cell_type": "code",
   "execution_count": 54,
   "id": "903c9935-4930-4246-8bcc-0ea4032b3a72",
   "metadata": {},
   "outputs": [
    {
     "name": "stdout",
     "output_type": "stream",
     "text": [
      "############ Assignment 1 Question 2 BEGIN ############\n",
      "############ Assignment 1 Question 2a BEGIN ############\n",
      "Test set predictions: [6 6 6 ... 5 6 5]\n",
      "Test set accuracy: 0.58\n"
     ]
    }
   ],
   "source": [
    "print(\"############ Assignment 1 Question 2 BEGIN ############\")\n",
    "from sklearn.model_selection import train_test_split\n",
    "X_train, X_test, y_train, y_test = train_test_split(X, y, test_size=0.25, train_size=0.75, random_state=0)\n",
    "from sklearn.neighbors import KNeighborsClassifier\n",
    "\n",
    "print(\"############ Assignment 1 Question 2a BEGIN ############\")\n",
    "clf = KNeighborsClassifier(n_neighbors=1)\n",
    "clf.fit(X_train, y_train)\n",
    "print(\"Test set predictions:\", clf.predict(X_test))\n",
    "print(\"Test set accuracy: {:.2f}\".format(clf.score(X_test, y_test)))"
   ]
  },
  {
   "cell_type": "code",
   "execution_count": 55,
   "id": "900783a8-1118-4eb4-a3be-cb1a55951d46",
   "metadata": {},
   "outputs": [
    {
     "name": "stdout",
     "output_type": "stream",
     "text": [
      "############ Assignment 1 Question 2a BEGIN ############\n",
      "Test set predictions: [6 6 6 ... 5 6 6]\n",
      "Test set accuracy: 0.48\n"
     ]
    }
   ],
   "source": [
    "print(\"############ Assignment 1 Question 2b BEGIN ############\")\n",
    "clf = KNeighborsClassifier(n_neighbors=3)\n",
    "clf.fit(X_train, y_train)\n",
    "print(\"Test set predictions:\", clf.predict(X_test))\n",
    "print(\"Test set accuracy: {:.2f}\".format(clf.score(X_test, y_test)))"
   ]
  },
  {
   "cell_type": "code",
   "execution_count": 56,
   "id": "bd30784a-4f65-41a7-a529-d72aa46c609a",
   "metadata": {},
   "outputs": [
    {
     "name": "stdout",
     "output_type": "stream",
     "text": [
      "############ Assignment 1 Question 2a BEGIN ############\n",
      "Test set predictions: [6 6 6 ... 6 6 6]\n",
      "Test set accuracy: 0.48\n"
     ]
    }
   ],
   "source": [
    "print(\"############ Assignment 1 Question 2c BEGIN ############\")\n",
    "clf = KNeighborsClassifier(n_neighbors=5)\n",
    "clf.fit(X_train, y_train)\n",
    "print(\"Test set predictions:\", clf.predict(X_test))\n",
    "print(\"Test set accuracy: {:.2f}\".format(clf.score(X_test, y_test)))\n",
    "print(\"############ Assignment 1 Question 2 END ############\")"
   ]
  },
  {
   "cell_type": "code",
   "execution_count": 66,
   "id": "ab2ea11d-08bc-4847-80cf-1cb8ce1dec3d",
   "metadata": {},
   "outputs": [
    {
     "name": "stdout",
     "output_type": "stream",
     "text": [
      "############ Assignment 1 Question 3 BEGIN ############\n"
     ]
    }
   ],
   "source": [
    "print(\"############ Assignment 1 Question 3 BEGIN ############\")\n",
    "from sklearn.neighbors import KNeighborsRegressor\n",
    "X_train, X_test, y_train, y_test = train_test_split(X, y, test_size=0.25, train_size=0.75, random_state=0)"
   ]
  },
  {
   "cell_type": "code",
   "execution_count": 67,
   "id": "e7786815-5b29-4ccf-b884-6e8cf954f810",
   "metadata": {},
   "outputs": [
    {
     "name": "stdout",
     "output_type": "stream",
     "text": [
      "############ Assignment 1 Question 3a BEGIN ############\n",
      "Test set predictions:\n",
      " [6. 6. 6. ... 5. 6. 5.]\n",
      "Test set R^2: -0.02\n"
     ]
    }
   ],
   "source": [
    "print(\"############ Assignment 1 Question 3a BEGIN ############\")\n",
    "reg = KNeighborsRegressor(n_neighbors=1)\n",
    "reg.fit(X_train, y_train)\n",
    "print(\"Test set predictions:\\n\", reg.predict(X_test))\n",
    "print(\"Test set R^2: {:.2f}\".format(reg.score(X_test, y_test)))"
   ]
  },
  {
   "cell_type": "code",
   "execution_count": 68,
   "id": "24662b52-7a7b-432c-9195-572cf86e9952",
   "metadata": {},
   "outputs": [
    {
     "name": "stdout",
     "output_type": "stream",
     "text": [
      "############ Assignment 1 Question 3b BEGIN ############\n",
      "Test set predictions:\n",
      " [5.66666667 6.         6.         ... 5.33333333 6.         5.66666667]\n",
      "Test set R^2: 0.10\n"
     ]
    }
   ],
   "source": [
    "print(\"############ Assignment 1 Question 3b BEGIN ############\")\n",
    "reg = KNeighborsRegressor(n_neighbors=3)\n",
    "reg.fit(X_train, y_train)\n",
    "print(\"Test set predictions:\\n\", reg.predict(X_test))\n",
    "print(\"Test set R^2: {:.2f}\".format(reg.score(X_test, y_test)))"
   ]
  },
  {
   "cell_type": "code",
   "execution_count": 69,
   "id": "b3c1c9d9-3c29-4223-9a0e-c3fe0758ba6a",
   "metadata": {},
   "outputs": [
    {
     "name": "stdout",
     "output_type": "stream",
     "text": [
      "############ Assignment 1 Question 3c BEGIN ############\n",
      "Test set predictions:\n",
      " [5.6 6.4 5.6 ... 5.6 6.  5.6]\n",
      "Test set R^2: 0.14\n"
     ]
    }
   ],
   "source": [
    "print(\"############ Assignment 1 Question 3c BEGIN ############\")\n",
    "reg = KNeighborsRegressor(n_neighbors=5)\n",
    "reg.fit(X_train, y_train)\n",
    "print(\"Test set predictions:\\n\", reg.predict(X_test))\n",
    "print(\"Test set R^2: {:.2f}\".format(reg.score(X_test, y_test)))"
   ]
  },
  {
   "cell_type": "code",
   "execution_count": 80,
   "id": "07411219-86d4-4792-a0bf-c57afd952f18",
   "metadata": {},
   "outputs": [
    {
     "name": "stdout",
     "output_type": "stream",
     "text": [
      "############ Assignment 1 Question 3d BEGIN ############\n",
      "At 5 neighbors, the R-square hit its highest level.\n",
      "############ Assignment 1 Question 3 END ############\n"
     ]
    }
   ],
   "source": [
    "print(\"############ Assignment 1 Question 3d BEGIN ############\")\n",
    "print(\"At 5 neighbors, the R-square hit its highest level.\")\n",
    "print(\"############ Assignment 1 Question 3 END ############\")"
   ]
  },
  {
   "cell_type": "code",
   "execution_count": null,
   "id": "ecdcf4d1-7c11-42a9-95ed-c27d930a4b5d",
   "metadata": {},
   "outputs": [],
   "source": [
    "print(\"############ Assignment 1 Question 4 BEGIN ############\")\n",
    "# TBD\n",
    "print(\"############ Assignment 1 Question 4 END ############\")"
   ]
  },
  {
   "cell_type": "code",
   "execution_count": 88,
   "id": "43df7214-a90b-4591-848f-6bb9b6078f7a",
   "metadata": {},
   "outputs": [
    {
     "name": "stdout",
     "output_type": "stream",
     "text": [
      "############ Assignment 1 Question 5 BEGIN ############\n",
      "KNN Classifier treats Wine Quality like a nominal variable.\n",
      "The KNN Regressor treats Wine Quality like ordinal variable.\n",
      "KNN Regressor is better suited than KNN Classifier, because there is a clear, meaningful ranking. Higher wine qualities are better than lower values.\n",
      "KNN Classifier would treat each level of wine quality the same and having no intrinsic order.\n",
      "############ Assignment 1 Question 5 END ############\n"
     ]
    }
   ],
   "source": [
    "print(\"############ Assignment 1 Question 5 BEGIN ############\")\n",
    "print(\"KNN Classifier treats Wine Quality like a nominal variable.\")\n",
    "print(\"The KNN Regressor treats Wine Quality like ordinal variable.\") \n",
    "print(\"KNN Regressor is better suited than KNN Classifier, because there is a clear, meaningful ranking. Higher wine qualities are better than lower values.\")\n",
    "print(\"KNN Classifier would treat each level of wine quality the same and as having no intrinsic order.\")\n",
    "print(\"############ Assignment 1 Question 5 END ############\")"
   ]
  },
  {
   "cell_type": "code",
   "execution_count": null,
   "id": "d1faf04e-b70a-4c4c-be2d-97a4784481af",
   "metadata": {},
   "outputs": [],
   "source": []
  }
 ],
 "metadata": {
  "kernelspec": {
   "display_name": "Python [conda env:base] *",
   "language": "python",
   "name": "conda-base-py"
  },
  "language_info": {
   "codemirror_mode": {
    "name": "ipython",
    "version": 3
   },
   "file_extension": ".py",
   "mimetype": "text/x-python",
   "name": "python",
   "nbconvert_exporter": "python",
   "pygments_lexer": "ipython3",
   "version": "3.12.7"
  }
 },
 "nbformat": 4,
 "nbformat_minor": 5
}
