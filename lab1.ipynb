{
 "cells": [
  {
   "cell_type": "markdown",
   "id": "ebba4911",
   "metadata": {},
   "source": [
    "# General Preamble Code"
   ]
  },
  {
   "cell_type": "code",
   "execution_count": 1,
   "id": "1e963998",
   "metadata": {},
   "outputs": [],
   "source": [
    "\n",
    "import numpy as np\n",
    "import matplotlib.pyplot as plt\n",
    "import pandas as pd\n",
    "import mglearn\n",
    "from IPython.display import display\n"
   ]
  },
  {
   "cell_type": "markdown",
   "id": "1b159884",
   "metadata": {},
   "source": [
    "# Additional Import Code for dataset W"
   ]
  },
  {
   "cell_type": "code",
   "execution_count": 2,
   "id": "3ceb81b7",
   "metadata": {},
   "outputs": [],
   "source": [
    "from ucimlrepo import fetch_ucirepo \n",
    "# fetch dataset \n",
    "wine_quality = fetch_ucirepo(id=186) \n",
    "# data (as pandas dataframes) \n",
    "X = wine_quality.data.features \n",
    "y = wine_quality.data.targets['quality']\n"
   ]
  },
  {
   "cell_type": "markdown",
   "id": "19b9590f",
   "metadata": {},
   "source": [
    "# Question 1: \n",
    "## How many red and white wines are in the dataset W?"
   ]
  },
  {
   "cell_type": "code",
   "execution_count": 3,
   "id": "e6849afe",
   "metadata": {},
   "outputs": [
    {
     "data": {
      "text/plain": [
       "color\n",
       "white    4898\n",
       "red      1599\n",
       "Name: count, dtype: int64"
      ]
     },
     "metadata": {},
     "output_type": "display_data"
    }
   ],
   "source": [
    "wine_counts = wine_quality.data.original['color'].value_counts()\n",
    "display(wine_counts)"
   ]
  },
  {
   "cell_type": "markdown",
   "id": "2b38285c",
   "metadata": {},
   "source": [
    "# Question 2:\n",
    "## Let’s model quality as a “classification” problem first– where a wine could be classified into 10-point-scale quality integer score. \n",
    "### a. What is the raw KNN score if you did a standard 75%/25% train/test split on the wine quality prediction with 1 neighbor? "
   ]
  },
  {
   "cell_type": "code",
   "execution_count": null,
   "id": "07dd907c",
   "metadata": {},
   "outputs": [],
   "source": []
  },
  {
   "cell_type": "markdown",
   "id": "b4de8ac6",
   "metadata": {},
   "source": [
    "### b. How does it change with 3 neighbors? "
   ]
  },
  {
   "cell_type": "code",
   "execution_count": null,
   "id": "36fa5634",
   "metadata": {},
   "outputs": [],
   "source": []
  },
  {
   "cell_type": "markdown",
   "id": "6632c17d",
   "metadata": {},
   "source": [
    "### c. With 5 neighbors?"
   ]
  },
  {
   "cell_type": "markdown",
   "id": "0d546e68",
   "metadata": {},
   "source": []
  },
  {
   "cell_type": "markdown",
   "id": "3da8b943",
   "metadata": {},
   "source": [
    "# Question 3\n",
    "## Let’s model quality as a “regression” problem now– where a wine could get a floating point quality score (no rounding) on a 10-point-scale quality score. \n",
    "### a. What is the raw KNN score if you did a standard 75%/25% train/test split on the wine quality prediction with 1 neighbor? \n"
   ]
  },
  {
   "cell_type": "code",
   "execution_count": null,
   "id": "7d9b1911",
   "metadata": {},
   "outputs": [],
   "source": []
  },
  {
   "cell_type": "markdown",
   "id": "67186560",
   "metadata": {},
   "source": [
    "### b. With 3 neighbors?"
   ]
  },
  {
   "cell_type": "code",
   "execution_count": null,
   "id": "3e3e7c38",
   "metadata": {},
   "outputs": [],
   "source": []
  },
  {
   "cell_type": "markdown",
   "id": "8ce9eb20",
   "metadata": {},
   "source": [
    "### c. With 5 neighbors?"
   ]
  },
  {
   "cell_type": "code",
   "execution_count": null,
   "id": "b50a9a1a",
   "metadata": {},
   "outputs": [],
   "source": []
  },
  {
   "cell_type": "markdown",
   "id": "3a641650",
   "metadata": {},
   "source": [
    "### d. At how many neighbors does the R-square hit its highest level?"
   ]
  },
  {
   "cell_type": "markdown",
   "id": "da172fb5",
   "metadata": {},
   "source": []
  }
 ],
 "metadata": {
  "kernelspec": {
   "display_name": "base",
   "language": "python",
   "name": "python3"
  },
  "language_info": {
   "codemirror_mode": {
    "name": "ipython",
    "version": 3
   },
   "file_extension": ".py",
   "mimetype": "text/x-python",
   "name": "python",
   "nbconvert_exporter": "python",
   "pygments_lexer": "ipython3",
   "version": "3.10.9"
  }
 },
 "nbformat": 4,
 "nbformat_minor": 5
}
