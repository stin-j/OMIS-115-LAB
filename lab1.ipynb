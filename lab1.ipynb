{
 "cells": [
  {
   "cell_type": "markdown",
   "id": "72c563e3",
   "metadata": {},
   "source": [
    "# Preamble Code"
   ]
  },
  {
   "cell_type": "code",
<<<<<<< Updated upstream
<<<<<<< Updated upstream
<<<<<<< Updated upstream
   "execution_count": null,
   "id": "078317ae-9d18-4df8-9aa3-baa707fd7311",
   "metadata": {},
   "outputs": [],
=======
=======
>>>>>>> Stashed changes
=======
>>>>>>> Stashed changes
   "execution_count": 1,
   "id": "078317ae-9d18-4df8-9aa3-baa707fd7311",
   "metadata": {},
   "outputs": [
    {
     "name": "stdout",
     "output_type": "stream",
     "text": [
      "Requirement already satisfied: numpy in /Users/fustin/miniconda/lib/python3.10/site-packages (2.2.6)\n",
      "Requirement already satisfied: matplotlib in /Users/fustin/miniconda/lib/python3.10/site-packages (3.10.6)\n",
      "Requirement already satisfied: pandas in /Users/fustin/miniconda/lib/python3.10/site-packages (2.3.3)\n",
      "Requirement already satisfied: scikit-learn in /Users/fustin/miniconda/lib/python3.10/site-packages (1.7.2)\n",
      "Requirement already satisfied: mglearn in /Users/fustin/miniconda/lib/python3.10/site-packages (0.2.0)\n",
      "Requirement already satisfied: ucimlrepo in /Users/fustin/miniconda/lib/python3.10/site-packages (0.0.7)\n",
      "Requirement already satisfied: pillow>=8 in /Users/fustin/miniconda/lib/python3.10/site-packages (from matplotlib) (11.3.0)\n",
      "Requirement already satisfied: fonttools>=4.22.0 in /Users/fustin/miniconda/lib/python3.10/site-packages (from matplotlib) (4.60.1)\n",
      "Requirement already satisfied: contourpy>=1.0.1 in /Users/fustin/miniconda/lib/python3.10/site-packages (from matplotlib) (1.3.2)\n",
      "Requirement already satisfied: cycler>=0.10 in /Users/fustin/miniconda/lib/python3.10/site-packages (from matplotlib) (0.12.1)\n",
      "Requirement already satisfied: kiwisolver>=1.3.1 in /Users/fustin/miniconda/lib/python3.10/site-packages (from matplotlib) (1.4.9)\n",
      "Requirement already satisfied: pyparsing>=2.3.1 in /Users/fustin/miniconda/lib/python3.10/site-packages (from matplotlib) (3.2.5)\n",
      "Requirement already satisfied: python-dateutil>=2.7 in /Users/fustin/miniconda/lib/python3.10/site-packages (from matplotlib) (2.9.0.post0)\n",
      "Requirement already satisfied: packaging>=20.0 in /Users/fustin/miniconda/lib/python3.10/site-packages (from matplotlib) (25.0)\n",
      "Requirement already satisfied: pytz>=2020.1 in /Users/fustin/miniconda/lib/python3.10/site-packages (from pandas) (2025.2)\n",
      "Requirement already satisfied: tzdata>=2022.7 in /Users/fustin/miniconda/lib/python3.10/site-packages (from pandas) (2025.2)\n",
      "Requirement already satisfied: scipy>=1.8.0 in /Users/fustin/miniconda/lib/python3.10/site-packages (from scikit-learn) (1.15.3)\n",
      "Requirement already satisfied: joblib>=1.2.0 in /Users/fustin/miniconda/lib/python3.10/site-packages (from scikit-learn) (1.5.2)\n",
      "Requirement already satisfied: threadpoolctl>=3.1.0 in /Users/fustin/miniconda/lib/python3.10/site-packages (from scikit-learn) (3.6.0)\n",
      "Requirement already satisfied: imageio in /Users/fustin/miniconda/lib/python3.10/site-packages (from mglearn) (2.37.0)\n",
      "Requirement already satisfied: certifi>=2020.12.5 in /Users/fustin/miniconda/lib/python3.10/site-packages (from ucimlrepo) (2025.4.26)\n",
      "Requirement already satisfied: six>=1.5 in /Users/fustin/miniconda/lib/python3.10/site-packages (from python-dateutil>=2.7->matplotlib) (1.16.0)\n",
      "Note: you may need to restart the kernel to use updated packages.\n"
     ]
    }
   ],
>>>>>>> Stashed changes
   "source": [
    "%pip install --upgrade numpy matplotlib pandas scikit-learn mglearn ucimlrepo\n",
    "import numpy as np\n",
    "import matplotlib.pyplot as plt\n",
    "import pandas as pd\n",
    "import mglearn\n",
    "from IPython.display import display\n",
<<<<<<< Updated upstream
<<<<<<< Updated upstream
<<<<<<< Updated upstream
    "from ucimlrepo import fetch_ucirepo"
=======
=======
>>>>>>> Stashed changes
=======
>>>>>>> Stashed changes
    "from ucimlrepo import fetch_ucirepo\n"
   ]
  },
  {
   "cell_type": "markdown",
   "id": "14d9ece6",
   "metadata": {},
   "source": [
    "# Additional import code for dataset W"
<<<<<<< Updated upstream
<<<<<<< Updated upstream
>>>>>>> Stashed changes
=======
>>>>>>> Stashed changes
=======
>>>>>>> Stashed changes
   ]
  },
  {
   "cell_type": "code",
<<<<<<< Updated upstream
<<<<<<< Updated upstream
<<<<<<< Updated upstream
   "execution_count": 19,
=======
   "execution_count": 2,
>>>>>>> Stashed changes
=======
   "execution_count": 2,
>>>>>>> Stashed changes
=======
   "execution_count": 2,
>>>>>>> Stashed changes
   "id": "b7276f1b-e6d5-49b3-ba9b-e420717c8657",
   "metadata": {},
   "outputs": [],
   "source": [
    "from ucimlrepo import fetch_ucirepo\n",
    "\n",
    "# fetch dataset \n",
    "wine_quality = fetch_ucirepo(id=186) \n",
    "  \n",
    "# data (as pandas dataframes) \n",
    "X = wine_quality.data.features \n",
    "y = wine_quality.data.targets['quality']"
   ]
  },
  {
   "cell_type": "markdown",
   "id": "0a82517e",
   "metadata": {},
   "source": [
    "## Question 1: How many red and white wines are in the dataset W?"
   ]
  },
  {
   "cell_type": "code",
<<<<<<< Updated upstream
<<<<<<< Updated upstream
<<<<<<< Updated upstream
   "execution_count": 20,
=======
=======
>>>>>>> Stashed changes
=======
>>>>>>> Stashed changes
   "execution_count": 5,
   "id": "0cd5d851",
   "metadata": {},
   "outputs": [
    {
     "name": "stdout",
     "output_type": "stream",
     "text": [
      "color\n",
      "white    4898\n",
      "red      1599\n",
      "Name: count, dtype: int64\n"
     ]
    }
   ],
   "source": [
    "color_counts = wine_quality.data.original['color'].value_counts()\n",
    "print(color_counts)\n"
   ]
  },
  {
   "cell_type": "markdown",
   "id": "509f89ea",
   "metadata": {},
   "source": []
  },
  {
   "cell_type": "code",
   "execution_count": 3,
<<<<<<< Updated upstream
<<<<<<< Updated upstream
>>>>>>> Stashed changes
=======
>>>>>>> Stashed changes
=======
>>>>>>> Stashed changes
   "id": "eaefddca-d616-4086-98a4-5a1557d87b67",
   "metadata": {},
   "outputs": [
    {
     "name": "stdout",
     "output_type": "stream",
     "text": [
      "{'uci_id': 186, 'name': 'Wine Quality', 'repository_url': 'https://archive.ics.uci.edu/dataset/186/wine+quality', 'data_url': 'https://archive.ics.uci.edu/static/public/186/data.csv', 'abstract': 'Two datasets are included, related to red and white vinho verde wine samples, from the north of Portugal. The goal is to model wine quality based on physicochemical tests (see [Cortez et al., 2009], http://www3.dsi.uminho.pt/pcortez/wine/).', 'area': 'Business', 'tasks': ['Classification', 'Regression'], 'characteristics': ['Multivariate'], 'num_instances': 4898, 'num_features': 11, 'feature_types': ['Real'], 'demographics': [], 'target_col': ['quality'], 'index_col': None, 'has_missing_values': 'no', 'missing_values_symbol': None, 'year_of_dataset_creation': 2009, 'last_updated': 'Wed Nov 15 2023', 'dataset_doi': '10.24432/C56S3T', 'creators': ['Paulo Cortez', 'A. Cerdeira', 'F. Almeida', 'T. Matos', 'J. Reis'], 'intro_paper': {'ID': 252, 'type': 'NATIVE', 'title': 'Modeling wine preferences by data mining from physicochemical properties', 'authors': 'P. Cortez, A. Cerdeira, Fernando Almeida, Telmo Matos, J. Reis', 'venue': 'Decision Support Systems', 'year': 2009, 'journal': None, 'DOI': None, 'URL': 'https://www.semanticscholar.org/paper/Modeling-wine-preferences-by-data-mining-from-Cortez-Cerdeira/bf15a0ccc14ac1deb5cea570c870389c16be019c', 'sha': None, 'corpus': None, 'arxiv': None, 'mag': None, 'acl': None, 'pmid': None, 'pmcid': None}, 'additional_info': {'summary': 'The two datasets are related to red and white variants of the Portuguese \"Vinho Verde\" wine. For more details, consult: http://www.vinhoverde.pt/en/ or the reference [Cortez et al., 2009].  Due to privacy and logistic issues, only physicochemical (inputs) and sensory (the output) variables are available (e.g. there is no data about grape types, wine brand, wine selling price, etc.).\\n\\nThese datasets can be viewed as classification or regression tasks.  The classes are ordered and not balanced (e.g. there are many more normal wines than excellent or poor ones). Outlier detection algorithms could be used to detect the few excellent or poor wines. Also, we are not sure if all input variables are relevant. So it could be interesting to test feature selection methods.\\n', 'purpose': None, 'funded_by': None, 'instances_represent': None, 'recommended_data_splits': None, 'sensitive_data': None, 'preprocessing_description': None, 'variable_info': 'For more information, read [Cortez et al., 2009].\\r\\nInput variables (based on physicochemical tests):\\r\\n   1 - fixed acidity\\r\\n   2 - volatile acidity\\r\\n   3 - citric acid\\r\\n   4 - residual sugar\\r\\n   5 - chlorides\\r\\n   6 - free sulfur dioxide\\r\\n   7 - total sulfur dioxide\\r\\n   8 - density\\r\\n   9 - pH\\r\\n   10 - sulphates\\r\\n   11 - alcohol\\r\\nOutput variable (based on sensory data): \\r\\n   12 - quality (score between 0 and 10)', 'citation': None}}\n",
      "                    name     role         type demographic  \\\n",
      "0          fixed_acidity  Feature   Continuous        None   \n",
      "1       volatile_acidity  Feature   Continuous        None   \n",
      "2            citric_acid  Feature   Continuous        None   \n",
      "3         residual_sugar  Feature   Continuous        None   \n",
      "4              chlorides  Feature   Continuous        None   \n",
      "5    free_sulfur_dioxide  Feature   Continuous        None   \n",
      "6   total_sulfur_dioxide  Feature   Continuous        None   \n",
      "7                density  Feature   Continuous        None   \n",
      "8                     pH  Feature   Continuous        None   \n",
      "9              sulphates  Feature   Continuous        None   \n",
      "10               alcohol  Feature   Continuous        None   \n",
      "11               quality   Target      Integer        None   \n",
      "12                 color    Other  Categorical        None   \n",
      "\n",
      "               description units missing_values  \n",
      "0                     None  None             no  \n",
      "1                     None  None             no  \n",
      "2                     None  None             no  \n",
      "3                     None  None             no  \n",
      "4                     None  None             no  \n",
      "5                     None  None             no  \n",
      "6                     None  None             no  \n",
      "7                     None  None             no  \n",
      "8                     None  None             no  \n",
      "9                     None  None             no  \n",
      "10                    None  None             no  \n",
      "11  score between 0 and 10  None             no  \n",
      "12            red or white  None             no  \n"
     ]
    }
   ],
   "source": [
    "# metadata \n",
    "print(wine_quality.metadata) \n",
    "  \n",
    "# variable information\n",
    "print(wine_quality.variables)"
   ]
  },
  {
   "cell_type": "code",
<<<<<<< Updated upstream
<<<<<<< Updated upstream
<<<<<<< Updated upstream
   "execution_count": 21,
=======
   "execution_count": null,
>>>>>>> Stashed changes
=======
   "execution_count": null,
>>>>>>> Stashed changes
=======
   "execution_count": null,
>>>>>>> Stashed changes
   "id": "22e259e9-0ee7-442e-b958-936ad2283cf7",
   "metadata": {},
   "outputs": [],
   "source": [
    "print(\"Keys of wine_quality:\\n\", wine_quality.keys())"
   ]
  },
  {
   "cell_type": "code",
<<<<<<< Updated upstream
<<<<<<< Updated upstream
<<<<<<< Updated upstream
   "execution_count": 22,
=======
   "execution_count": null,
>>>>>>> Stashed changes
=======
   "execution_count": null,
>>>>>>> Stashed changes
=======
   "execution_count": null,
>>>>>>> Stashed changes
   "id": "af2478e0-b602-4f8f-931d-1abddee31b4c",
   "metadata": {},
   "outputs": [],
   "source": [
    "print(type(wine_quality.data))"
   ]
  },
  {
   "cell_type": "code",
<<<<<<< Updated upstream
<<<<<<< Updated upstream
<<<<<<< Updated upstream
   "execution_count": 23,
=======
   "execution_count": null,
>>>>>>> Stashed changes
=======
   "execution_count": null,
>>>>>>> Stashed changes
=======
   "execution_count": null,
>>>>>>> Stashed changes
   "id": "371ef16d-30fd-4039-881c-bb978b1c54f3",
   "metadata": {},
   "outputs": [],
   "source": [
    "print(wine_quality.data)"
   ]
  },
  {
   "cell_type": "code",
<<<<<<< Updated upstream
<<<<<<< Updated upstream
<<<<<<< Updated upstream
   "execution_count": 28,
=======
   "execution_count": null,
>>>>>>> Stashed changes
=======
   "execution_count": null,
>>>>>>> Stashed changes
=======
   "execution_count": null,
>>>>>>> Stashed changes
   "id": "42ba61e1-864e-4e20-84fd-2a863931da2b",
   "metadata": {},
   "outputs": [],
   "source": [
    "print(\"Type of data:\", type(wine_quality.data))"
   ]
  },
  {
   "cell_type": "code",
<<<<<<< Updated upstream
<<<<<<< Updated upstream
<<<<<<< Updated upstream
   "execution_count": 36,
=======
   "execution_count": null,
   "id": "29bace43-1520-4734-90ae-ba3122ecd7bf",
   "metadata": {},
   "outputs": [],
   "source": [
    "print(\"Shape of data:\", wine_quality.data.targets.shape)"
   ]
  },
  {
   "cell_type": "code",
   "execution_count": null,
>>>>>>> Stashed changes
   "id": "2d7f9661-708e-4c45-a0f5-35f8d459c0ce",
   "metadata": {},
   "outputs": [],
   "source": [
    "print(\"Type of target:\", type(wine_quality.data.targets))"
   ]
  },
  {
   "cell_type": "code",
<<<<<<< Updated upstream
   "execution_count": 38,
   "id": "29bace43-1520-4734-90ae-ba3122ecd7bf",
   "metadata": {},
   "outputs": [
    {
     "name": "stdout",
     "output_type": "stream",
     "text": [
      "Shape of data: (6497, 1)\n"
     ]
    }
   ],
=======
   "execution_count": null,
   "id": "b4062c8a-2f79-4dba-a915-d5a6be8615dd",
   "metadata": {},
   "outputs": [],
>>>>>>> Stashed changes
=======
   "execution_count": null,
   "id": "29bace43-1520-4734-90ae-ba3122ecd7bf",
   "metadata": {},
   "outputs": [],
>>>>>>> Stashed changes
=======
   "execution_count": null,
   "id": "29bace43-1520-4734-90ae-ba3122ecd7bf",
   "metadata": {},
   "outputs": [],
>>>>>>> Stashed changes
   "source": [
    "print(\"Shape of data:\", wine_quality.data.targets.shape)"
   ]
  },
  {
   "cell_type": "code",
<<<<<<< Updated upstream
<<<<<<< Updated upstream
   "execution_count": 44,
   "id": "b4062c8a-2f79-4dba-a915-d5a6be8615dd",
   "metadata": {},
   "outputs": [
    {
     "name": "stdout",
     "output_type": "stream",
     "text": [
      "0         red\n",
      "1         red\n",
      "2         red\n",
      "3         red\n",
      "4         red\n",
      "        ...  \n",
      "6492    white\n",
      "6493    white\n",
      "6494    white\n",
      "6495    white\n",
      "6496    white\n",
      "Name: color, Length: 6497, dtype: object\n"
     ]
    }
   ],
=======
   "execution_count": null,
   "id": "2d7f9661-708e-4c45-a0f5-35f8d459c0ce",
   "metadata": {},
   "outputs": [],
>>>>>>> Stashed changes
   "source": [
    "print(wine_quality.data.original['color'])"
=======
   "execution_count": null,
   "id": "2d7f9661-708e-4c45-a0f5-35f8d459c0ce",
   "metadata": {},
   "outputs": [],
   "source": [
    "print(\"Type of target:\", type(wine_quality.data.targets))"
   ]
  },
  {
   "cell_type": "code",
   "execution_count": null,
   "id": "b4062c8a-2f79-4dba-a915-d5a6be8615dd",
   "metadata": {},
   "outputs": [],
   "source": [
    "print(X['color'])"
>>>>>>> Stashed changes
   ]
  },
  {
   "cell_type": "code",
   "execution_count": null,
   "id": "39d6a17b-b547-4208-be3c-34b37c4c13fa",
   "metadata": {},
   "outputs": [],
   "source": []
  },
  {
   "cell_type": "code",
   "execution_count": null,
   "id": "6a32580b",
   "metadata": {},
   "outputs": [],
   "source": []
  },
  {
   "cell_type": "code",
   "execution_count": null,
   "id": "6a32580b",
   "metadata": {},
   "outputs": [],
   "source": []
  },
  {
   "cell_type": "code",
   "execution_count": null,
   "id": "6a32580b",
   "metadata": {},
   "outputs": [],
   "source": []
  }
 ],
 "metadata": {
  "kernelspec": {
   "display_name": "base",
   "language": "python",
   "name": "python3"
  },
  "language_info": {
   "codemirror_mode": {
    "name": "ipython",
    "version": 3
   },
   "file_extension": ".py",
   "mimetype": "text/x-python",
   "name": "python",
   "nbconvert_exporter": "python",
   "pygments_lexer": "ipython3",
   "version": "3.10.9"
  }
 },
 "nbformat": 4,
 "nbformat_minor": 5
}
